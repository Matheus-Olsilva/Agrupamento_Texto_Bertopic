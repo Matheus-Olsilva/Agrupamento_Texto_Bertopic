{
 "cells": [
  {
   "cell_type": "markdown",
   "id": "2ca4588b",
   "metadata": {},
   "source": [
    "## Pipiline para agrupamentos de Texto\n",
    "\n",
    "* Converter os documentos de entrada em embeddings com um modelo de embedding.\n",
    "* Reduzir a dimensionalidade dos embeddings com um modelo de redução de dimensionalidade.\n",
    "* Encontrar grupos de documentos semanticamente similares com um modelo de cluster."
   ]
  },
  {
   "cell_type": "markdown",
   "id": "0bd14fe5",
   "metadata": {},
   "source": [
    "# Preparação dos dados"
   ]
  },
  {
   "cell_type": "code",
   "execution_count": 155,
   "id": "fbc0d5db",
   "metadata": {},
   "outputs": [],
   "source": [
    "import json\n",
    "\n",
    "file_path = \"infomoney_noticias_limpas.json\"\n",
    "\n",
    "# Carregar dados do arquivo JSON\n",
    "with open(file_path, 'r', encoding='utf-8') as f:\n",
    "    data = json.load(f)\n",
    "\n",
    "contents = []\n",
    "\n",
    "for article in data[\"articles\"]:\n",
    "    if \"conteudo\" in article:\n",
    "        contents.append(article[\"conteudo\"])"
   ]
  },
  {
   "cell_type": "code",
   "execution_count": 156,
   "id": "9fa98f75",
   "metadata": {},
   "outputs": [
    {
     "data": {
      "text/plain": [
       "['O multimilionário Elon Musk, antigo aliado do presidente americano, Donald Trump, cujo governo ele abandonou recentemente anunciou neste sábado, 5, a criação de seu próprio movimento político, o Partido da América.\\nDecepcionado com a lei orçamentária aprovada semana passada, que elevará a dívida nacional, Musk havia prometido nos últimos dias criar sua própria legenda. “Quando se trata de arruinar nosso país por meio do desperdício e da corrupção, vivemos em um sistema de partido único, não em uma democracia”, disse Musk.\\nO presidencialismo americano é escorado no bipartidarismo – republicanos e democratas. Uma terceira força poderia “roubar” votos das duas legendas e bagunçar as eleições.',\n",
       " 'O presidente Donald Trump revelou nesta quinta-feira (3) sua intenção de organizar uma luta de UFC no gramado da Casa Branca para celebrar os 250 anos da independência dos Estados Unidos, que será comemorada em 4 de julho de 2026. O evento, que poderia reunir entre 20 mil e 25 mil espectadores, faria parte de uma série de festividades planejadas para marcar o marco histórico.\\nDurante um evento em Des Moines, Iowa, Trump destacou que a Casa Branca possui amplo espaço para sediar o evento, que seria uma “luta completa” de artes marciais mistas. O presidente, entusiasta do UFC e amigo próximo do presidente da liga, Dana White, afirmou que o combate será um dos muitos eventos especiais realizados em parques nacionais, campos de batalha históricos e outros locais emblemáticos do país.\\nAlém da luta de UFC, Trump anunciou uma grande festa no National Mall, em Washington, e uma competição atlética envolvendo estudantes de ensino médio de todo o país.\\nA Casa Branca não divulgou detalhes adicionais sobre a organização do evento, mas a porta-voz Karoline Leavitt afirmou que o presidente está “muito sério” quanto à realização da luta. Trump tem participado de várias lutas de UFC recentemente, inclusive assistindo a combates ao lado de Dana White, o que reforça seu interesse pessoal pelo esporte.',\n",
       " 'Com a decisão de se desfazer da operação internacional da Avon já definida, a Natura (NATU3) está esperando agora uma “proposta interessante” para avançar no processo. Há urgência, no entanto, para vender o braço da operação responsável pela Avon fora da América Latina.\\nA Naturajá havia anunciado que busca saídas para a operação entre uma venda e a separação do negócio. “A hora que houver uma proposta interessante, pode andar”, disse a vice-presidente de operações da Natura, Josie Romero, aoInfoMoney.\\nEm seu Investor Day na última segunda-feira (30), a empresa anunciou ter dedicado um time para executar o processo. Essa pequena equipe interna atua em conjunto com um grupo de consultores financeiros para avançar no tema.\\nSegundo Romero, o que existe agora é uma decisão estratégica de fazer a separação. “A partir de agora, a qualquer momento pode acontecer. Existe urgência, não há a menor dúvida disso. Quando se toma a decisão e divulga ela para o mercado, você quer que ela ocorra”, aponta.\\nNesta semana, a Natura concretizoua incorporação da Natura&Co pela Natura Cosméticose passou a operar pelo código de negociaçãoNATU3na B3. A empresa conclui neste ano o que chama de Onda 2, de integração entre as operações da Avon e da Natura, o que inclui mercados importantes da América Latina como México e Argentina.',\n",
       " 'O Ibovespa encerrou a sessão desta quinta-feira (4) com forte valorização de1,35%, aos140.927 pontos, após oscilar entre a mínima de139.050e a máxima de141.303 pontos— este último representando um novo topo histórico para o principal índice da B3. A tendência de alta em 2025 segue consolidada, com o gráfico mantendo a estrutura de topos e fundos ascendentes.\\nNográfico semanal, o índice acumula alta de2,97%na semana, impulsionado pelo rompimento da antiga máxima em140.381e pela conquista de um novo topo histórico em141.303pontos. O cenário técnico permanece positivo, com o Ibovespa sustentado acima das médias móveis de9, 21 e 200 períodos. OIFR (14)marca67,24, em região próxima à zona de sobrecompra.\\nPara que o movimento altista continue ganhando tração, é essencial que o índice se mantenha acima do antigo topo em140.381e siga respeitando as médias. Nesse contexto, os próximos objetivos estão em145.280/147.340e, mais adiante,152.580pontos. Em caso de reversão, a região de bipolaridade entre136.000/134.120volta ao radar como suporte relevante, com possível recuo até131.635pontos em cenário mais negativo.\\nNográfico diário, o Ibovespa rompeu o topo anterior e marcou nova máxima em141.303, fechando acima das médias de9 e 21 períodos. OIFR (14)está em63,58, também próximo da zona de sobrecompra, o que sugere atenção para possíveis correções técnicas.\\nPara manter o movimento comprador no curto prazo, será necessário romper a nova resistência em141.303, abrindo caminho para alvos em142.780e, em extensão,144.800pontos.\\nAprenda o Setup da Praia na Semana do Trader Sossegado 2.0\\nNográfico de 60 minutos, o Ibovespa encerrou o pregão negociado próximo de sua nova máxima histórica, demonstrando força compradora no curtíssimo prazo. O índice segue acima das médias móveis de9 e 21 períodos,ambas com inclinação positiva, o que mantém o viés altista intacto nesse intervalo de tempo.\\nNo entanto, é importante observar que o ativo se afastou consideravelmente da média de21 períodos— comportamento que, do ponto de vista técnico, costuma anteceder movimentos de correção ou lateralização para aliviar o excesso de alongamento do preço.\\nA resistência imediata está localizada em141.660pontos, patamar que, se rompido com força e volume, poderá impulsionar o Ibovespa para novas máximas. Nesse cenário, os alvos projetados estão em142.935e144.580, com objetivo mais ambicioso na região de145.900pontos.\\nNesse caso, os próximos pontos de atenção estão em138.650/138.200, e, em extensão,137.960/137.620— esta última faixa coincidindo com a média móvel de200 períodos, que costuma atuar como suporte técnico de maior relevância.\\nOs contratos domini-índice (WINQ25), com vencimento em agosto, registraram alta de1,19%na última sessão, fechando aos143.125 pontos.\\nNo gráfico de 15 minutos, o ativo perdeu força ao final do dia e encerrou abaixo dasmédias de 9 e 21 períodos, exigindo atenção ao suporte em142.740/142.530e à resistência em143.300/143.455pontos.\\nJá no gráfico de 60 minutos, o ativo segue acima das médias, com possibilidade de continuidade da alta se superar143.730. Caso contrário, a perda do suporte em142.000pode abrir espaço para quedas até141.000/140.800 pontos.\\nOs contratos futuros deminidólar (WDOQ25), com vencimento em agosto, encerraram a última sessão com baixa de0,30%, aos5.448 pontos.\\nNo gráfico de 15 minutos, o ativo segue pressionado, com viés de baixa reforçado pela média de21 períodosinclinada para baixo. O suporte imediato está em5.444pontos, e sua perda pode abrir espaço para quedas até5.433/5.426. Já a retomada do movimento de alta exige rompimento da resistência em5.452/5.458.\\nJá no gráfico de 60 minutos, a tendência também é negativa, com o ativo abaixo das médias móveis e testando a faixa de suporte em5.440/5.423 pontos— cuja perda pode abrir espaço para quedas até5.391e5.364.Para retomar o fôlego comprador, será necessário romper resistências em5.477,5/5.484,5e5.501/5.510 pontos.\\nOs contratos futuros de Bitcoin (BITN25), com vencimento em julho, encerraram a última sessão com leve alta de0,01%, aos601.260 pontos.\\nO ativo permanece acima das principais médias móveis, com suportes posicionados em596.900/588.600 (1),571.230/563.040 (2)e529.400/506.580 (3). Já as resistências estão localizadas em615.500/628.370 (1),649.460/668.700 (2)e689.660/715.880 (3).\\nNográfico diário, o ativo acumula alta de0,97%na semana e segue negociado acima das médias móveis de9 e 21 períodos, mantendo um viés de curto prazo levemente positivo.\\nNo entanto, o candle formado na última sessão foi umdoji, padrão que indica indecisão entre forças compradoras e vendedoras — o que pode sinalizar uma pausa no movimento atual ou até mesmo uma possível reversão. OIFR (14)está em51,82, dentro de uma zona neutra.\\nPara confirmar a continuidade do movimento de alta, o contrato precisará superar a resistência em615.500/628.370, o que poderia atrair novo fluxo comprador em direção aos próximos alvos em649.460/668.700, com projeção estendida para689.660/715.880pontos.',\n",
       " 'O podcast Sports Pundit recebeu na semana passada Rob Pilgrim, chefe de esportes e horário nobre do YouTube EMEA. Durante 45 minutos, o executivo centrou a conversa na falta de compreensão sobre como a plataforma está reposicionando o valor do esporte premium. Não para sabotar as emissoras tradicionais, mas com o objetivo de eliminar o atrito entre elas.\\nPara reforçar o tom de parceria, Pilgrim mencionou o case da Copa do Mundo de 2022 transmitida pela CazéTV, citando uma “permissão” da Globo.\\n“Não foi canibalismo. Não tirou de um e deu para o outro. Mas os milhões e milhões de espectadores que a CazéTV trouxe aumentaram a audiência geral. Foi aditivo.”\\nNo Mundial de Clubes da FIFA, a lógica se repete, diz Pilgrim: o papel do YouTube seria o de construir rampas de acesso para novos espectadores que talvez não chegassem por meios tradicionais.\\nDuas semanas após o início do torneio, porém, o espírito colaborativo idealizado por Pilgrim desmoronou. Globo e CazéTV travaram uma troca pública de farpas, com audiência e métodos de medição no centro da discórdia.\\nNa terça, a Globoinformouque 104 milhões de brasileiros assistiram às transmissões na TV aberta e no SporTV. O comunicado dizia que o alcance era cinco vezes maior que o do “streaming concorrente”.\\nDias antes, a CazéTV havia enviado umacartaao mercado publicitário criticando o modelo de medição do Kantar Ibope, por supostamente ignorar parte relevante da audiência em dispositivos móveis.\\nDesde então, o canal passou a divulgar dados próprios de visualização baseados em dispositivos conectados, trazendo umtom sarcástico: “sem amostragem, nem estimativa.”\\nEm abril,mostrei aquipor que a visualização, métrica central do YouTube, não acompanha a complexidade do consumo atual. Recentemente, a insider Jo Redfern alertou que as views, ainda vendidas como parâmetro de sucesso, estão se tornando inúteis nas plataformas sociais.\\n“Se você é proprietário de IP e ainda se apoia nisso, é hora de repensar”, disse.\\nA CazéTVafirmater atingido 17,4 milhões de dispositivos únicos logo na primeira semana de Mundial. O número supera o universo de sete milhões de domicílios com TV por assinatura no Brasil.\\nO confronto de narrativas entre as duas emissoras simboliza o choque entre a velha e a nova televisão. E essa divisão começa a reverberar no público.\\nAssim como aconteceu na Copa de 2022, Olimpíadas e Euro 2024, o Mundial vem impulsionando a audiência da CazéTV. E o canal vende bem a narrativa do conteúdo gratuito e dos números estratosféricos para monopolizar as conversas sociais.\\nNeste cenário, há uma clivagem visível entre os torcedores: os que preferem o jogo à moda antiga e os que idolatram a informalidade escrachada de Casimiro e companhia. Essa estética sustentada por memes e piadas, por sua vez, serve tanto para angariar fãs quanto para armar os detratores.\\nDurante Red Bull Salzburg e Al-Hilal, ao ver comentários sobre o conflito entre Irã e Israel subindo no chat, um dos analistas da CazéTV disparou: “Não compramos os direitos da Guerra no Oriente Médio.” O corteviralizou, e a emissora foi julgada no tribunal da internet.\\nNa verdade, o embate já se anunciava desde o início do Brasileirão, quando a rivalidade entre clubesfoi levadaaos grupos e as emissoras da nova divisão do futebol brasileiro. E o torcedor acompanhou, tomando partido.\\nNesse cenário de polarização e fragmentação extrema, surge uma janela para estratégias mais sofisticadas. Redfern defende que o futuro do consumo esportivo passa por uma distribuição hiperpersonalizada em múltiplas plataformas e com baixíssimo atrito de acesso.\\n“Não se trata de fragmentar os direitos e escondê-los atrás de múltiplos paywalls.”\\nJohn Kosner, veterano de 20 anos da ESPN e hoje consultor de mídia esportiva, enxerga a combinação entre escala e personalização a essência do que batizou de Streaming 3.0: fase em que a barreira para adquirir direitos esportivos desmorona.\\nNa nova era, basta ter três ativos: marca relevante, público digital engajado e apetite por esporte.\\nA classificação de Korner dos momentos da distribuição esportiva expõe a ruptura atual:\\nA CazéTV é o protótipo perfeito da mídia não tradicional. E nesse cenário, como sugere Doug Shapiro, há umaguerra silenciosaentre a mídia criadora e a corporativa — com o tempo do consumidor como recurso finito.\\nNos últimos quatro anos, a mídia de criadores respondeu por quase metade do crescimento do mercado global de mídia e entretenimento. Em 2023, gerou US$ 250 bilhões. Em 2030, deve passar dos US$ 600 bi — 20% da receita total do setor.\\nNeste cenário em que criadores são a própria mídia, compram direitos e definem um novo formato para consumir esportes, uma questão levantada pelo especialista Carlo De Marchis ressoa aqui: é possível entregar experiências distintas para o espectador casual e o fã hardcore por meio de canais diferentes?\\nDois dias antes do Mundial de Clubes, a NSports reuniu parceiros em São Paulo para apresentar sua nova fase. Com investimento da Tellescom e da holding Ola Sports, o canaltrouxeGalvão Bueno como sócio e rosto da reinvenção.\\nAgora, quer se posicionar como o primeiro canal esportivo multigeracional do país.\\nO ícone do jornalismo esportivo, que se reinventa entre a Band e o jardim murado do Prime Video, encarna a tentativa de provar que o streaming esportivo pode dialogar com diferentes gerações, sem abrir mão da credibilidade nem do entretenimento.\\nSob a lógica de que os direitos são meio, não fim, a nova NSports aposta na combinação entre transmissões ao vivo, programas sob demanda e séries documentais.\\nEm abril, a Ola já haviacedido jogosda Série B ao Desimpedidos. Desde o início do torneio, os dois jogos por rodada acumulam mais de 9,4 milhões de visualizações.\\nA grade também ganha programas próprios comoNegueritmoeVai, Gabi!, comandados pelos influenciadores Neguerê e Gabi Martins. E em breve estreia o primeiro documentário da casa: a trajetória de Thiago Silva.\\nEssa estratégia tangencia o modelo híbrido proposto por Wim Ponnet: parte distribuição direta, parte parcerias estratégicas, com controle total sobre dados, engajamento e monetização.\\nPara o especialista, o futuro exige mais do que vender sinal: é preciso criar plataformas próprias que combinem social, comércio e inteligência artificial, e capturem o ciclo completo da atenção do fã.\\n“O modelo híbrido é o único caminho para transformar transmissões passivas em experiências interativas e rentáveis. Quem se limitar a ser fornecedor de feed perderá o controle sobre o relacionamento com o público e deixará dinheiro na mesa”, alertou Ponnet.\\nPela primeira vez desde 2021, o streaming superou TV aberta e a cabo em audiência nos EUA, segundo a Nielsen. Enquanto plataformas gratuitas como Tubi e Roku ganham força entre os mais velhos, a TV por assinatura segue encolhendo: perdeu 39% da audiência desde 2020.\\nNa era do streaming 3.0, Kosner diz que os preços dos direitos esportivos continuarão a subir, especialmente para as principais propriedades, à medida que a concorrência se intensifica e as empresas buscam alavancar o conteúdo esportivo como uma ferramenta de retenção para seus negócios principais.\\nAnova norma, por sua vez, obriga o esporte a repensar seu papel dentro de um ecossistema de mídia fragmentado, dominado por lógica algorítmica, decisões financeiras de curto prazo e paywalls em cascata.\\nO Mundial de Clubes é um bom exemplo do risco desse modelo. A DAZN pagou US$ 1 bilhão. Devearrecadarentre US$ 370 e 380 milhões com sublicenciamento e publicidade, segundo Frank Dunne, do SportBusiness. Ainda assim, meio bilhão evapora.\\nConformeescrevihá duas semanas aqui, a DAZN ainda opera com apenas 20 milhões de assinantes pagos, enfrenta um cenário de capital intensivo e concorrência com gigantes consolidadas.\\nO futuro do esporte no streaming dependerá de resolver três contradições:\\nCarlo De Marchis resume o dilema: se quem liderar forem as techs, espere pacotes plugados em ecossistemas. Se forem os donos dos direitos, o produto pode ganhar criatividade. Caso seja o mercado, tudo pode acontecer.\\nEduardo Mendes é estrategista em conteúdo e novos modelos de negócio para esportes, mídia e economia criativa. Com quase uma década no jornalismo esportivo, hoje atua com inteligência estratégica e inovação. É cocriador das newsletters The Block Point e Creative Moves, e esteve à frente de projetos como o ecossistema digital do Atlético-MG e os primeiros colecionáveis digitais da T4F.',\n",
       " 'O ex-jogador do Arsenal, Thomas Partey, foi formalmente acusado de cinco crimes de estupro e uma agressão sexual, conforme informou a Polícia Metropolitana de Londres. As supostas infrações ocorreram entre 2021 e 2022 e envolvem três mulheres diferentes. As informações são daBBC.\\nPartey, de 32 anos, teve seu contrato com o clube encerrado recentemente, após quase cinco anos vestindo a camisa do time londrino.\\nA investigação policial teve início em fevereiro de 2022, quando a primeira denúncia de estupro foi registrada. Desde então, as autoridades vêm trabalhando para apurar os fatos e oferecer suporte às vítimas.\\nO detetive responsável pelo caso reforçou o pedido para que outras possíveis vítimas ou pessoas com informações relevantes entrem em contato com a polícia.\\nPartey deve comparecer ao Tribunal de Magistrados de Westminster no dia 5 de agosto para responder às acusações.\\nDurante sua carreira no Arsenal, o meio-campista participou de 130 jogos na Premier League, marcou nove gols e foi peça importante na campanha que levou o clube ao segundo lugar na última temporada.\\nAlém de sua trajetória no futebol inglês, Partey também é conhecido por suas atuações pela seleção nacional de Gana.\\nO Arsenal ainda não se pronunciou oficialmente sobre as acusações contra o ex-jogador.',\n",
       " 'O apresentador Luciano Huck criticou o sistema político do Brasil neste sábado, 5, no seu perfil do X (antigo Twitter). Resgatando um trecho da participação do ex-presidente Fernando Henrique Cardoso no programa Roda Viva em 1993, onde critica o Congresso Nacional, Huck afirmou que o “presidencialismo de coalizão virou um presidencialismo de colisão” e defendeu uma mudança, sem especificar qual.\\nNo trecho, FHC, que ocupava o cargo de ministro das Relações Exteriores, afirma que o sistema político do Brasil era “confuso” por causa do aumento do poder do Congresso. A entrevista aconteceu nas vésperas do plebiscito de 1993, que escolhia o sistema político do Brasil.\\n“O regime (político) atual nosso não é nem presidencialista, nem parlamentarista, é um ‘congressualismo’ confuso, no qual o Congresso aumentou muito o poder para dizer não, para vetar, mas não aumentou a sua responsabilidade na decisão”, diz FHC no vídeo.\\nO plebiscito foi determinado após a redemocratização do Brasil. A maioria dos eleitores votou a favor do regime republicano e do sistema presidencialista, maneira pela qual o País havia sido governado desde a Proclamação da República em 1889.\\nNa postagem, Huck diz que a resposta de FHC permanece nos dias de hoje. “Quando um diagnóstico pensado há 32 anos – por alguém com conhecimento de causa e bom senso como o presidente FHC – continua atual, é sinal de que falhamos em construir soluções”, escreveu.\\n“Ainda dá tempo de mudar. O desafio agora é resgatar o bom senso e o diálogo, antes que vire apenas um presidencialismo de confusão”, acrescentou.\\nA declaração de Huck, que cogitou ser candidato à presidência nas eleições de 2018 e 2022, é realizada em meio ao embate entre o governo Lula e o Congresso Nacional em torno dos decretos que tratam sobre o Imposto sobre Operações Financeiras (IOF). O Congresso derrubou os decretos do governo, que respondeu com uma ação no Supremo Tribunal Federal (STF).\\nO ministro Alexandre de Moraes, responsável pelo caso no STF, determinou a suspensão dos decretos e do veto do Congresso e agendou uma audiência de conciliação entre o Executivo e o Legislativo sobre o tema no dia 15.\\nAs divergências entre os dois Poderes também mobilizaram embates nas redes sociais, com uma campanha de membros do governo com críticas ao Congresso, sobretudo ao presidente Hugo Motta (Republicanos).',\n",
       " 'É natural que superfãs queiram ter um pedaço da história do cinema e da TV — desde a casa de Walter White em Breaking Bad até a espada de Aragorn em O Senhor dos Anéis. Mas dois amantes de Crepúsculo conquistaram o prêmio máximo ao comprar a casa de Bella Swan, do popular filme da franquia de vampiros em que Kristen Stewart interpretou Bella.\\n“Eu tinha visitado todos os locais de filmagem,” conta Amber Neufeld, proprietária da casa junto com o marido Dean, à Fortune. “Quando a casa apareceu no mercado, eu pensei: ‘Meu Deus, eu conheço essa casa.’”\\nO casal comprou a casa em St. Helens, no Oregon, em 2018 por US$ 360.000. Ela foi vendida por US$ 10.000 acima do valor pedido após uma disputa com outros dois compradores em potencial.\\nDepois de reformar algumas áreas desgastadas da casa e fazer um lançamento suave no início de 2019, ela ficou pronta para aluguel, com diárias em torno de US$ 400. Levou um ano para o negócio decolar, mas agora a propriedade constantemente “derruba” o site do Airbnb, com reservas para um ano inteiro esgotando em minutos no site pessoal dos Neufeld.\\nA icônica casa Swan da franquia “Crepúsculo”, que faturou US$ 3 bilhões no cinema e começou como uma série de livros de Stephenie Meyer, agora gera até US$ 140.000 em receita bruta anual — e Amber gerencia a propriedade em tempo integral.\\nA perspectiva de alugar uma casa famosa de filme poderia levar alguns a cobrar preços altos para lucrar bastante, mas os Neufeld dizem que não estão interessados em grandes lucros: a parte mais gratificante de possuir a casa é permitir que os superfãs de “Crepúsculo” entrem no mundo de Bella, mesmo que seja só por uma noite.\\nAlém disso, Amber não suportaria a ideia de outra pessoa comprar a casa e tirar seu caráter original. “E se alguém mudar a casa e perdermos essa história das filmagens?” diz Amber. “Eu só queria salvar isso.”\\nQuando os Neufeld, ambos com 43 anos, souberam que a casa Swan de cinco quartos estava à venda, eles aproveitaram a oportunidade — mesmo que fosse só para dar uma olhada por dentro. Amber admite que ficou empolgada durante a visita. “Eu tentava me controlar para que meu corretor não achasse que eu era uma pessoa louca,” lembra.\\nO casal fez uma oferta imediatamente, tendo dinheiro suficiente em ações da empresa para dar entrada a qualquer momento. Havia outras duas ofertas na mesa. Mas eles fecharam a compra por US$ 360.000, oferecendo US$ 10.000 acima do preço pedido.\\nDepois vieram as reformas para deixar a casa o mais fiel possível ao filme. Felizmente, todo o piso original, os acessórios e o exterior estavam intactos desde as filmagens. Mas a casa ainda precisava de cuidados, então Dean conciliou seu trabalho em tempo integral com a reforma: pregando tábuas, consertando torneiras e aquecedores de água com vazamento.\\nEnquanto isso, Amber procurava na internet móveis originais do filme ou réplicas do cenário, como um modelo de navio, a mesa e cadeiras da sala de jantar. As reformas e os itens custaram cerca de US$ 20.000 no total.\\n“Eu trabalhava das nove às cinco, e depois ia para a casa, ficando lá das cinco até a hora de dormir só consertando coisas,” diz Dean. “Ficamos apertados financeiramente. Pagamos duas hipotecas, duas contas de água, luz, essas coisas.”\\nEmbora os Neufeld tenham arcado com muitos custos no início para colocar a casa Swan em funcionamento, já faz anos que não precisam se preocupar com o financiamento.\\nO casal fez um lançamento suave da casa em janeiro de 2019, abrindo o anúncio ao público um mês depois. Eles tiveram que lutar para ganhar seguidores no Facebook, com reservas chegando de forma irregular.\\nMas tudo decolou cerca de um ano depois graças à viralização no TikTok. Uma criadora fez um vídeo de sua estadia na casa, recriando de forma humorística uma cena na janela do quarto de Bella. Seus 1,5 milhão de espectadores passaram a saber que também podiam alugar a casa.\\n“A vida nunca mais foi a mesma,” explica Dean. “Nossas reservas eram preenchidas assim que abriam, e nunca mais desaceleraram.”\\nOs Neufeld começaram alugando a casa pelo Airbnb — mas o site não aguentava o tráfego intenso. Desde então, passaram a gerenciar as reservas pelo próprio site, que são abertas trimestralmente e esgotam em três a dez minutos para reservas com até um ano de antecedência.\\nO casal diz que o sucesso veio na tempestade perfeita de um ressurgimento de “Crepúsculo”; a série finalmente chegou aos serviços de streaming, e o livro Sol da Meia-Noite foi adicionado à série. Isso significava que os adolescentes filhos dos pais que foram às estreias de “Crepúsculo” há 17 anos agora estavam viciados na série e reservando a casa.\\n“Todos os leitores de ‘Crepúsculo’ agora tinham dinheiro de adulto,” diz Amber. “O que aconteceu, surpreendentemente, foi que eram os adolescentes — a segunda geração — que também estavam entrando.”\\nOs Neufeld agora faturam US$ 140.000 em receita bruta com a casa Swan em anos bons, com a maior parte indo para custos e melhorias. Eles se recusam a aumentar os preços junto com a alta demanda, e uma vantagem de manter os preços baixos é que podem reduzir sua carga tributária. Além disso, dizem que o lucro, que pode chegar a US$ 60.000 por ano, cobre as hipotecas e taxas, sobrando dinheiro para eles e para novas melhorias.\\n“Não queremos realmente cobrar mais,” diz Amber. “Não é só ‘Como podemos ganhar mais dinheiro?’ Sempre foi ‘Quanto podemos cobrar e ainda investir na casa e pagar a hipoteca?’”\\nEsta história foi originalmente publicada no Fortune.com',\n",
       " 'A Expert XP, maior festival de investimentos do mundo, que acontece nos dias 25 e 26 de julho, em São Paulo, anuncia hoje (3) a participação deMorgan Housel, autor best-seller de “APsicologia Financeira” e referência global em finanças comportamentais e investimento de longo prazo.\\nHousel traz uma abordagem única, que une economia comportamental, narrativas envolventes e reflexões sobre a natureza humana.\\nSua presença no evento promete inspirar o público com uma visão profunda e acessível sobre como decisões financeiras são tomadas, explorando temas como resiliência, tempo, risco e o impacto das emoções no mundo dos investimentos.\\nHousel é sócio da Collaborative Fund e duas vezes vencedor do prêmioBest in Business, concedido pelaSociety of American Business Editors and Writers.\\nTambém recebeu o prêmioSidney Award, doThe New York Times, e foi nomeado uma das 50 pessoas mais influentes do mercado financeiro pelaMarketWatch.\\nGaranta até 55% OFF na Expert XP com cupom InfoMoney\\nAlém de “A Psicologia Financeira”, Housel é autor do livro “O mesmo de sempre: Um guia para o que não muda nunca”, publicado em 2023, que aborda os comportamentos humanos e padrões que moldam o mundo, especialmente em finanças, economia e no processo de tomada de decisão.\\nEm outubro, o autor lançará uma nova obra, intitulada “The Art of Spending Money” (A Arte de Gastar Dinheiro). Seus livros já venderam mais de nove milhões de cópias e foram traduzidos para mais de 60 idiomas.\\nCom expectativa de público superior a 45 mil pessoas, a Expert XP 2025 reunirá dezenas de painéis e experiências imersivas voltadas à inovação, tecnologia, mercado financeiro, ESG, inteligência artificial, cultura empreendedora e muito mais.\\nOutra personalidadeinternacionalconfirmada para esta edição éArnold Schwarzenegger, ator, ex-governador da Califórnia e referência global em liderança e impacto social. A presença de Schwarzenegger reforça a proposta da Expert XP de ir além dos investimentos, promovendo discussões sobre propósito, resiliência e transformação.\\nDesde sua primeira edição em 2010, o evento já trouxe ao Brasil nomes como Bill Clinton, Malala Yousafzai, Serena Williams, Tom Brady e Yuval Harari.\\nEm 2024, a Expert XP reuniu mais de 45 mil pessoas, com 117 horas de conteúdo, 300 palestrantes e temáticas que abordaram investimentos, economia, política, sustentabilidade e cultura.\\nLocal:São Paulo Expo – São Paulo/SP\\nBenefícios Cartão XP:1% de Investback ou 1 ponto por dólar.\\nIngresso para os dois dias com Cartão XP (25 e 26/07):R$ 1.200,00\\nIngresso para sábado (26/07):R$ 799,00\\nSite oficial:www.expertxp.com.br\\nGaranta até 55% OFF na Expert XP com cupom InfoMoney',\n",
       " 'Existe uma fórmula secreta que ajuda a explicar por que pessoas tão diferentes como David Bowie, Samuel L. Jackson e Charli XCX parecem tão seguras de si e, bem, descoladas?\\nUm novo estudo sugere que existem seis traços específicos que essas pessoas tendem a ter em comum: Pessoas consideradas descoladas são amplamente percebidas como extrovertidas, hedonistas, poderosas, aventureiras, abertas e autônomas.\\nO estudo, publicado na segunda-feira no Journal of Experimental Psychology: General, entrevistou quase 6.000 participantes de 12 países ao redor do mundo. As crenças deles sobre o que é “descolado” foram semelhantes independentemente de onde morassem, e apesar das diferenças de idade, nível de renda, educação ou gênero.\\n“O que me surpreendeu foi o fato de que o resultado foi praticamente o mesmo em todos os lugares,” disse Caleb Warren, um dos autores do estudo e professor da Eller College of Management na Universidade do Arizona, que pesquisa psicologia do consumidor há duas décadas.\\nNo estudo, cada participante teve que reconhecer a palavra “cool” em inglês, sem tradução, sugerindo que já estavam familiarizados — ou talvez até idolatrassem — noções de descolamento vindas de países ocidentais ricos como os Estados Unidos.\\nNesse sentido, o estudo oferece uma janela para a difusão de crenças culturais de um grupo para outro, disse Joseph Henrich, antropólogo e professor de biologia evolutiva humana em Harvard, que não participou do estudo.\\n“Globalmente, o sucesso americano levou à difusão de estilos musicais e uma imensa quantidade de conteúdo cultural, incluindo, aparentemente, o conceito de descolado,” disse Henrich.\\nSer descolado não é um tema amplamente estudado. Pesquisas anteriores mostraram que ser descolado é geralmente considerado algo positivo: Pessoas descoladas também são amigáveis, competentes, modernas e atraentes. Mas Warren e seus colegas queriam saber o que torna uma pessoa distintamente “descolada” em vez de apenas “boa”.\\nEntão os pesquisadores pediram aos participantes que pensassem em pessoas específicas: uma que fosse descolada, uma que não fosse descolada, uma que fosse boa e uma que não fosse boa. Depois, pediram que avaliassem cada pessoa respondendo questionários que mediam coletivamente 15 atributos diferentes.\\nEmbora as pessoas descoladas e boas compartilhassem traços, comparadas às descoladas, as pessoas boas eram percebidas como mais conformistas, tradicionais, seguras, calorosas, agradáveis, universalistas (a extensão em que uma pessoa vê todos e tudo como iguais ou igualmente dignos de cuidado e respeito), conscienciosas e calmas.\\nAqueles percebidos como capazes eram igualmente considerados descolados e bons.\\nUma limitação do estudo foi que qualquer pessoa que não conhecesse a palavra “cool” foi automaticamente excluída. Como resultado, os dados não podem determinar com que frequência a palavra é usada em diferentes países ou se, em certas culturas, ser descolado leva a um status social mais alto em relação a outros. Além disso, embora o estudo tenha incluído participantes de várias idades, a população era predominantemente jovem: a idade média de cada região era geralmente 30 anos ou menos.\\nOutros estudos mostraram que existem diferenças culturais importantes que podem afetar os traços que valorizamos.\\n“Fatores como agressividade nos dão status mais alto em algumas culturas ocidentais e, simultaneamente, menos status no Oriente,” disse Mitch Prinstein, chefe de psicologia da American Psychological Association, que escreveu dois livros sobre popularidade, que pode ser uma consequência de ser descolado.\\nPesquisas sobre ser descolado sugerem que o desejo de ser descolado é particularmente forte durante a adolescência, e influencia não apenas o que as pessoas compram ou quem admiram, mas também como falam e o que fazem para se divertir.\\nMas o que é considerado descolado pela cultura em geral pode não ser o mesmo que você pessoalmente acredita ser descolado. Por isso Warren e seus colegas pediram que cada participante pensasse nas pessoas que consideravam descoladas versus boas. Curiosamente, em geral, os tipos de traços tipicamente associados à bondade ou ajuda eram mais frequentemente percebidos como bons em vez de descolados.\\nEntão, ser descolado é uma característica que vale a pena perseguir?\\nPara isso, Warren disse: “Tenho sérias dúvidas.”\\nSer descolado, que envolve assumir riscos e ser socialmente precoce durante a adolescência, pode oferecer popularidade na juventude, mas um estudo publicado em 2014 descobriu que muitos adolescentes que se comportavam assim enfrentariam dificuldades na casa dos 20 anos, desenvolvendo problemas com álcool, drogas e relacionamentos. “Eles fazem coisas mais extremas para tentar parecer descolados,” disse um dos pesquisadores ao The New York Times.\\nPara os jovens populares na escola, “status é dominância, visibilidade, atenção,” disse Prinstein. Mas, acrescentou, é o quanto você é querido que contribui para o sucesso a longo prazo.\\n“Mesmo o jovem mais nada a ver provavelmente se sairá bem se tiver pelo menos um amigo próximo,” acrescentou.\\nTalvez ser descolado — especialmente o tipo desdenhoso de “cool demais para a escola” — não seja tudo isso que dizem.',\n",
       " 'SÃO PAULO (Reuters) – O Nubank (BDR:ROXO34) informou nesta sexta-feira que contratou o ex-diretor de regulação do Banco Central Otávio Ribeiro Damaso como consultor para assuntos regulatórios e de gestão de riscos da instituição, poucos diasapós oficializar a entrada de Roberto Campos Neto, ex-presidente do BC, como seu vice-chairman.\\nBolsa brasileira opera ser referência dos EUA, que não opera hoje por feriado nacional\\nO Nubank anunciou em maio que convidara Campos Neto para assumir os cargos de vice-chairman, chefe global de políticas públicas e para se tornar membro não independente do conselho de administração. Sua entrada foi oficializada em 1º de julho, após encerrada a quarentena de seis meses exigida para que ex-diretores do BC possam exercer atividades profissionais na iniciativa privada.\\nCampos Neto reporta-se diretamente a David Vélez, fundador e presidente-executivo do Nubank.',\n",
       " 'O sistema de consórcios registrou um recorde de vendas nos últimos 20 anos, informou a Associação Brasileira de Administradoras de Consórcios (Abac). Foram vendidas 2,07 milhões de cotas no acumulado do ano até maio, volume 19,7% superior ao apurado no mesmo período do ano passado.\\nNo início do ano, a Abac divulgou a expectativa de manutenção do crescimento do setor em 2025, em patamar próximo ao observado em 2024. As projeções indicavam avanços de 20% para imóveis, 10% para veículos pesados, 6% para veículos leves, 2% para motocicletas, 23% para eletroeletrônicos e outros bens móveis duráveis, e 10% para serviços.\\nNo entanto, “ao completar os cinco primeiros meses deste ano, observa-se que as vendas de cotas de imóveis já cresceram 44,7% em relação ao mesmo período de 2024, mais que o dobro da estimativa”, afirmou a entidade em comunicado à imprensa.\\nEm veículos leves, o crescimento foi de 15,1%, enquanto em motocicletas foi de 9,4%. Já em veículos pesados houve retração de 12,9%. Nos setores de eletroeletrônicos e outros bens móveis duráveis, a expansão foi de 115,2%, cinco vezes maior que o previsto, e no setor de serviços, o crescimento foi de 21,9%, pouco mais que o dobro da estimativa, segundo a Abac.\\nEsses resultados ocorrem em um cenário de juros altos no Brasil, com o Comitê de Política Monetária (Copom) do Banco Central elevando, na semana passada, a taxa básica Selic para 15% ao ano, o maior patamar em quase 20 anos. Na ocasião, a autoridade monetária indicou que a taxa deve permanecer inalterada por um “período bastante prolongado”.\\nOs créditos comercializados nos primeiros cinco meses totalizaram R$ 186,6 bilhões, de acordo com dados da entidade. O número de participantes ativos chegou a 11,73 milhões, um crescimento de 10,8% em relação ao mesmo período de 2024, também um recorde histórico — que vem sendo renovado há três anos, com exceção de abril de 2023.\\nOs consorciados estão mais concentrados em veículos leves (42,8%), motocicletas (26,4%) e imóveis (19,9%), segundo a Abac.\\nEntre as principais administradoras independentes de consórcios do país, como Ademicon e Embracon, o crescimento de dois dígitos tem sido ainda mais acentuado.\\nA Ademicon comercializou quase R$ 17 bilhões em créditos nos primeiros cinco meses do ano, um salto de 85% em relação ao mesmo período de 2024, enquanto a Embracon registrou crescimento de 93% nas vendas de créditos no mesmo intervalo, totalizando R$ 14 bilhões, segundo informações fornecidas pelas próprias empresas.\\nSomente em maio, o crescimento observado pela Ademicon foi de 92% em relação a um ano antes, com R$ 3,9 bilhões em créditos comercializados, enquanto a Embracon teve avanço de 124%, para R$ 3 bilhões.',\n",
       " 'Restam somente quatro equipes no Mundial de Clubes e, em teoria, os três jogos restantes – semifinais e final – deveriam atrair maior atenção do público. Mas não é o que acontece nos Estados Unidos, que no próximo ano também será uma das sedes da Copa do Mundo, ao lado de Canadá e México.\\nA fim de evitar um fiasco na semifinal entre Fluminense e Chelsea, agendada para as 16h (horário de Brasília) de terça-feira, no Metlife Stadium, em East Rutherford, Nova Jersey, a Fifa reduziu drasticamente o valor das entradas a menos de 72 horas do confronto, segundo oThe Athletic, suplemento esportivo doThe New York Times.\\nA Ticket Master, parceira da Fifa na comercialização dos ingressos, adotou valores dinâmico durante a competição, isto é, se a procura é baixa, o valor cai, se a demanda cresce, o preço sobe. O método também deverá ser utilizado na Copa do Mundo de 2026.\\nPara evitar mostrar arquibancadas vazias nas transmissões, a Fifa já havia reduzido o preço das entradas em jogos anteriores, em decorrência da baixa procura. Os confrontos entre Fluminense e Al-Hilal, em Orlando, e Chelsea x Palmeiras, na Filadélfia, chegaram a custar US$ 11, ou seja, R$ 59, menos do que o clube alviverde cobra em uma partida do Campeonato Brasileiro no Allianz Parque.\\nO Real Madrid tem sido uma das exceções no Mundial e atrai mais de 60 mil expectadores, em média, por jogo – 76.611 pessoas acompanharam no estádio a vitória sobre o Borussia Dortmund, em Nova Jersey, nas quartas de final. Assim, o preço da outra semifinal, entre o clube espanhol e o campeão europeu PSG, começava em US$ 199,90 – R$ 1.081 – no intervalo do jogo das quartas de final, embora na quarta-feira um assento no mesmo espaço fosse comercializado por US$ 978 (R$ 5.280).',\n",
       " 'A Polícia Federal apreendeu R$ 1,3 milhão em cédulas durante uma operação contra o tráfico internacional de drogas, nesta quinta-feira, 3, em Foz do Iguaçu, no oeste do Paraná. A cidade brasileira faz fronteira com Ciudad del Este, no Paraguai. Cinco pessoas foram presas. Veículos de luxo e motos aquáticas foram apreendidos. A suspeita é de que o dinheiro e os bens sejam provenientes do tráfico.\\nOs suspeitos não tiveram os nomes divulgados, o que impossibilitou o contato com suas defesas.\\nO dinheiro, quase todo em cédulas de R$ 100, estava escondido em três caixas de sapato no closet de uma mansão de Foz do Iguaçu. Além de cinco mandados de prisão preventiva, a PF cumpriu oito mandados de busca e apreensão, todos no município paranaense da fronteira.\\nNos endereços, foram apreendidos duas caminhonetes, três carros de luxo, três motos aquáticas, um quadriciclo e celulares, além de documentos. Os investigados são suspeitos de adquirir maconha e cocaína no Paraguai, armazenar e distribuir a droga em território brasileiro.\\nA investigação teve início em outubro de 2024, após a identificação de movimentações suspeitas em um galpão no bairro da Lagoa, em Foz do Iguaçu, utilizado como entreposto para armazenamento e distribuição de entorpecentes.\\nAs drogas eram transportadas para vários estados da federação em caminhões com compartimentos ocultos, como fundos falsos e pneus. Os traficantes incluíam sacos de cal hidratada na carga para mascarar o odor da droga.\\nAo longo das investigações, segundo a PF, foram realizadas cinco apreensões de drogas, totalizando 6.288 kg de maconha e 108 kg de cocaína, além da prisão em flagrante de quatro pessoas e da apreensão de dez veículos.\\nEm uma das ocasiões, o grupo utilizou um caminhão dos Correios para dissimular o transporte ilícito. Na época, os Correios informaram que o veículo de uma terceirizada foi interceptado e que a estatal tomou todas as medidas com a prestadora de serviços.\\nA quadrilha fazia o uso de motoristas batedores que percorriam o trajeto à frente dos veículos com drogas, repassando informações em tempo real sobre a presença de barreiras policiais. O artifício possibilitava que o motorista parasse ou pegasse um desvio para passar com a droga.\\nO dinheiro apreendido ficará retido até que o caso seja julgado pela Justiça. Se for comprovada a origem ilícita, tanto os valores em espécie quando os veículos e outros bens apreendidos serão incorporados pelo poder público e terão destinação de interesse público, podendo ser destinado inclusive a projetos sociais.',\n",
       " 'O grupo fictício de k-pop Saja Boys destronou o BTS, maior banda sul-coreana da atualidade, nas paradas do Spotify nos Estados Unidos. A concorrência inesperada surgiu da animaçãoGuerreiras do K-Pop(KPop Demon Hunters, no original), da Netflix, lançada em 20 de junho.\\nNa quinta-feira, 3, a faixaYour Idol, do Saja Boys, alcançou a segunda posição entre as músicas mais ouvidas nos EUA na plataforma de streaming, conforme divulgado na playlistTop 50 – Estados Unidos.\\nFoi a posição mais alta já alcançada por uma boy band de k-pop no ranking americano, superando o BTS — cuja faixaDynamitechegou à terceira posição da mesma lista na época do lançamento, em 2020. Nesta sexta-feira, 4,Your Idolreforçou o feito ao subir para a primeira colocação do ranking.\\nNo retrovisor, a músicaGolden, do grupo feminino HUNTR/X (também fictício), subiu da terceira para a segunda colocação. Isso igualou, e logo depois superou, o quarteto Blackpink, que anteriormente detinha o recorde nas paradas do Spotify dos EUA para um grupo feminino de k-pop.\\nA animação da Netflix é protagonizada por Rumi, Mira e Zoey, do grupo HUNTR/X, que levam uma vida dupla: as estrelas têm poderes secretos que usam para proteger o mundo humano de ameaças sobrenaturais. Na trama, os Saja Boys são vilões demoníacos disfarçados, que devem ser combatidos pelas garotas.\\nO filme é atualmente o mais assistido da plataforma, segundo o ranking global mais recente divulgado pela Netflix, com mais de 33,4 milhões de visualizações.',\n",
       " 'As praias de Ipanema e Copacabana, no Rio de Janeiro, podem estar em risco e inundações sazonais podem se tornar permanentes, de acordo com estudo realizado por instituto da Universidade Federal do Rio de Janeiro (UFRJ), antecipado e divulgado pelo jornalO Globoe peloG1.\\nAs simulações indicam que o mar pode avançar mais de 100 metros sobre o Rio de Janeiro até o fim do século, segundo pesquisadores da Coppe, instituto de pós-graduação e pesquisa da UFRJ.\\nO efeito não ficaria restrito à Copacabana, mas também atingiria praias de Ipanema, Leblon, Leme e Botafogo. A faixa de areia poderia diminuir até 80 metros em situações normais. Em casos de eventos como maré alta e ressaca, a redução poderia ser mais 60 metros.\\nPara banhistas, a principal preocupação desde já deve ser o comportamento das correntes, que, segundo os pesquisadores, já representa risco. A atenção deve ser redobrada em locais com bandeira vermelha, sinalização que indica perigo para banhistas. Além disso, há possibilidade de que eventos extremos se tornem cada vez mais comuns.',\n",
       " 'Em tempos de volatilidade econômica, a riqueza costuma se tornar um tema politizado. O “grande e belo” pacote da Casa Branca dividiu opiniões após estimativas do Escritório do Orçamento do Congresso (CBO, na sigla em inglês) indicarem que as políticas custariam aos americanos mais pobres cerca de US$ 1.600 ao ano, enquanto elevariam em média em US$ 12.000 a renda dos lares mais ricos anualmente.\\nIsso decorre de ajustes de política, como o aumento do limite de isenção para impostos sobre heranças e doações para US$ 15 milhões, bem como a elevação do teto de dedução de impostos estaduais e locais (SALT) de US$ 10.000 para US$ 40.000.\\nUm problema nos debates atuais sobre tributos à riqueza, diz o economista-chefe do UBS, Paul Donovan, é que muitos eleitores mais ricos nos EUA não se reconhecem como ricos.\\nEm uma mesa-redonda na semana passada, Donovan explicou: “Uma questão bem interessante que vemos surgir cada vez mais em discussões sobre impostos sobre a riqueza e heranças é a crescente lacuna entre percepção e realidade da riqueza. As pessoas dizem: ‘Sim, precisamos de um imposto sobre milionários, mas não em mim, eu não conto como milionário’, quando, na verdade, você tem um apartamento de dois quartos em Manhattan. Você é, por definição, milionário.”\\nDonovan continuou dizendo que as redes sociais também distorcem a percepção de riqueza. Mesmo que a desigualdade não tenha mudado, “as pessoas se sentem mais desprovidas pelo suposto luxo exibido online”.\\n“Como resultado, as pessoas acabam confundindo ainda mais a percepção de sua própria riqueza com a realidade”, acrescentou Donovan. “Muitos são ricos, mas se veem em desvantagem por não viverem como um influenciador digital.”\\nCom a riqueza tornando-se um tema socialmente cada vez mais divisivo – inclusive levando os abastados a se distanciarem de sua própria condição –, os consumidores já estão reduzindo a compra de símbolos de status e de experiências vistosas.\\nO balanço de primavera da Bain sobre o setor de luxo, divulgado na semana passada, mostra que o segmento de bens pessoais encolheu.\\nClaudia D’Arpizio, uma das autoras do relatório, contou àFortuneque o termo “vergonha do luxo” (“luxury shame”) surgiu durante a crise financeira de 2008, quando a riqueza passou a ser vista como algo “cafona”, diante dos milhões de americanos que perderam casas e empregos.\\nD’Arpizio acrescenta que, na época, as lojas de grife passaram a usar sacolas brancas discretas para as compras, pois os clientes não queriam ser vistos carregando embalagens de marcas famosas. “Nos EUA, isso foi autogerado; as pessoas mudaram seus comportamentos porque sentiam vergonha”, diz ela.\\nHoje, o movimento, protagonizado pelos consumidores chineses, tem caráter mais governamental. “É um regime comunista que incentivou o consumo de luxo nos últimos 15 anos, quando a população estava cada vez mais rica. Agora, com o crescimento desacelerando e o desemprego entre gerações mais jovens, querem evitar tensões, dizendo aos ricos: ‘Não ostentem riqueza neste momento’.”\\nEssa tensão social está se espalhando para o Ocidente, completa D’Arpizio, e, por isso, as marcas de luxo deveriam dar menos ênfase ao elitismo e mais à ideia de serem guardiãs de cultura e inovação.\\nDito isso, o fato de os ricos não quererem ou não perceberem sua riqueza não significa que as engrenagens que geram seus ativos estejam desacelerando.\\n“Há dois motores independentes que precisamos considerar, e que não afetam o motor de crescimento de riqueza”, diz Donovan em resposta a uma pergunta da Fortune. “O primeiro é o aumento do nacionalismo econômico.”\\nBasta olhar para a iniciativa “America First” de Trump, mas Donovan afirma que esse comportamento também é comum em países como a China. “Frequentemente, há hostilidade a marcas e empresas estrangeiras. Vimos isso com as grifes europeias de luxo na China.”\\nDonovan acrescenta que o segundo fator que molda a abordagem de consumo dos ricos é o foco no entretenimento. “Frequentemente me perguntam: ‘O que um economista quer dizer com ‘diversão’?’ A resposta é qualquer coisa que você possa postar no Instagram”, explica. “Então é viagem ao exterior, refeições em restaurantes, shows da Taylor Swift. E, claro, roupas novas, porque, ao postar a foto daquela refeição incrível, você precisa estar com um look novo.”\\n“Essas tendências, que são independentes da criação de riqueza, precisam ser consideradas, pois podem parecer sinais de vergonha de ostentar riqueza, quando, na verdade, refletem mudanças no padrão de consumo por outros motivos.”\\nEsta história foi originalmente publicada em Fortune.com.',\n",
       " 'Nos dias 25 e 26 de julho, o São Paulo Expo se transformará no ponto de encontro de quem busca mais do que apenas retorno financeiro. AExpert XP 2025vai além do mercado — e mostra que grandes decisões econômicas e políticas partem de princípios muito parecidos: foco, preparação e visão de longo prazo.\\nAo longo das edições passadas, o evento já recebeu algumas das mentes mais influentes da política, da economia e da inovação global.\\nEm 2023, o ex-primeiro-ministro britânicoBoris Johnsonsurpreendeu o público ao declarar que “quem salvou milhões de pessoas [durante a pandemia] foi o mercado, não os contribuintes”. A frase, dita em tom provocador, foi seguida de uma defesa contundente das democracias liberais e da importância de sistemas que favoreçam a livre iniciativa como motor de inovação e recuperação.\\nTambém ex-primeiro ministro do Reino Unido,Tony Blairdebateu o mundo e seu futuro na Expert XP 2020, e criticou o excesso de ideologia: “É muito destrutivo”. Blair alertou em sua apresentação para a necessidade de países desenvolvidos diminuírem suas emissões de carbono, com risco de afetar outras nações caso não aplique medidas para contê-las. Na ocasião, o ex-primeiro ministro, que ficou 10 anos no cargo, já alertava para os “enormes problemas econômicos” que viriam pós-pandemia.\\nNa edição de 2021,Hillary Clinton, ex-secretária de Estado dos EUA, trouxe à tona uma reflexão essencial para tempos de ruído e desinformação: “A democracia requer que as pessoas tenham acesso a fatos e informações críveis”. A ex-candidata à presidência dos EUA destacou a responsabilidade das empresas e do setor financeiro na construção de ambientes mais transparentes, estáveis e, portanto, mais seguros para o crescimento sustentável.\\nTrês anos antes, o ex-presidente dos EUA,Bill Clinton, na Expert XP 2018, mencionou a importância de se acreditar no Brasil, de “território gigante que pode gerar grandes riquezas”, e pensar no longo prazo. Também mostrou preocupação de ataques à democracia. “No Brasil, a corrupção é um problema? É, mas vocês têm capacidade para lidar com isso. Há um buraco no teto, mas não fiquem desesperados. Vamos consertar o buraco no teto”, disse à época.\\nGaranta até 55% OFF na Expert XP com cupom InfoMoney\\nEm comum, as falas de Clinton e Johnson reforçam um princípio-chave para quem investe com estratégia: não basta reagir às crises. É preciso antecipá-las — com planejamento, caixa estruturado e decisões baseadas em dados, não em ruídos.\\nNa mesma linha, o investidor lendárioHoward Marks, fundador da Oaktree Capital, reforçou em sua participação que a busca por retornos consistentes passa pela capacidade de pensar diferente: “A chave para alcançar retornos superiores nos investimentos é pensar de forma diferente e melhor”, afirmou, ao destacar que não basta investir em empresas boas se todos já perceberam isso. O verdadeiro diferencial está em identificar oportunidades ainda não precificadas pelo mercado.\\nMarks também alertou para a importância da cautela em cenários incertos: “É importante ter a humildade de reduzir a agressividade em momentos incertos”, disse, ressaltando que muitos investidores nem sabem que não sabem prever o mercado — o que exige uma postura equilibrada entre ofensiva e defesa.\\nJá o ex-secretário do Tesouro americanoLawrence Summerstrouxe uma análise contundente sobre o impacto de políticas fiscais expansionistas nos EUA: “Isso nos torna vulneráveis”, afirmou, ao criticar o projeto fiscal do governo Trump, que, segundo ele, acelera perigosamente o endividamento americano e ameaça sua posição como potência global. Em sua visão, “o maior devedor do mundo acumulando dívidas mais rápido do que qualquer outro país na história, em volume de dólares, coloca em risco sua posição como maior potência do planeta”.\\nFundador da Bloomberg e prefeito por três mandatos da cidade mais populosa dos EUA, Nova York,Michael Bloombergatribuiu às mídias sociais a polarização política que se vive hoje no mundo, na sua participação na Expert 2021. Antes de abrir o conglomerado de mídia Bloomberg, ele chegou a trabalhar por mais de uma década no mercado financeiro, até ser demitido. “Às vezes você só precisa que alguém o impulsione a fazer algo diferente”, disse na época sobre sua mudança de rumo na carreira, para abrir um serviço de informação financeira.\\nGaranta até 55% OFF na Expert XP com cupom InfoMoney\\nFazendo a ponte com o futuro, a futuristaAmy Webb, CEO do Future Today Strategy Group, acrescentou uma provocação estratégica vinda do SXSW 2025: “O maior erro das empresas é reagir às tendências em vez de antecipá-las. A visão estratégica não pode ser um luxo – deve ser um hábito”, afirmou. Ela introduziu o conceito de “The Beyond”, um espaço de transição tecnológica e social onde as regras tradicionais deixam de fazer sentido. Para ela, “The Beyond não é uma metáfora, é uma inteligência viva. E essa inteligência viva vai reescrever as regras da nossa realidade como a conhecemos hoje — e nós não estamos preparados”.\\nCofundador da Apple,Steve Wozniakcontou na Expert XP 2023 sua trajetória, marcada inicialmente pelo desejo em conhecer a fundo computadores, e que acabou o direcionando à criação da empresa mais valiosa do mundo. Na ocasião, Wokniak fez uma análise da emergente inteligência artificial, mas ressaltou que o trabalho humano continuará sendo “essencial”. O cofundador da Apple citou ainda a importância da regulação da IA e da transparência das fontes de informação utilizadas pela ferramenta.\\nAExpert XP 2025, mais uma vez, se consolida como um fórum que conecta ideias, pessoas e decisões que moldam o presente e o futuro. Não apenas de quem investe dinheiro — mas de quem investe tempo e energia para entender o mundo de forma mais profunda.\\nServiçoEvento:Expert XP 2025Data:25 e 26 de julho de 2025Local:São Paulo Expo – São Paulo/SP\\nBenefícios Cartão XP:1% de Investback ou 1 ponto por dólar.\\nIngresso para os dois dias com Cartão XP (25 e 26/07):R$ 1.200,00\\nIngresso para sábado (26/07):R$ 799,00\\nSite oficial:www.expertxp.com.br\\nGaranta até 55% OFF na Expert XP com cupom InfoMoney',\n",
       " 'Muito antes da invenção da moeda metálica padronizada, diferentes civilizações encontraram formas diversas de representar valor, realizar trocas e acumular riqueza. Desde séculos antes de Cristo, objetos como sal, chá, gado, lingotes metálicos, conchas, contas de vidro, bambu e ferramentas agrícolas serviram como instrumentos monetários — as chamadasmoedas-mercadoria, ouprotomoedas.\\nAs protomoedas têm valor intrínseco e foram utilizadas tanto como meio de troca quanto como forma de ostentação, pagamento de tributos ou reservas de valor. Seu uso remonta há mais de 5 mil anos, quando o escambo predominava, e algumas delas coexistiram com moedas metálicas até o século XX. Em muitos casos, deixaram um legado duradouro — inclusive em palavras do nosso vocabulário cotidiano.\\nO sal foi um dos primeiros bens a ser utilizado como moeda. Civilizações antigas como a Babilônia, o Egito, a China e sociedades pré-colombianas atribuíam a ele alto valor, especialmente por sua importância na conservação de alimentos. Na Roma Antiga, parte do pagamento dos soldados era feito em sal, prática que deu origem à palavra “salário”.\\nAs conchascauri, de coloração branca e formato característico, foram amplamente empregadas como dinheiro por mais de 3 mil anos. Originárias dos oceanos tropicais, elas circularam da China até a África Ocidental, passando por Índia, Sudeste Asiático e até o Pacífico Sul. Pequenas, duráveis e esteticamente valorizadas, os cauris foram tão relevantes que chegaram a representar a principal forma de pagamento em diversas sociedades, inclusive no comércio de escravizados e bens valiosos.\\nNa África, o ferro foi não apenas matéria-prima de ferramentas e armas, mas também instrumento monetário. Ele circulava de diferentes formas — desde o metal bruto até objetos elaborados. Entre os exemplos mais marcantes estão osKissi penniese asManillas— pulseiras metálicas usadas no comércio, inclusive na compra de pessoas escravizadas, o que lhes rendeu na Europa o apelido de “dinheiro de escravo”. Apesar dessa associação negativa, as manillas também eram utilizadas em contextos culturais, como casamentos e trocas cerimoniais, sendo parte fundamental da herança simbólica africana.\\nNa Grécia Antiga, espetos de ferro precederam as moedas de prata. Em Esparta, o ferro foi escolhido propositalmente para dificultar o acúmulo de riqueza. Na Índia, África e Indochina, enxadas e outras ferramentas agrícolas circulavam como dinheiro, destacando o valor prático e simbólico do material metálico. Entre os Bahnar, do Vietnã, a enxada era a menor unidade monetária.\\nDurante o século XIX,contas de vidroganharam ampla circulação em regiões da África. Produzidas na Europa, essas peças eram usadas como pagamento, tributo ou ornamento. Sua aceitação dependia de convenções locais: determinadas cores ou formas serviam para pagar alimentos, outras para contratar serviços. Sua estética era tão importante quanto sua função monetária.\\nNa China, especialmente durante a dinastia Song (960–1279), obambufoi utilizado como suporte para sistemas de crédito e vale-mercadoria. Pequenas tabuletas de bambu, com inscrições registrando valores e prazos, circularam como promissórias e anteciparam a ideia do papel-moeda. Em certas regiões rurais, o bambu também era utilizado como dinheiro local, devido à sua abundância, facilidade de marcação e aceitação comunitária.\\nOutro exemplo notável foi o uso dochá como moeda, especialmente na Ásia Central e no Tibete. Blocos prensados de chá — geralmente em formato de tijolos retangulares — eram transportados por caravanas e amplamente aceitos como forma de pagamento. Por serem duráveis, transportáveis e de valor reconhecido, esses tijolos de chá serviram tanto como moeda de troca quanto como reserva de valor. Em algumas regiões tibetanas, o “chá-moeda” permaneceu em uso até o início do século XX, sendo valorizado não só por seu conteúdo, mas também por seu papel na cultura alimentar e religiosa local.\\nDiretora de Comunicação da Sociedade Numismática Brasileira (SNB)\\nPresidente da Sociedade Numismática Brasileira (SNB)',\n",
       " 'A Polícia de São Paulo indiciou criminalmente a psicóloga e ex-atriz global Suse Maria Gomes\\xa0Camacho\\xa0Curi, a\\xa0Suzy\\xa0Camacho, de 64 anos, pelo suposto desvio de R$ 42,2 milhões do patrimônio de seu ex-companheiro, o empresário Farid Curi, falecido aos 85 anos.\\nSuzy teria se aproveitado da condição de saúde debilitada de Farid nos últimos anos de vida para realizar – até com uso de documentos falsos -, uma sucessão de movimentações financeiras e patrimoniais em benefício próprio e de seus familiares.\\nAoEstadão, o criminalista Luiz Flávio Borges D’Urso, que defende\\xa0Suzy, disse que ‘tudo não passa de uma grande armação dos filhos de Farid’. D’Urso é taxativo. “É tudo mentira, nada foi apurado, nenhum crime foi verificado e nenhuma denúncia criminal existe contra a\\xa0Suzy.”\\nSuzy\\xa0Camacho, psicóloga, foi atriz de novela da Globo. Em 1987, fez parte do elenco de Brega & Chique. Também atuou em ‘A viagem’. Depois, afastou-se da carreira artística.\\nA Polícia atribui à\\xa0Suzy\\xa0violação aos artigos 102 e 107 do Estatuto do Idoso. O 102 fala em apropriação ou desvio de bens, proventos, pensão ou outros rendimentos do idoso. O 107 fala de abandono ou negligência no trato do idoso.\\nFarid Curi morreu aos 85 anos, em setembro de 2022. Ele foi um dos sócios da rede de supermercados Atacadão, comprada pelo Carrefour por cerca de R$ 2,2 bilhões em 2013.\\nEle e\\xa0Suzy\\xa0se casaram em 29 de junho de 2013 pelo regime da separação obrigatória de bens.\\nRelatório final do inquérito do 4.º Distrito Policial (Consolação), ao qual oEstadãoteve acesso, afirma em 55 páginas que durante o período em que Farid ‘enfrentava sérias limitações cognitivas e físicas’, houve uma evolução patrimonial significativa por parte de\\xa0Suzy, incompatível com a renda que ela havia declarado à Receita Federal.\\nEsse crescimento foi constatado a partir da análise de declarações de Imposto de Renda, de dados bancários e de um relatório elaborado pelo Conselho de Controle de Atividades Financeiras (Coaf), que apontou um volume elevado de transações bancárias, aquisições de bens e transferências para terceiros ‘sem justificativa econômica plausível’.\\nA Polícia destaca que, além da discrepância entre os valores movimentados e a renda declarada, a investigação identificou que Suse passou a centralizar a administração financeira de Farid após afastar tanto seus filhos quanto a funcionária de confiança que historicamente cuidava das finanças do empresário. A gestão dos recursos foi então assumida por um irmão dela, Pompilio\\xa0Camacho.\\nA investigação aponta que Pompilio passou a figurar como co-titular em uma conta originalmente vinculada a Farid. Essa conta, movimentada majoritariamente por Pompilio, ‘foi usada para realizar saques em espécie e transferências expressivas para contas em nome da própria\\xa0Suzy\\xa0e de pessoas próximas a ela’.\\nA análise bancária apontou o saque de R$ 1,29 milhão em dinheiro e transferências que ultrapassam R$ 3 milhões para contas de titularidade exclusiva de Suse.\\nOutras movimentações despertaram a atenção dos investigadores, inclusive o envio de mais de R$ 1,2 milhão da mesma conta para Pompilio\\xa0Camacho, ‘além de doações sucessivas a outros familiares, como sua mãe, seus sobrinhos e seu filho, que somaram aproximadamente R$ 900 mil’.\\nTambém foram registrados empréstimos e transferências que ultrapassam R$ 3,7 milhões para terceiros, ‘com fortes indícios de utilização de pessoas interpostas, laranjas, o que sugere tentativa de ocultação da origem dos recursos’.\\nEntre os bens adquiridos nesse período, diz o inquérito, está um imóvel comprado por mais de R$ 2,4 milhões de uma empresa falida transação considerada atípica pelos investigadores.\\nA movimentação internacional também entrou na mira da Polícia. O rastreamento aponta uma transferência para Suse de US$ 450 mil de uma empresa sediada nas Bahamas, além da declaração, a partir de 2020, de contas bancárias em Mônaco e Miami com saldo superior a R$ 18 milhões. Tais registros, diz a Polícia, ‘não possuem lastro na capacidade econômica da investigada e podem indicar tentativa de burla ao regime de separação total de bens estabelecido com Farid’.\\nPara o delegado Guilherme Sabino Corrêa, que presidiu o inquérito, existem ‘robustos indícios de que\\xa0Suzy\\xa0tenha se valido da condição clínica de seu então companheiro para esvaziar indevidamente seu patrimônio, de modo sistemático e silencioso’,\\nA estimativa preliminar dos valores desviados ou ocultados girava entre R$ 25 milhões e R$ 30 milhões. Após ‘refinamento e análise das provas’, a Polícia concluiu que o desfalque bateu em R$ 42.256.507,31 do patrimônio de Farid Curi ‘na constância do matrimônio’.\\nA investigação mapeou também beneficiários das operações, ‘a fim de permitir eventual responsabilização penal e recuperação de ativos em favor do espólio de Farid Curi’.\\nSegundo o delegado Guilherme Sabino Corrêa, do 4.º Distrito Policial (Consolação), as provas indicam que\\xa0Suzy\\xa0‘não possuía capacidade financeira para movimentar todos os valores destacados’ no Relatório de Inteligência Financeira do Coaf.\\n“Há fortes indícios de que seus investimentos financeiros e imóveis adquiridos durante o matrimônio com Farid Curi, especialmente após o ano de 2019, quando o idoso apresentou doença que o tornou absolutamente incapaz para os atos da vida civil, foram produto de desvios de valores do cônjuge”, sustenta o relatório final do inquérito.\\nA Polícia destaca que o casamento foi regido pelo regime de separação total de bens, que na época era obrigatório para pessoas com mais de 70 anos. Ao longo da convivência com\\xa0Suzy, o empresário ‘apenas indicou um único apartamento no Rio de Janeiro como sendo adquirido em conjunto com a investigada, compondo todos os demais bens exclusivamente o seu patrimônio’.\\n“Neste sentido, citam-se os pontos destacados, exaustivamente detalhados no Relatório de Investigação, concluindo-se por um desvio de R$ 42.256.507,31 do patrimônio de Farid Curi, na constância do matrimônio.”\\nO inquérito foi aberto a partir de uma representação dos filhos de Farid atribuindo a\\xa0Suzy\\xa0‘apropriação ou desvio de bens, proventos, pensão ou qualquer outro rendimento’ do empresário, ‘dando-lhes aplicação diversa da de sua finalidade, enriquecimento próprio e de seu filho’.\\nAinda segundo a investigação, a ex-global teria ‘coagido de qualquer modo, suposto uso de medicação excessiva e suposta pressão psicológica, o idoso Farid a doar, contratar, testar ou outorgar procuração’.\\nO início do relacionamento foi descrito assim por uma das filhas de Farid. “Meu pai sempre sofreu com fortes dores na coluna, sofrendo diversas cirurgias graves na coluna e, por tal motivo, passou a, gradativamente, sofrer com as limitações inerentes ao quadro clínico imposto, bem como com a dolorosa e dificultosa recuperação. O casamento, assim, passou a ser visto com bons olhos, vez que entendíamos que a relação com\\xa0Suzy\\xa0teria colaborado em superar tais dificuldades físicas, inclusive uma eventual depressão.”\\nA filha do empresário informou que, até 2016, a relação do casal era descrita como ‘normal’.\\nUm filho de Farid declarou. “Não houve qualquer imposição contrária dos filhos quanto à união, pelo contrário, viam seu pai bem e feliz, retomando, inclusive, viagens. Todavia, com o passar do tempo,\\xa0Suzy\\xa0excluiu Farid do seu convívio social, inclusive chegando a proibir os próprios filhos de terem qualquer contato pessoal ou à distância.”\\nA filha disse que, ‘a partir daí, a família passou a perceber um drástico distanciamento de seu pai, em comparação à rotina imposta pelo próprio pai à família até então’.\\n“As visitas passaram a ser espaçadas e, quando aconteciam, em que pese avisá-lo com antecedência, era claro o incômodo de\\xa0Suzy\\xa0que, a todo custo, procurava deixar os familiares incomodados e desconfortáveis, seja olhando para o relógio, seja bocejando, seja indicando que estava próximo do horário do jantar’.\\n“Suzy\\xa0jamais deixava a declarante e seus irmãos sozinhos com Farid. Tal postura, por óbvio, tornavam as visitas muito mais rápidas e superficiais. Além disso, informa que seu pai, com o passar dos anos, passou a se tornar mais silente, interagindo cada vez menos. O que relata neste ato, foi objeto também de observação de seus outros irmãos, notando que\\xa0Suzy, com o passar do tempo, passou a afastá-lo dos filhos e familiares, indo de encontro com todo afeto e harmonia que Farid construiu durante os anos.”\\nOutro filho do empresário declarou que até 2016 ‘tinham uma convivência diária na empresa, porém em razão de seu limitante quadro de saúde, ele passou a se distanciar, oportunidade em que as visitas passaram a ser a única forma de encontrá-lo’.\\n“No entanto, quando essas visitas aconteciam, era claro o incômodo de\\xa0Suzy\\xa0com minha presença, tentando, a todo custo, tirar minha liberdade na residência. Não conseguia, sequer, me dirigir à cozinha para buscar um copo de água, em claro esforço em me deixar incomodado e desconfortável. Jamais consegui ficar com meu pai sozinho durante as visitas.”\\nUma testemunha, que pediu para não ser identificada com receio de represálias, afirmou. “Não tem qualquer dúvida que ao contrair matrimônio com\\xa0Suzy, houve uma mudança drástica em sua rotina, passando a se distanciar gradativamente, até a atual situação, que consiste na proibição de qualquer contato dos filhos e amigos com o pai. Os eventos e festas deixaram de ocorrer e Farid passou a ficar mais recluso. O distanciamento dos filhos e dos amigos, concomitantemente com a piora em seu quadro de saúde, tornando-o cada vez mais dependente, tem relação próxima com o ingresso de\\xa0Suzy\\xa0em sua vida.”\\nA mesma testemunha enfatizou. “Recentemente, foi pego de surpresa quando, em pleno Dia dos Pais, soube da proibição dos filhos em ver Farid, deixando filhos e netos em plena via pública, em que pese pedidos para visitá-lo. Ciente de seu estado de saúde e das dificuldades de raciocínio que possui, tem certeza absoluta que tal determinação partiu de\\xa0Suzy. Há alguns meses, Farid perguntou ‘por que meus filhos não vêm mais me visitar?’, com muita tristeza nos olhos, mesma tristeza que notava quando o encontrava pessoalmente’.”\\nPara a Polícia,\\xa0Suzy\\xa0teria coagido Farid, por meio de suposto uso de medicação excessiva e pressão psicológica, a doar, contratar, testar ou outorgar procuração.\\nEm agosto de 2022, o Ministério Público de São Paulo chegou a denunciar\\xa0Suzy\\xa0Camacho\\xa0por supostamente falsificar atestados médicos para se apropriar de R$ 10 milhões de Farid. Na ocasião, a defesa da ex-global negou qualquer ato ilícito de\\xa0Suzy.\\nCOM A PALAVRA, OS ADVOGADOS DOS FILHOS DE FARID CURI\\nOs criminalistas Rodrigo Carneiro Maia Bandieri e Rubens de Oliveira, que representam os filhos do empresário Farid Curi, disseram ao Estadão que ‘confiam plenamente na Justiça e no trabalho técnico desempenhado pela Polícia Civil, em longa investigação’.\\n“A nossa confiança se estabelece, também, nas investigações que estão em andamento.”\\nCOM A PALAVRA, O CRIMINALISTA LUIZ FLÁVIO BORGES D’URSO, QUE REPRESENTA\\xa0SUZY\\xa0CAMACHO\\nO criminalista Luiz Flávio Borges D’Urso, que representa Suse Maria Gomes\\xa0Camacho\\xa0Curi, a\\xa0Suzy\\xa0Camacho, reagiu enfaticamente às conclusões da Polícia Civil de São Paulo.\\n“A\\xa0Suzy\\xa0é vítima de uma grande armação dos filhos do Farid. Eles os filhos, respondem a vários inquéritos policiais, desde denunciação caluniosa, corrupção de testemunhas, perseguição e ameaça contra\\xa0Suzy\\xa0que, por anos, teve medida protetiva contra eles.”\\nSegundo D’Urso, os filhos do empresário teriam submetido sua cliente até à ‘escuta ilegal e violência psicológica, além de vários outros crimes de que ela foi vítima.’\\n“Acusaram a\\xa0Suzy\\xa0levianamente e a Justiça tem restabelecido a verdade.”\\n“A\\xa0Suzy\\xa0foi investigada neste inquérito policial por seis anos. Os filhos do Farid, nesta guerra contra a\\xa0Suzy, acusaram-na de maus tratos a idoso”, argumenta o criminalista. “É tudo mentira, nada foi apurado, nenhum crime foi verificado e nenhuma denúncia criminal existe contra a\\xa0Suzy.”\\nD’Urso relata que\\xa0Suzy\\xa0Camacho\\xa0foi ‘esposa de Farid e, por mais de 10 anos, cuidou dele’.\\n“Os filhos do Farid receberam mais de 300 milhões de reais do pai ainda em vida e depois processaram o pai por causa de dinheiro”, afirma o advogado. “A partir daí, foi estabelecida uma guerra entre os filhos dele, de um lado, e Farid e\\xa0Suzy\\xa0de outro.”\\n“Após seis anos de investigação infrutífera, o delegado ao ser transferido para outro DP (o que se deu há 15 dias) apresentou este relatório também há uns 15 dias, desconsiderando tudo o que foi produzido de provas pela defesa. Somente relatou o lado dos filhos, que mentem descaradamente por causa de dinheiro. O delegado, que nada encontrou de crime, indiciou a\\xa0Suzy\\xa0sem fundamento, o que vai ser corrigido pela Justiça.”\\nSegundo D’Urso, os filhos do empresário ‘usaram jornalistas para acusar\\xa0Suzy\\xa0de vender uma casa milionária do Farid’.\\n“A casa de praia valia 62 milhões. Provamos que quem vendeu a casa foi a filha do Farid, pela metade do preço! E ainda não prestou contas no Inventário. Isso também gerou um inquérito policial para investigar a filha do Farid. Tem muita coisa nesse caso. Tem até processo na Corregedoria da Polícia Civil.”',\n",
       " 'O Ibovespa encerrou o pregão desta quinta-feira (03) com uma performance histórica, subiu1,35%, encerrando o pregão em140.927,86 pontos. Durante a sessão, ultrapassou pela primeira vez os141 mil pontos, marcandonovo topo histórico em 141.303,55 pontos.\\nO avanço foi impulsionado por um conjunto de fatores, com destaque para o bom humor global após a divulgação do payroll nos Estados Unidos, que mostrou geração de empregos acima do esperado e queda na taxa de desemprego. No entanto, o dado que mais agradou os mercados foi a desaceleração dos salários, reforçando a expectativa de que o Federal Reserve ainda possa cortar os juros até o fim de 2025.\\nNo Brasil, apesar das tensões entre os Três Poderes envolvendo o decreto do IOF e a discussão da isenção do IR, o apetite por risco prevaleceu, com bancos e varejistas liderando os ganhos. A liquidez foi reduzida, reflexo do feriado do Dia da Independência nos EUA, que manteve as bolsas de Nova York fechadas nesta sexta.\\nPara os traders do mini-índice, o dia foi de clara dominância compradora, com forte tração do índice futuro já na abertura e manutenção do viés de alta ao longo da sessão. A ausência de Wall Street reduziu o volume, mas não impediu o rompimento de resistências importantes, abrindo espaço para novos topos históricos.\\nOs bancos puxaram o fôlego do movimento, seguidos por Petrobras e ações do setor de consumo, enquanto Vale destoou com queda leve. Com o calendário esvaziado nesta sexta-feira e o IPP como destaque local, o mercado pode operar em ritmo mais moderado, mas a tendência segue construtiva, com operadores atentos a uma possível extensão do rali de alta nas próximas sessões.\\nAprenda o Setup da Praia na Semana do Trader Sossegado 2.0\\nOs contratos futuros demini-índice (WINQ25), com vencimento em agosto, encerraram a última sessão com alta de1,19%, aos143.125 pontos.\\nNográfico diário, a estrutura segue com viés altista, com o ativo mantendo-se acima das médias móveis de9, 21 e 200 períodos. OIFR (14)está em60,09, em zona ainda neutra.\\nO suporte relevante está em137.390/136.800, e seu rompimento pode levar o índice às regiões de134.550/133.560e131.950/130.885 pontos. Do lado oposto, a resistência está em143.710, e seu rompimento pode destravar novas altas até145.080/145.630e, posteriormente,148.520/149.400 pontos.\\nNográfico de 15 minutos, a sessão anterior foi marcada por uma predominância da força compradora durante grande parte do dia, refletindo um cenário de continuidade da tendência de alta no curtíssimo prazo.\\nNo entanto, a entrada de uma leve pressão vendedora no final do pregão acabou levando o ativo a encerrar o dia abaixo das médias móveis de9 e 21 períodos, sinalizando uma possível pausa do movimento. Ainda assim, o viés técnico permanece altista, desde que o mini-índice consiga se sustentar acima das principais regiões de suporte.\\nPara esta sexta-feira (5), os principais níveis gráficos a serem monitorados estão nos suportes em142.740/142.530(1),141.900/141.600(2) e141.085/140.905(3), e nas resistências em143.300/143.455(1),144.200/144.450(2) e144.900/145.065(3).\\nUm rompimento da resistência imediata em143.300/143.455poderá impulsionar o ativo rumo às próximas faixas de resistência em144.200/144.450, com possível extensão até144.900/145.065, caso o fluxo comprador ganhe força.\\nNográfico de 60 minutos, o mini-índice encerrou a última sessão com valorização, rompendo resistências de relevância e consolidando sua posição acima das médias móveis de9, 21 e 200 períodos— um indicativo de que o controle ainda está nas mãos da ponta compradora. Esse comportamento reforça o viés altista no curto prazo.\\nNo entanto, é importante observar que o preço se distanciou significativamente da média de21 períodos, o que pode indicar uma possível exaustão momentânea e a chance de um movimento corretivo em direção a essa média, que atua como suporte dinâmico e coincide com a região entre142.300/142.000pontos.\\nCaso o ativo consiga superar com volume a resistência imediata em143.730, poderá abrir espaço para uma nova pernada de alta, mirando os alvos intermediários em144.260/144.450, com projeção estendida até145.160/145.730, regiões que concentram barreiras técnicas.\\n(Rodrigo Paz é analista técnico)',\n",
       " 'A Caixa Econômica Federal anunciou nesta quinta-feira (3) que vai aumentar o preço das apostas de seis loterias: Mega-Sena, Dupla Sena, Quina, Lotofácil, Loteca e Super Sete. O reajuste passa a entrar vigor a partir de 9 de julho.\\nO concurso 2.883 da Mega-Sena será sorteado nesta quinta-feira (3), a partir das 20h (horário de Brasília), no Espaço da Sorte, em São Paulo. O prêmio principal será de R$ 3,5 milhões.\\nO jogo simples, com seis números marcados, ainda custa R$ 5.',\n",
       " 'O fundo imobiliário HSI Renda Urbana (HSRE11) concluiu nesta semana a venda de um imóvel desocupado localizado em São Luís (MA), zerando a vacância da carteira. A transação foi realizada por R$ 12 milhões.\\nO valor de R$ 2,4 milhões será pago à vista e os R$ 9,6 milhões restantes parcelados em 24 vezes mensais e fixas de R$ 400 mil, sem atualização monetária.\\nO imóvel possuía uma área bruta locável (ABL) de 4.875 m², o equivalente a 4,2% da ABL total do fundo, e encontrava-se desocupado.  Com a conclusão da venda, oHSRE11passou a operar com 100% de ocupação.\\nNa segunda-feira (30/06), o HSI Renda Imobiliária (HSRE11) anunciou o maior dividendo desde sua criação. Os cotistas do fundo receberão R$ 1,72 por cota no próximo dia 14 de julho, com base nos resultados apurados em junho.\\nO valor representa um salto de 164% em relação à distribuição anterior, que foi de R$ 0,65 por cota.\\nO HSI Renda Urbana contava, até o período mais recente, com um saldo de lucros acumulados a distribuir de R$ 1,22 por cota, proveniente de operações de venda anteriores.\\nQuer saber quais fundos se destacaram com os maiores dividendos deste mês?Confira a matéria completa como ranking das maiores altas e veja quais outros FIIs entregaram os melhores retornos aos cotistas.',\n",
       " 'Um homem de 35 anos foi morto a tiros dentro de um Porsche na manhã deste sábado, 5, em Guarulhos (SP), na região metropolitana de São Paulo. De acordo com a Polícia Militar, o crime aconteceu por volta do meio-dia na Rua Felizarda Firmino de Andrade.\\nCrime segue sendo investigado pela polícia\\nSegundo testemunhas, dois suspeitos em motos passaram pela via e atiraram contra o motorista. A vítima portava um coldre vazio preso à cintura. Um celular, um relógio e alguns anéis foram apreendidos no local.\\nO Samu foi chamado, mas ao chegar ao local constatou o óbito.\\nO caso foi registrado como homicídio no 1° Distrito Policial de Guarulhos, que solicitou apoio ao Setor de Homicídios e Proteção à Pessoa (SHPP) do município para auxiliar nas investigações.\\nA identidade da vítima ainda não foi confirmada pela Polícia, mas, segundo o G1, que falou com a família, trata-se de Rodrigo Júnior da Silva Ponce. Ele tinha 35 anos e trabalhava com transporte e terraplanagem e tinha CAC (certificado de colecionador, atirador desportivo e caçador).\\nNa manhã deste sábado, Rodrigo compartilhou um vídeo nos stories do Instagram mostrando que estava saindo com seu carro novo. O vídeo foi postado há 8 horas.\\nAté o momento, ninguém foi preso.\\nEm nota, a Secretaria de Segurança Pública (SSP) de São Paulo afirmou que imagens de câmeras de segurança estão sendo analisadas para auxiliar na identificação dos suspeitos.\\nDados divulgados pela Secretaria da Segurança Pública de São Paulo apontam que de janeiro a maio deste ano foram registrados 1.029 homicídios dolosos no estado, 12 casos a menos que no mesmo período do ano passado.\\nOs latrocínios também caíram. Até maio, foram contabilizados 58 roubos seguidos de morte, uma queda em relação aos 79 casos registrados em 2024. Em contraste, os furtos estão em alta e ultrapassam os 45 mil registros mensalmente.',\n",
       " 'Desde que começou a ser implementada de forma gradual em 2023, a Resolução 175 da CVM (Comissão de Valores Mobiliários) vem promovendo transformações significativas na indústria de fundos no Brasil. Mas com o encerramento do prazo de adaptação nesta segunda-feira, dia 30 de junho, inicia-se definitivamente um novo capítulo para o setor — com efeitos diretos e positivos para milhões de brasileiros que já investem ou desejam investir nesses produtos. Atualmente, mais de 20 mil fundos já operam sob este novo conjunto de regras, que traz mais segurança, modernidade e alinhamento com as necessidades do investidor.\\nMas o que muda na prática? Um dos avanços mais relevantes é uma maior transparência em relação às taxas cobradas por esses produtos, ajudando o investidor a tomar decisões mais conscientes. A partir de julho, todos os fundos estão obrigados a divulgar, de forma clara, as remunerações pagas ao gestor, ao administrador e aos distribuidores. Com essas informações em mãos, o investidor pode comparar as taxas de diferentes produtos e entender melhor os incentivos de cada prestador de serviço do fundo.\\nOutro mérito da nova regra foi a ampliação das possibilidades de alocação dos fundos, oferecendo aos gestores maior flexibilidade nos limites e tipos de investimento. Um dos reflexos mais visíveis dessa mudança é o avanço da internacionalização das carteiras. A norma permite que fundos destinados tanto ao público em geral quanto a investidores qualificados (aqueles que têm mais de R$ 1 milhão aplicados) possam investir até 100% de seus ativos no exterior, desde que cumpram determinados requisitos. Diante dessa liberdade, pelo menos 60% dos fundos passaram a prever a possibilidade de alocar recursos fora do Brasil. Para o investidor, essa abertura representa uma oportunidade de diversificação, reduzindo a exposição a riscos locais e ampliando o acesso a geografias e ativos que podem oferecer retornos mais atrativos ou maior resiliência em diferentes cenários econômicos.\\nE tem mais: acompanhando a disseminação dos ativos digitais e dos investimentos sustentáveis, a Resolução 175 autorizou os fundos a alocarem até 10% do seu patrimônio diretamente em criptoativos e passou a reconhecer créditos de carbono como ativos financeiros que podem compor a carteira de fundos, desde que atendam a critérios de liquidez, precificação e custódia.\\nAlém disso, a norma passou a permitir que os FIDCs, antes disponíveis apenas para os investidores qualificados, pudessem ser oferecidos também para qualquer investidor, independentemente do tamanho do seu bolso. Essa democratização amplia o acesso a uma classe de ativos baseada em recebíveis de empresas — como duplicatas e faturas — que pode oferecer retornos diferenciados.\\nOutra novidade introduzida pela Resolução 175 foi a possibilidade de os fundos adotarem a responsabilidade limitada para os cotistas. Mais de 70% dos fundos optaram por este modelo, que representa uma importante proteção ao investidor. Na prática, esse regime prevê que se uma pessoa aplicou R$ 100 em um fundo, por exemplo, este é o máximo que ela poderá perder. Ou seja, mesmo em cenários extremos — como prejuízos que superem o patrimônio do fundo — o cotista não será obrigado a realizar aportes adicionais para cobrir perdas.\\nAgora que o período de adaptação à Resolução 175 terminou, a expectativa é de que mais gestores comecem a usar um recurso inovador: as chamadas classes e subclasses dentro dos fundos.\\nPense no fundo como um prédio. Cada classe seria como um andar diferente, com seus próprios investimentos, como ações, títulos de renda fixa, etc. Já as subclasses seriam os apartamentos dentro de cada andar, feitos para diferentes tipos de investidores. Cada apartamento pode ter regras diferentes, como prazo para resgatar o dinheiro ou taxas de administração, por exemplo. No fim das contas, essa estrutura deve tornar os fundos mais eficientes e otimizar seus custos, o que também tende a beneficiar o investidor.\\nTodas essas mudanças deixam claro a importância da Resolução 175. Ela é mais do que uma nova regra — representa um salto de qualidade rumo a uma indústria de fundos mais moderna, transparente e alinhada com o investidor brasileiro, que, finalmente, começa a ocupar o centro do palco.\\nDiretor-executivo da Associação Brasileira das Entidades dos Mercados Financeiro e de Capitais (Anbima) desde 2012.',\n",
       " 'O presidente Luiz Inácio Lula da Silva teceu críticas a investimentos em guerra, em detrimento de contribuições com fundos de desenvolvimento, em seu discurso de abertura da Cúpula dos Brics no Brasil.\\nO presidente defendeu que é necessário “transformar completamente” o conselho para torná-lo mais legítimo, representativo, eficaz e democrático ao incluir novos membros permanentes da Ásia, África, América Latina e Caribe.\\n“É mais do que uma questão de justiça. É garantir a sobrevivência da própria ONU”, afirmou, acrescentando que a organização enfrenta uma “crise de confiança”. “Se a governança internacional não reflete a nova realidade multipolar do século XXI, cabe ao BRICS contribuir para sua atualização. Podemos lançar as bases de uma governança revigorada.”\\n“O temor de uma catástrofe nuclear voltou ao cotidiano”, afirmou o presidente. “No vazio dessa crise não solucionada, o terrorismo encontrou terreno fértil”, disse. Mesmo afirmando que nada justifica as atitudes do grupo terrorista Hamas, Lula ressaltou que não é possível permanecer “indiferente ao genocídio feito por Israel em Gaza”.\\n“A solução desse conflito só será possível com o fim da ocupação israelense e com o estabelecimento de um estado palestino, soberano, dentro das fronteiras de 1967”, afirmou.\\nSobre a guerra da Ucrânia, o presidente sustentou que ser “urgente que as partes aprofundem o diálogo direto com vistas em um cessar-fogo e paz duradoura”.\\nLula mencionou outros conflitos globais, destacando que o governo brasileiro condenou os atentados em Caxemira – que ampliaram temporariamente tensões entre Índia e Paquistão. O presidente frisou que as violações de integridade territorial dificultam esforços de não-proliferação de armas atômicas.\\nSem mencionar diretamente os Estados Unidos, Lula acusou ações sem amparo no direito internacional de aumentar a tendência de repetir de forma mais grave o “fracasso” das operações no Afeganistão, no Iraque, na Líbia e na Síria.\\n“Suas consequências para a estabilidade do Oriente Médio e Norte da África, em especial no Sahel, foram desastrosas e até hoje são sentidas”, disse. Novo membro do Brics, o Irã foi recentemente atacado por forças americanas em uma ação para destruir seu programa nuclear e exigiu a menção de repúdio à escalada de tensões no Oriente Médio no comunicado final do bloco.\\nO presidente também afirmou que o mundo passa por um “colapso sem precedentes” do sistema multilateral, e que o bloco é, hoje, o grupo que tem de trabalhar pela sua atualização.\\n“A ONU completou 80 anos no último dia 26 de junho e presenciamos um colapso sem paralelo do multilateralismo”, disse Lula. “O Brics é herdeiro do Movimento Não-Alinhado. Com o multilateralismo sob ataque, nossa autonomia está novamente em xeque. Avanços arduamente conquistados, como os regimes de clima e comércio, estão ameaçados”.',\n",
       " 'A Aura Minerals(AURA33) divulgou nesta quinta-feira (4) sua produção consolidada do segundo trimestre de 2025, totalizando 64,0 mil GEOs (equivalente de ouro), número em linha com o desempenho do mesmo período do ano passado e 6% acima das estimativas da XP Investimentos.\\nA XP Investimentosconsidera o resultado como um passo importante na trajetória operacional da mineradora, especialmente pela primeira produção de ouro na unidade de Borborema, no Rio Grande do Norte. O banco segue com recomendação otimista para os papéis da companhia, avaliando que o segundo semestre deve manter a tendência de geração de valor.\\nSegundo relatório da corretora, o desempenho foi puxado por surpresas positivas em unidades como EPP (Ernesto/Pau-a-Pique) e San Andrés, que apresentaram produções acima do esperado em 15% e 4%, respectivamente, na comparação com as estimativas internas.\\nA produção em Almas também apresentou avanço de 22% em relação ao mesmo período do ano passado, após a troca de empreiteira no primeiro semestre. A unidade opera agora com melhor desempenho de mina e taxas de processamento mais elevadas.\\nA produção inicial de Borborema, que atingiu 2,6 mil GEOs após a primeira fundição de ouro, também foi bem recebida. A Aura informou que o projeto segue dentro do cronograma para alcançar a produção comercial até o fim do terceiro trimestre. A XP vê essa frente como um novo motor de crescimento, especialmente por estar atrelada a um projeto considerado de alto retorno.\\nAranzazu, unidade de mineração localizada no México, apresentou leve queda de 10% na produção total em relação ao mesmo trimestre de 2024, encerrando o período com 22,3 mil GEOs. Apesar do recuo, a produção a preços constantes avançou 15% na base anual, devido à conversão de cobre para ouro. Já San Andrés, em Honduras, produziu 18 mil GEOs, uma leve queda anual de 6%, mas que veio acima das expectativas da XP.\\nApós pico de fechamentos em maio, setor abriu 18 lojas em junho. Iguatemi liderou aberturas e Allos segue com maior rotatividade, segundo o BofA\\nNo Brasil, a unidade de EPP atingiu 8,9 mil GEOs, o que representa queda de 17% em relação ao segundo trimestre do ano passado. A XP diz que a retração já era esperada em função do foco da empresa na preparação de novas frentes de lavra, como Nosde e Lavrinhas. O desempenho ficou acima das estimativas da corretora, que enxergou a operação com viés positivo. A produção em Almas foi de 12,9 mil GEOs, e ficou apenas 4% abaixo da expectativa da corretora, mas ainda assim contribuiu para o resultado trimestral positivo.\\nEm relatório assinado por sua equipe de análise, a XP reforça a recomendação de compra para os ativos da Aura. A corretora aponta três principais fundamentos: a valorização do ouro no mercado internacional, com riscos geopolíticos elevados favorecendo o ativo; o foco da mineradora em projetos de retorno elevado e conversão de recursos em reservas; e a preparação para uma oferta pública nos Estados Unidos que deve melhorar a liquidez das ações.',\n",
       " 'Com a Selic nas alturas, muitos investidores podem se perguntar onde o dinheiro rende mais com segurança. As aplicações de renda fixa normalmente aparecem como preferidas por causa da previsibilidade e do retorno sem grandes sustos, mas qual opção entrega mais retorno?\\nVeja simulação sobre quantoR$ 100 milrenderiam em CDB, LCI e LC, Tesouro Direto e poupança em um e dois anos. Mesmo com características semelhantes, essas opções têm diferenças que impactam diretamente a rentabilidade final – especialmente em aportes mais robustos.\\nA poupança ficou em último lugar no ranking de rentabilidade. Um investimento de R$ 100 mil renderiaR$ 108.429,55 líquidosapós um ano eR$ 117.569,68em dois anos. Como vantagem, esse tipo de aplicação é isento de Imposto de Renda.\\nAtualmente, a caderneta paga 0,5% ao mês (ou 6,17% ao ano), mais a variação da Taxa Referencial (TR), que gira em torno de 0,1758% ao ano. Esse modelo de cálculo só muda se a taxa Selic cair abaixo de 8,5% ao ano — nesse cenário, o rendimento passa a ser de 70% da Selic.\\nO Tesouro IPCA+ é um título público que garante rendimento acima da inflação. Em outras palavras, ele protege o poder de compra do investidor ao longo do tempo. Considerando o mesmo valor aplicado, o retorno seria deR$ 109.001,14líquidos em um ano eR$ 119.573,50 em dois anos – já com desconto do Imposto de Renda.\\nLembrando que amedida provisória (MP) que muda a tributação dos investimentos em renda fixaaltera a regra e estipula uma alíquota única de 17,5% a partir de 2026. O Congresso derrubou a medida, mas o caso foijudicializado. Portanto, pode ser que tenha validade ainda.\\nOs CDBs estão entre os produtos de renda fixa mais populares do país. Eles também seguem a tabela regressiva do IR, como o Tesouro Direto. Aplicando R$ 100 mil em um CDB que paga 100% do CDI, o valor chegaria aR$ 112.292,50em um ano eR$ 127.217,09em dois – o maior retorno entre os investimentos analisados.\\nAs LCI (Letras de Crédito Imobiliário) e LCAs (Letras do Crédito do Agronegócio) são, entre os ativos analisados, os que oferecem maior rentabilidade líquida no primeiro ano:R$ 112.665,00.Em dois anos, o retorno seria deR$ 126.934,02, um pouco abaixo do CDB.\\nA simulação considera uma LCI ou LCA com rendimento de 85% do CDI – o equivalente a um CDB de 100% do CDI, mas com a vantagem da isenção de IR. A MP que propõe nova tributação para ativos de renda fixa, no entanto, prevê uma alíquota de 5% para esses títulos, com validade a partir de 2026, caso seja aprovada.\\nA simulação parte do cenário de uma Selic constante em 15% ao ano – o que, segundo projeções do mercado, dificilmente se manterá no médio prazo.\\nAntes de escolher onde aplicar, vale observar alguns pontos importantes:',\n",
       " 'Beber é prejudicial à saúde em qualquer idade. Mas, à medida que você envelhece, os riscos se tornam maiores — mesmo com a mesma quantidade de bebidas.\\nO álcool afeta “praticamente todos os sistemas do corpo”, incluindo músculos, vasos sanguíneos, sistema digestivo, coração e cérebro, disse Sara Jo Nixon, diretora do Centro de Pesquisa e Educação sobre Dependência da Universidade da Flórida. “Ele impacta especialmente os idosos, porque já há algum declínio ou impacto nessas áreas.”\\n“Existe um conjunto totalmente diferente” de fatores de risco para a saúde dos idosos que bebem, disse Paul Sacco, professor de serviço social da Universidade de Maryland, Baltimore, que estuda o uso de substâncias e o envelhecimento. As pessoas podem não perceber que as bebidas que antes toleravam bem agora afetam seus cérebros e corpos de forma diferente, afirmou.\\nO álcool pode apresentar novos problemas na terceira idade — especialmente a partir dos 65 anos — mesmo para quem bebe pouco ou ocasionalmente. Os idosos tendem a ter menos massa muscular e reter menos água nos tecidos em comparação com os mais jovens, o que pode aumentar a concentração de álcool no sangue, explicou Aaron White, assessor sênior do Instituto Nacional sobre Abuso de Álcool e Alcoolismo (NIAAA). Isso significa que são necessárias menos bebidas para que os idosos se sintam intoxicados, aumentando o risco de lesões graves por quedas.\\nBeber álcool pode aumentar o risco de desenvolver doenças crônicas como demência, diabetes, câncer, hipertensão e doenças cardíacas. Mas também pode piorar os resultados para a maioria dos idosos que já vivem com doenças crônicas, disse Aryn Phillips, professora assistente de políticas e administração em saúde da Universidade de Illinois em Chicago, que estuda álcool e envelhecimento.\\nInterações medicamentosas também entram em cena. Misturar álcool com remédios prescritos que os idosos costumam tomar, como para diabetes ou hipertensão, pode tornar os medicamentos menos eficazes ou causar efeitos colaterais nocivos, como úlceras ou batimentos cardíacos irregulares. Benzodiazepínicos, quando combinados com álcool, podem diminuir a respiração e agir como um sedativo potente. Até medicamentos vendidos sem receita podem ser perigosos. A aspirina, que alguns idosos tomam para reduzir o risco de doenças cardiovasculares (apesar dos possíveis efeitos colaterais), pode causar hemorragia gastrointestinal grave, para a qual os idosos já têm maior risco, explicou Michael Wheeler, professor de ciência da nutrição da East Carolina University, que pesquisa doenças hepáticas induzidas pelo álcool.\\nAlguns idosos também afirmam que a ressaca piora com a idade. Embora não haja evidências científicas fortes que apoiem isso, as ressacas podem parecer piores porque o álcool pode agravar outros sintomas do envelhecimento, como o sono ruim, disse White.\\nEspecialistas afirmam que o consumo de álcool entre idosos parece ter aumentado nos últimos anos, embora as tendências nacionais sejam difíceis de acompanhar fora de pesquisas auto-relatadas. Uma pesquisa federal de 2023 mostrou que 12% dos adultos com 65 anos ou mais — cerca de 7 milhões de pessoas — relataram ter bebido pelo menos quatro ou cinco doses em uma única ocasião no mês anterior.\\nApós décadas de mensagens confusas sobre os malefícios e benefícios do álcool para a saúde, estudos recentes deixaram claro que nenhuma quantidade de álcool é boa para você. Ainda assim, Sacco reconheceu que “beber tem significado para as pessoas”, e que decidir moderar ou parar completamente “é uma decisão que você deve tomar em consulta com seu médico e seus entes queridos.”\\nMas qual é a quantidade “segura” de bebida para os idosos? Isso é difícil de dizer. Os estudos disponíveis que tentam estabelecer exatamente quanto álcool eleva os riscos à saúde em populações mais velhas usam diferentes parâmetros para consumo moderado, o que dificulta um consenso. “Mesmo como especialista na área, entendo a confusão”, disse Wheeler.\\nNixon aconselhou que adultos com 65 anos ou mais consumam no máximo uma bebida por dia e não ultrapassem sete por semana. (O NIAAA não estabelece diretrizes sobre consumo de álcool, mas os Centros de Controle e Prevenção de Doenças definem consumo moderado para adultos de todas as idades como até duas bebidas por dia para homens e uma bebida por dia para mulheres.)\\nTodos os especialistas enfatizaram que os idosos devem prestar muita atenção à resposta do corpo ao álcool e parar ou reduzir o consumo se sentirem que ele está afetando-os mais física ou cognitivamente.\\n“Se você não está bebendo atualmente, não comece”, disse Phillips. E se beber, seja honesto com seu médico sobre seu consumo e faça isso em um ambiente seguro, sabendo que sua tolerância pode não ser a mesma de antes, acrescentou.\\n“A resposta não precisa ser abstinência”, disse Nixon. Mas envelhecer com saúde “provavelmente não inclui múltiplas bebidas por dia para a maioria das pessoas.”\\nc.2025 The New York Times Company',\n",
       " 'A Inpasa, maior produtora de etanol de milho do Brasil, informou nesta sexta-feira que, por meio de um fundo de investimento em ações ligado à família fundadora, fez um investimento na Vibra (VBBR3) com objetivo “estritamente financeiro”.\\n“Trata-se de um investimento financeiro realizado por meio de um Fundo de Investimento em Ações (FIA) ligado à família, com objetivo estritamente financeiro e sem qualquer relação com a operação da empresa”, afirmou a Inpasa nesta sexta-feira.\\n“Esse fundo possui uma carteira diversificada, com participação em várias companhias listadas, entre elas, a Vibra, sem que isso represente qualquer vínculo societário, estratégico ou de parceria com a Inpasa.”\\nBolsa brasileira operou sem referência dos EUA, que não abriu hoje por feriado nacional\\nA Inpasa não especificou na nota a dimensão do investimento.\\nA nota foi divulgada após o Brazil Journal noticiar na véspera que a empresa está montando uma posição na Vibra e já possui fatia de cerca de 3% na companhia, líder nacional na distribuição de combustíveis e lubrificantes, citando fontes.\\nProcurada, a Vibra não respondeu a pedidos de comentário da Reuters.\\nAs ações da Vibra subiram 2,68% nesta sexta-feira, a R$ 22,59 cada, liderando as altas percentuais do Ibovespa, que avançou 0,24%.\\nAntes do comunicado da Inpasa, o Bradesco BBI apontou que ambas as empresas poderiam obter algumas sinergias em termos de competitividade para o fornecimento de etanol. “Observamos que a poison pill (pílula de veneno) da Vibra é acionada em 25% de participação”, ressaltou.\\nEditora de mercados do InfoMoney, cobre temas que vão desde o mercado de ações ao ambiente econômico nacional e internacional, além de ficar bem de olho nos desdobramentos políticos e em seus efeitos para os investidores.',\n",
       " 'Após enfrentar a maior queda anual de suas ações desde 2016 — um tombo de 23% em 2024 — aVale(VALE3) começa a trilhar um caminho de recuperação. A valorização de pouco mais de 5% no primeiro semestre de 2025 sugere que o pior pode ter passado, com a mineradora eliminando ruídos institucionais e buscando restabelecer a confiança do mercado. À frente das finanças da empresa nesse momento crucial estáMarcelo Bacci, vice-presidente de Finanças e Relações com Investidores, que assumiu o cargo em dezembro de 2024.\\nFormado em Administração pela FGV e mestre pela prestigiada Universidade de Stanford, nos Estados Unidos, Bacci chegou à companhia após mais de uma década como CFO da Suzano. Com bagagem de gestão em companhias globais, ele agora lidera a estratégia da mineradora para recuperar competitividade, conter custos e melhorar seus indicadores operacionais — metas que, segundo ele, começaram a ser cumpridas no último balanço.\\n“Vários riscos que os investidores elencavam já não existem mais”, disse em entrevista aoInfoMoneyem março de 2025.“Não cabe a nós dizer se o preço da ação está bom ou ruim. Mas, nesse patamar, aprovamos um programa de recompra, por considerarmos um bom investimento para a companhia”, diz Bacci, que será um dos painelistas da 15ª edição daExpert XP, que acontece neste ano, entre os dias 25 e 26 de julho, no São Paulo Expo, capital paulista.\\nAlém do desempenho financeiro, Bacci também tem atuado na reconfiguração do relacionamento institucional da empresa, em meio às cicatrizes das tragédias de Mariana e Brumadinho e à pressão política por mudanças no comando. Em entrevista aoInfoMoneyem março de 2025, o executivo disse que a Vale e o governo federal hoje convergem “em 90% dos temas” e compartilham a visão de que licenciamento e sustentabilidade devem caminhar com alinhamento técnico e político. “Essa recuperação de relação com o Estado vai trazer benefícios para todo mundo”, afirmou.\\nApesar da retomada de diálogo com Brasília, os compromissos de reparação continuam pesando no caixa. Em relação ao acordo de R$ 170 bilhões firmado com a Samarco, BHP e o poder público por causa do rompimento da barragem em Mariana, Bacci reconhece que parte relevante dos desembolsos se mantém nos próximos anos. Ainda assim, minimiza o impacto de municípios que não aderiram ao pacto: “Para nós, não vai significar grandes variações em relação ao desembolso que a gente vai fazer.”\\nGaranta até 55% OFF na Expert XP com cupom InfoMoney\\nA disciplina de custos, reforçada pela entrada em operação de minas mais eficientes, também está no foco do executivo. Mesmo diante de desafios como o excesso de chuvas no primeiro trimestre, ele garante que a empresa manterá a trajetória de redução de despesas iniciada em 2024. “A atividade da Vale se beneficia quando a operação é estável. Isso reduz custos e riscos.”\\nNo cenário internacional, o CFO vê estabilidade na demanda por minério de ferro, apesar do crescimento mais modesto da China e das novas tarifas impostas pelos Estados Unidos. “Outras regiões como Índia, Oriente Médio e Sudeste Asiático estão crescendo e ajudam a compensar essa eventual queda. O mundo está em equilíbrio no consumo de minério.”\\nCom uma gestão que alia técnica, visão estratégica e diálogo institucional, Marcelo Bacci se apresenta como peça-chave na tentativa da Vale de virar a página — tanto no mercado quanto na percepção pública.\\nGaranta até 55% OFF na Expert XP com cupom InfoMoney\\nSERVIÇO — Expert XP 2025Evento: Expert XP 2025Data: 25 e 26 de julho de 2025Local: São Paulo Expo — São Paulo/SP\\nBenefícios Cartão XP:1% de Investback ou 1 ponto por dólar.\\nIngresso para os dois dias com Cartão XP (25 e 26/07):R$ 1.200,00\\nIngresso para sábado (26/07):R$ 799,00\\nSite oficial:www.expertxp.com.br\\nGaranta até 55% OFF na Expert XP com cupom InfoMoney',\n",
       " 'A partir deste sábado (5), entra em vigor a nova tarifa social de energia elétrica, que isenta do pagamento da conta de luz famílias de baixa renda inscritas no Cadastro Único (CadÚnico) com consumo mensal de até 80 kWh. A medida faz parte de umaMedida Provisória (MP) publicada em maioe precisa ser aprovada pelo Congresso em até 120 dias para não perder validade.\\nSegundo estimativas do governo federal, cerca de 60 milhões de pessoas serão contempladas com a isenção total ou parcial da tarifa. O custo da medida é estimado em R$ 3,6 bilhões por ano, valor que, segundo o Ministério de Minas e Energia, será compensado com a abertura do mercado de energia e ajustes regulatórios no setor.\\nEx-ministro do STF critica ausência de interlocutores e defende que Congresso redesenhe regime político\\nAntes da mudança, apenas indígenas e quilombolas tinham direito à gratuidade. Famílias de baixa renda cadastradas no CadÚnico recebiam descontos de até 65% na fatura.\\nAgora, o novo modelo amplia o benefício e estabelece isenção total para quem consome até 80 kWh por mês. Para consumo entre 80 e 120 kWh, o desconto é mantido.\\nPelas novas regras, poderão receber o benefício:\\nAlém disso, o governo prevê uma nova faixa de desconto, direcionada a famílias com renda entre meio e um salário mínimo per capita. Nesse caso, haverá redução proporcional sobre a Conta de Desenvolvimento Energético (CDE) para consumo de até 120 kWh por mês. A CDE representa cerca de 12% da conta de energia e financia políticas públicas no setor elétrico.\\nA MP que viabiliza a nova tarifa social ainda depende da aprovação da Câmara e do Senado. A medida é tratada como uma vitrine social do governo Lula, especialmente importante em um contexto de queda de popularidade entre os eleitores de baixa renda. A meta é ampliar o acesso à energia e aliviar o orçamento das famílias mais vulneráveis.',\n",
       " 'A Comissão de Valores Mobiliários (CVM) divulgou nesta sexta-feira, 4, uma lista de nove companhias abertas consideradas inadimplentes, por não terem enviado à autarquia, há no mínimo três meses, pelo menos um dos seguintes documentos periódicos: formulário de Demonstrações Financeiras Padronizadas (DFP), formulário de Informações Trimestrais (ITR) ou formulário de Referência (FRE)\\nNa lista constam as companhias abertas que não apresentaram, até hoje, os documentos, com vencimento de entrega anterior a 3 de abril de 2025.\\nÍndices futuros dos EUA recuam após novos recordes e em dia de feriado\\nSão elas: BBM Logística S.A.; Bombril S.A. – Em recuperação judicial; Cia Tecidos Santanense – Em recuperação judicial; Reag Capital Holding S.A.; Reag Investimentos S.A.; Rossi Residencial S.A. – Em recuperação judicial; SPE Novo Norte Aeroportos S.A.; Sugoi – S.A.; e Teka Tecelagem Kuehnrich S.A. – Em recuperação judicial.\\nNão fazem parte da lista as companhias que estejam, segundo o cadastro da CVM, em situação de falência ou liquidação, bem como aquelas que estão com o registro suspenso, nos termos da Resolução CVM 80.',\n",
       " 'Investidores e americanos mais ricos estão entre os maiores beneficiados pelo novoprojeto de lei tributária do presidente dos Estados Unidos, Donald Trump. Entre os mais prejudicados pela ampla proposta estão universidades de elite, que enfrentam novos encargos, e imigrantes.\\nACâmara aprovou o projeto por 218 votos a 214, um dia antes do prazo limite autoimposto por Trump para o feriado de 4 de julho.\\nVeja quem ganha e quem perde no principal projeto legislativo da agenda doméstica do presidente:\\nOs ricos terão mais facilidade para transferir patrimônio a seus herdeiros e evitar aumento de impostos. O projeto inclui US$ 4,5 trilhões em cortes de impostos, segundo estimativa do Comitê Conjunto de Tributação. A isenção do imposto sobre herança sobe para US$ 15 milhões por indivíduo — totalizando US$ 30 milhões para casais — e será ajustada pela inflação. Os cortes nas alíquotas de imposto de renda implementados em 2017 se tornam permanentes, beneficiando principalmente os mais ricos.\\nMoradores de estados com altos impostos\\nO limite de dedução de impostos estaduais e locais sobe para US$ 40 mil por ano por um período de cinco anos. A dedução deixa de valer para quem ganha mais de US$ 500 mil por ano. Após esse prazo, o limite retorna aos atuais US$ 10 mil impostos pela lei de 2017.\\nA dedução de até 20% da renda de negócios enquadrados como “pass-through” (como MEIs, LLCs e sociedades) se torna permanente a partir do ano fiscal de 2026.\\nO benefício fiscal do carried interest — que favorece empresas de private equity, capital de risco e parcerias imobiliárias — foi mantido, apesar da pressão do presidente para eliminá-lo. O setor também ganhou um benefício ampliado na dedução de juros.\\nAlém de incentivos fiscais, a norma aumenta o financiamento para deportações, ao mesmo tempo em que reduz assistência médica e alimentar para pessoas de baixa renda\\nConcessionárias de veículos nacionais\\nFica permitido deduzir do imposto até US$ 10 mil por ano em juros de financiamento de carros fabricados nos EUA até 2028, o que pode ajudar nas vendas. O benefício vai sendo reduzido gradualmente para quem ganha mais de US$ 100 mil (indivíduos) ou US$ 200 mil (casais).\\nA proposta reativa regras fiscais favoráveis, como depreciação acelerada para modernização da produção e incentivos para pesquisa e desenvolvimento. Esses benefícios, antes temporários, agora se tornam permanentes — medida elogiada pela Associação Nacional dos Fabricantes.\\nProdutores de combustíveis fósseis\\nSetores como carvão, petróleo e gás natural recebem incentivos fiscais e novas regras que exigem a abertura de mais terras federais para exploração. Já os subsídios a energias renováveis serão gradualmente eliminados.\\nIdosos e trabalhadores que recebem gorjetas\\nPara cumprir promessas populistas de campanha, contribuintes com 65 anos ou mais ganham uma dedução padrão maior. Além disso, gorjetas e pagamento por horas extras ficam isentos de imposto de renda — embora essas isenções expirem após 2028 e tenham limites de custo.\\nO crédito tributário por filho sobe em US$ 200 a partir do ano fiscal de 2025 e passa a ser ajustado permanentemente pela inflação. Pais também poderão abrir “contas Trump” para bebês nascidos entre 2025 e 2028, com depósito inicial de US$ 1.000 feito pelo governo.\\nO projeto leiloa uma ampla faixa de espectro de rádio para uso em internet banda larga sem fio — potencialmente benéfico para empresas como a Starlink, da SpaceX, e para redes móveis 5G e futuras redes 6G.\\nForam rejeitadas propostas que aumentariam impostos sobre grandes corporações, como elevação do imposto sobre recompra de ações ou limite à dedução de impostos estaduais e locais por empresas.\\nO pacote prevê aumento de US$ 150 bilhões nos gastos com defesa, com boa parte dos recursos destinada à compra de novos sistemas de armas fabricados por grandes fornecedores.\\nQuase US$ 10 bilhões serão destinados a projetos como novas missões para a Lua e Marte e o descomissionamento da Estação Espacial Internacional.\\nParte do financiamento do projeto vem de cortes no Medicaid (seguro saúde para baixa renda) e no programa de assistência alimentar. Segundo o Yale Budget Lab, o impacto médio para os 20% mais pobres será de US$ 560 por ano.\\nO projeto impõe novas exigências de trabalho a beneficiários do Medicaid, exceto idosos, pessoas com deficiência e pais de crianças menores de 14 anos. Aqueles que passaram a ter direito ao programa por meio do Obamacare precisarão arcar com parte dos custos, como coparticipações.\\nNo caso do auxílio-alimentação, o projeto amplia os requisitos de trabalho para pessoas com até 65 anos. A partir de 2028, os estados também passarão a dividir os custos com o governo federal — hoje arcados integralmente por Washington.\\nO setor de energia limpa sofre com o desmonte de várias iniciativas da legislação climática de Joe Biden. O crédito para painéis solares e turbinas eólicas será eliminado rapidamente. Incentivos para melhorias de eficiência energética em residências e instalações de energia limpa desaparecem até o fim da década.\\nO Senado derrubou um artigo do projeto que impedia os estados de regularem a inteligência artificial — uma derrota para empresas como Microsoft, Meta e fundos de venture capital como a Andreessen Horowitz. A medida havia sido promovida por aliados republicanos no Vale do Silício.\\nA legislação estende os cortes de impostos de 2017 de Trump, enquanto adiciona novas isenções para gorjetas e horas extras. Apesar de alguns cortes de gastos, o plano ainda adicionaria US$ 3,4 trilhões ao déficit antes dos custos com juros\\nFabricantes de veículos elétricos\\nMontadoras como Tesla e General Motors perderão o crédito de até US$ 7.500 concedido ao consumidor pela compra de veículos elétricos, que será eliminado.\\nO projeto intensifica a ofensiva do governo Trump contra universidades como Harvard e Columbia. O imposto atual de 1,4% sobre rendimentos de fundos patrimoniais (endowments) de instituições privadas passa a ser progressivo, chegando a até 8% para universidades com maior renda por aluno.\\nVários dispositivos aumentam impostos sobre imigrantes. Um deles é a nova taxa de 1% sobre remessas de dinheiro para o exterior — prática comum entre imigrantes que ajudam financeiramente suas famílias nos países de origem.\\nAlém disso, o projeto restringe o acesso de alguns imigrantes a créditos fiscais para subsídios de seguro saúde. A mudança afeta especialmente imigrantes com asilo ou status de proteção temporária.\\nQuem aposta poderá deduzir apenas 90% das perdas em relação aos ganhos. Isso significa que mesmo quem empatar ou tiver prejuízo poderá ter de pagar imposto sobre “lucros” inexistentes.',\n",
       " 'Na quinta-feira (03), o dólar à vista recuou 0,27%, fechando cotado aR$5,4047, no menor nível em pouco mais de um ano. A moeda chegou a subir pela manhã, reagindo aos dados mais fortes do que o esperado sobre o mercado de trabalho dos Estados Unidos —com a criação de 147 mil vagas fora do setor agrícola em junho, superando as estimativas. Esse resultado reduziu a expectativa de corte de juros pelo Federal Reserve já em julho, pressionando os mercados globais no início do dia.\\nNo entanto, o movimento foi revertido ao longo da sessão devido ao fluxo de entrada de capital estrangeiro para a Bolsa brasileira, o que ajudou a empurrar o dólar de volta para o campo negativo. A liquidez, porém, foi reduzida em função do fechamento antecipado dos mercados em Nova York por conta do feriado de 4 de julho.\\nPara os traders do mini dólar, o dia foi marcado por forte volatilidade nos primeiros momentos do pregão, com o payroll impulsionando a cotação e testando regiões de resistência logo após a abertura.\\nNo entanto, a entrada de fluxo estrangeiro e o ambiente doméstico ainda sustentado por juros elevados favoreceram a retomada do viés de baixa no decorrer do dia. A mínima anual reforça o papel do diferencial de juros como força dominante no câmbio brasileiro, mesmo diante de pressões externas pontuais.\\nCom a agenda internacional esvaziada na sexta-feira e o cenário técnico mais pressionado, o mercado deve seguir atento à sustentação dos níveis atuais, em meio à disputa entre fundamentos econômicos e fluxo financeiro.\\nAprenda o Setup da Praia na Semana do Trader Sossegado 2.0\\nOs contratos futuros deminidólar (WDOQ25), com vencimento em agosto, encerraram a última sessão com baixa de0,30%, cotados a5.448 pontos.\\nNográfico diário, a estrutura segue com viés baixista, com o ativo sendo negociado abaixo das médias móveis de9 e 21 períodos, ambas com inclinação descendente. OIFR (14)está em32,17, próximo da zona de sobrevenda.\\nO suporte relevante está em5.416/5.380, e seu rompimento pode abrir espaço para quedas até5.320/5.275,5pontos. Do lado oposto, a resistência está em5.595/5.620, e seu rompimento pode levar o ativo às regiões de5.652,5/5.672,5pontos.\\nNográfico de 15 minutos, o ativo finalizou o dia dentro de um movimento de baixa, ainda que o fechamento tenha ocorrido entre as médias móveis de9 e 21 períodos. Amédia de 21permanece com inclinação negativa, sugerindo que o viés vendedor segue dominante no curto prazo.\\nNo entanto, é relevante observar que o último fundo formado foi menos profundo que o anterior — um sinal técnico que pode indicar início de enfraquecimento da pressão vendedora ou, ao menos, uma pausa no movimento de queda.\\nPara o pregão desta sexta-feira (04), os principais níveis técnicos a serem monitorados estão nas regiões de suporte em5.444(1),5.433/5.426(2) e5.413,5/5.405,5(3), enquanto as resistências se concentram em5.452/5.458(1),5.467/5.570(2) e5.485/5.490,5(3).\\nA região de5.444 pontosganha destaque como principal suporte imediato, sua perda pode intensificar a movimentação de baixa em direção a5.433/5.426, com possível extensão até o fundo de5.413,5/5.405,5.\\nNográfico de 60 minutos, o ativo também apresenta viés negativo, encerrando a sessão abaixo das médias móveis de9 e 21 períodos, ambas voltadas para baixo.\\nNo entanto, o suporte em5.440 pontosfoi testado e respeitado, sem que o preço conseguisse fechar abaixo dessa região — o que pode indicar uma possível exaustão vendedora\\xa0 e presença de compradores nessa região de curto prazo.\\nCaso esse suporte volte a ser pressionado e rompido, o próximo nível de atenção está entre5.440,5/5.423. A perda dessa faixa pode intensificar o movimento de baixa, com projeções em5.391e, em continuidade,5.364 pontos.\\nSe os compradores conseguirem reagir, o primeiro desafio será a região de resistência entre5.477,5/5.484,5, onde está posicionada a média móvel de21 períodos. Um rompimento com volume dessa faixa pode destravar espaço para avanços até5.501/5.510, com objetivo mais longo em5.536,5/5.547.\\n(Rodrigo Paz é analista técnico)',\n",
       " 'A Guarda Costeira dos EUA divulgou imagens no domingo (6 de julho) de suas equipes aéreas resgatando pessoas das enchentes repentinas no Texas na sexta-feira (4 de julho).\\nDoze voos foram realizados na região de Kerrville pela Guarda Costeira, que informou ter resgatado 15 pessoas do Camp Mystic na sexta-feira.\\nUm nadador de resgate permaneceu com as pessoas afetadas pelas enchentes, fornecendo assistência médica e ajudando na evacuação de 230 pessoas, disse a Guarda Costeira em um comunicado.\\nAs enchentes repentinas no centro do Texas mataram pelo menos 50 pessoas, incluindo 15 crianças, informaram as autoridades no sábado (5 de julho), enquanto os socorristas continuavam buscas por dezenas de campistas, turistas e moradores que ainda estavam desaparecidos.',\n",
       " 'Traders assistiam alarmados jatos dos Estados Unidos bombardearem um grande produtor de petróleo do Oriente Médio. Um aumento inicial no preço do petróleo, porém, se transformou em uma forte desvalorização, assim que os operadores perceberam que os fluxos de petróleo continuariam inalterados.\\nO ano era 1991 e a campanha de bombardeio dos EUA era contra o Iraque de Saddam Hussein. Em apenas uma noite, os preços caíram 30%.\\nTrês décadas depois, os traders de petróleo estão juntando os pedaços de uma montanha-russa de 12 dias, em que os preços subiram e caírem no período mais caótico do comércio de petróleo desde que a Rússia invadiu a Ucrânia em 2022.\\nMais uma vez, os traders passaram as noites grudados em suas mesas, participando de teleconferências nas primeiras horas da manhã e trabalhando incansavelmente em conexões governamentais e militares para obter informações que lhe assegurassem uma vantagem comercial.\\nAssim como em 1991, os picos iniciais rapidamente se transformaram em desvalorizações, à medida em que os traders se deparavam com a realidade de que o fluxo de petróleo continuaria fluindo.\\n“A maioria dos traders agora voltou aos casos básicos ancorados pela oferta e demanda”, acrescenta\\nA última quinzena do mês de junho deste ano forneceu, portanto, evidências gritantes da mudança psicológica que ocorreu em um mercado que ainda estava assombrado por memórias de movimentos cataclísmicos de preços, como os impulsionados pelos conflitos no Oriente Médio, nas décadas de 1970 e 1980.\\nPara os comerciantes de petróleo de hoje, as manchetes sobre bombas caindo tornaram-se cada vez mais uma oportunidade de venda.\\n“Os mercados hoje são muito mais resistentes às notícias – eles vão direto para a questão de saber se haverá uma interrupção no fornecimento ou não, tendo como pano de fundo quanta capacidade de produção ociosa existe.”\\nMuller se lembra, quando era um jovem trader em uma mesa de operação de futuros de petróleo da Shell, negociando durante a noite de 16 de janeiro de 1991. Na ocasião, ele saiu de sua mesa apenas pela manhã, quando seus chefes ordenaram que ele fosse para casa. A Shell decidiu desmontar operações, e Muller vendeu à medida que o mercado subia e depois desmoronava.\\nOs comerciantes de hoje, assim como os de 1991, passaram as últimas duas semanas lutando com a perspectiva do tipo de interrupção do fornecimento que só acontece uma vez em uma geração: uma interrupção no ponto de estrangulamento\\xa0do Estreito de Ormuz\\xa0que envia cerca de um quinto do petróleo do mundo.\\nOs operadores em algumas mesas em Genebra e Londres trabalharam em turnos para garantir a cobertura 24 horas – embora, na realidade, muitos tenham ficado acordados de qualquer maneira, navegando nos feeds de mídia social e participando de chamadas de emergência às 3 da manhã, enquanto os rumores voavam.\\nEnquanto os traders tentavam descobrir se desta vez era diferente, eles se concentraram em imagens de satélite sobre o Irã e Ormuz, para saber se haveria interrupção nos fluxos de petróleo.\\nAo largo da costa do Irã, todos os dias, um fluxo constante de petroleiros pegava os barris do país e navegava para o oceano. Enquanto os navios vazios de Teerã se espalharam – provavelmente por razões de segurança -, o petróleo do Irã estava fluindo a uma taxa de cerca de 40%\\xa0superior do que a média\\xa0do resto do ano.\\nAinda assim, embora os operadores hoje tenham uma enorme quantidade de informações digitais à sua disposição, desde imagens de satélite em tempo real até “reportagens coletivas”, segundo a segundo nas mídias sociais, alguns dos principais traders de petróleo físico do mundo enfatizaram como passaram as últimas duas semanas caçando informações da maneira mais antiquada: acessando conexões em Washington, Israel e em outros lugares para ter uma noção da direção da guerra e da capacidade de resposta do Irã.\\nEssa percepção ajudou a endurecer as convicções de que os EUA entrariam na briga e que o Irã não fecharia Ormuz, disseram eles.\\nUm executivo sênior disse a sua equipe para seguir as postagens de Donald Trump nas redes sociais como um guia sobre o que fazer a seguir. Em 16 de junho, o presidente postou em seu site Truth Social: “O IRÃ NÃO PODE TER UMA ARMA NUCLEAR”.\\nFerramenta cresceu no mercado financeiro, atraindo investidores, mas é preciso conhecer o profissional que está por trás da operação e a sua estratégia\\nCom o ritmo acelerado de manchetes significando que a negociação de futuros de petróleo bruto de repente ficou muito mais arriscada, o dinheiro foi derramado no mercado de opções, onde os traders podem fazer um seguro contra um pico a um custo mais barato do que negociar futuros.\\nLá, os mercados estavam se movendo tão rápido que os traders e corretores estavam constantemente tendo que reavaliar os negócios ou correr o risco de perder negócios, já que cada nova escalada de sinalização aumentava a volatilidade e o custo de compra desse seguro, disseram pessoas envolvidas no mercado.\\nVolumes recordes de opções mudaram de mãos, e o valor total negociado em apenas sete dias úteis foi o equivalente ao normalmente visto em vários meses.\\n“Em tempos de risco geopolítico, os traders migram para o mercado de opções em vez do mercado futuro.”\\n“Não vimos muita mudança nas posições de futuros de fundos de hedge discricionários no mês passado, mas sua exposição de opções de alta explodiu”, completou ele.\\nMesmo quando as hostilidades entre Irã e Israel esfriaram após os ataques em outubro do ano passado e alguns contratos expiraram, ainda havia cerca de 130.000 opções de compra de Brent a US$ 100 pendentes para os próximos seis meses de negociação.\\nNo momento, essas apostas são cerca de 60% do tamanho que tinham naquela época.\\nEnquanto todas as engrenagens do mercado de petróleo estavam subitamente zumbindo, os fluxos de diesel estavam entre os mais ameaçados por quaisquer interrupções potenciais em Ormuz.\\nOs preços subiram de US$ 85 para US$ 110 o barril, já que os traders que apostavam em uma desaceleração do crescimento global foram forçados a cobrir suas posições, disseram pessoas envolvidas no mercado.\\nEnquanto isso, nas mesas físicas de negociação de petróleo de Cingapura, onde os barris do Oriente Médio são geralmente comprados e vendidos para refinarias na Ásia, surgiu um silêncio estranho.\\nLá, a negociação de cargas spot praticamente parou no que normalmente seria a época mais movimentada do mês, enquanto os traders esperavam para ver o que acontecia a seguir.\\nPara os traders de derivativos, o conflito foi pontuado por dois fins de semana que criaram momentos de drama e decisões difíceis de negociação. Quando os mercados reabriram em 16 de junho, os preços subiram brevemente antes de recuar, à medida que os operadores se concentravam nos fluxos ininterruptos de petróleo.\\nUma semana depois, as apostas eram ainda maiores depois que os EUA bombardearam instalações nucleares iranianas no fim de semana. No entanto, a produção e o comércio de petróleo permaneceram inalterados.\\nAlguns traders estavam grudados em um produto de varejo de fim de semana recém-lançado, tentando analisar se ele poderia prever com precisão as negociações de segunda-feira.\\nOutros disseram com confiança aos clientes que os preços estavam prestes a cair, enquanto alguns descreveram em particular como passaram o domingo se preparando para vender na abertura, mas perderam a condenação quando o Irã prometeu vingança. Os preços dispararam quando as negociações começaram.\\nNo entanto, não demorou muito para que o mercado seguisse a sugestão de Muller de 1991: Venda, venda, venda.\\nA resposta silenciosa do Irã às bombas dos EUA fez com que os preços despencassem e, quando o petróleo abriu na manhã de terça-feira, estava mais de US$ 10 abaixo do nível que tocou quando as negociações começaram um dia antes.\\nO novo mantra do mercado de petróleo estava mais claro do que nunca: os picos geopolíticos da venda de petróleo haviam funcionado novamente.\\nA Primeira Guerra do Golfo “estabeleceu o padrão para o que agora chamamos de prêmio de risco de oferta”, disse Muller, o trader veterano.\\n“A partir de então, a comunidade comercial ficou feliz em apostar nas defesas aéreas prevalecentes.”',\n",
       " 'Os shoppings do Brasil abriram 18 lojas em junho após o fechamento de 27 em maio, volume atribuído à sazonalidade típica do período pós-feriados, segundo mapeamento do Bank of America (BofA) de 382 centros comerciais, que reúnem cerca de 55 mil estabelecimentos. A análise contempla os gruposMultiplan(MULT3),Iguatemi(IGTI11) eAllos(ALOS3), além de outros 45 operadores de shoppings privados.\\nIguatemi foi quem mais abriu pontos no mês, com 13 inaugurações, o que representa 0,8 loja por shopping. Multiplan abriu quatro lojas, o equivalente a 0,2 por unidade, enquanto Allos ficou praticamente estável, com apenas uma nova operação. No acumulado do segundo trimestre, houve fechamento líquido de 44 lojas, abaixo das 46 aberturas registradas no mesmo período do ano passado. A redução foi puxada por menor ritmo de inaugurações, segundo os analistas.\\nEntre os grupos listados, a Iguatemi novamente liderou em novos pontos no trimestre, com média de 0,5 loja por shopping. A Allos apresentou fechamento de 0,2 loja por unidade, e a Multiplan terminou o período com retração de 2,3 pontos por centro comercial.\\nSegundo o BofA, a Allos segue com a maior taxa de rotatividade, com 12,8% no acumulado de 12 meses, dois pontos percentuais acima da média dos concorrentes. Em relação ao mês anterior, houve alta de 20 pontos-base. O banco chama atenção para a relação entre rotatividade e geração de receita com aluguel, além da influência do saldo entre aberturas e fechamentos sobre a ocupação.\\nNo acumulado do ano, a Multiplan apresenta a menor variação negativa entre os operadores listados. Os fechamentos da companhia caíram 46% na comparação anual, com abertura de lojas em ritmo mais forte nos últimos meses. Conforme o BofA, os portfólios voltados ao público de maior renda vêm apresentando melhor desempenho em volume de aberturas e menores taxas de rotatividade.\\n“É uma decisão de positiva a neutra”, pontua o estrategista-chefe do Grupo Laatus, Jefferson Laatus\\nTrump disse nesta sexta\\xa0que as tarifas que constarem nas cartas entrarão em vigor a partir do dia 1º de agosto\\xa0e podem chegar a 70% em alguns casos\\nEm junho, os shoppings classificados como de alto padrão abriram onze novas lojas, com média de 0,2 por centro comercial. Já os voltados para o público de renda média ou baixa encerraram 16 operações, com média de 0,1 loja por unidade. A taxa de rotatividade nos shoppings de menor renda segue 2,5 pontos percentuais acima dos de alto padrão nos últimos 12 meses.\\nO levantamento também mostra que empresas em dificuldades seguem reduzindo presença física nos shoppings. A Zinzane lidera os fechamentos no acumulado de um ano, com 38 lojas encerradas. A lista inclui ainda Artex (28), Motorola (26) e Laser Fast (24). Por outro lado, WePink e Natura (NATU3) continuam com ritmo forte de expansão, com a categoria de cosméticos liderando em número líquido de novas lojas abertas no mês.',\n",
       " 'Mais de 50 pessoas morreram e dezenas de crianças estão desaparecidas na região de Texas Hill Country após inundações catastróficas, deixando as autoridades lutando para explicar se fizeram o suficiente para alertar as pessoas sobre as águas que subiram rapidamente.\\nPelo menos 27 campistas do Camp Mystic, um acampamento de verão só para meninas ao longo do Rio Guadalupe, no Condado de Kerr, continuam desaparecidas, disseram as autoridades em uma coletiva. Eles afirmaram que mantêm esse número mesmo com a descoberta de mais corpos. Dos mortos no Condado de Kerr, 28 eram adultos e 15 eram crianças. Pelo menos outras oito pessoas morreram em condados próximos.\\nAs autoridades alertam que o número de vítimas deve aumentar, já que mais chuva está prevista, aumentando o risco de novas inundações repentinas nos próximos dias. Os oficiais se recusaram a informar o número total de pessoas desaparecidas, em parte porque muitos visitantes foram à região para acampar durante o feriado do Dia da Independência dos EUA.\\nA enchente pegou as autoridades do Texas de surpresa. Tempestades, combinadas com os remanescentes da breve Tempestade Tropical Barry, produziram muito mais chuva do que o previsto.\\n“A prioridade é garantir que essas meninas sejam encontradas e salvas, assim como qualquer outra pessoa que possa estar desaparecida neste momento”, disse o deputado Joaquin Castro, democrata do Texas cujo distrito cobre partes de San Antonio, no domingo, no programa State of the Union da CNN. “Depois disso, temos que descobrir no futuro como garantir que isso não aconteça novamente.”\\nO Rio Guadalupe subiu 8 metros em apenas 45 minutos, disse o vice-governador Dan Patrick em uma coletiva na sexta-feira. O Serviço Nacional de Meteorologia havia previsto apenas de 7,5 a 15 centímetros de chuva na área.\\n“Este é o vale do rio mais perigoso dos Estados Unidos. E lidamos com inundações regularmente,” disse o juiz do Condado de Kerr, Robert Kelly, aos repórteres. “Não tínhamos razão para acreditar que isso seria algo parecido com o que aconteceu aqui. Nenhuma.”\\nO governador Greg Abbott expressou gratidão aos primeiros socorristas que chegaram à área e disse que a busca por sobreviventes continua. Em uma coletiva no sábado, Abbott, acompanhado pela secretária de Segurança Interna Kristi Noem, agradeceu ao governo federal pela assistência.\\nAbbott disse depois, em uma postagem no X, que visitou o Camp Mystic no sábado. Mystic é um dos vários acampamentos juvenis na Hill Country que atendem famílias de classe média e alta de Dallas, Houston e Austin, que enviam crianças para estadias de um mês em locais como Camp Longhorn e Camp Waldemar. As autoridades confirmaram que nenhum outro acampamento tem crianças desaparecidas.\\nQuando a chuva inesperada atingiu na sexta-feira, havia cerca de 750 crianças no Camp Mystic, que fica a cerca de 137 quilômetros a noroeste de San Antonio. A Hill Country se estende por todo ou parte de mais de 20 condados no centro do Texas, com as cidades em crescimento de Austin e San Antonio na borda leste da região, impulsionando uma transformação de terras de fazendas para subúrbios.\\nO acampamento e “o rio que corre ao lado dele foram horrivelmente devastados de maneiras que eu nunca vi em nenhum desastre natural,” escreveu Abbott. “A altura da água correndo até o topo das cabanas foi chocante. Não vamos parar até encontrar todas as meninas que estavam nessas cabanas.”\\nO presidente Donald Trump disse em uma postagem nas redes sociais que autoridades federais estão trabalhando com os governos estadual e local.\\n“Nossos corajosos primeiros socorristas estão no local fazendo o que fazem de melhor,” escreveu Trump. “DEUS ABENÇOE AS FAMÍLIAS, E DEUS ABENÇOE O TEXAS!”\\nO Serviço Nacional de Meteorologia alertou para mais chuvas extremas e inundações repentinas com risco de vida em partes da região, emitindo alertas de enchentes no centro do Texas, incluindo partes de Austin e San Antonio. O serviço também relatou numerosos resgates na água.\\nA mudança climática tem provocado chuvas mais extremas ao redor do mundo. Uma atmosfera mais quente pode reter mais água, aumentando as chances de dilúvios como o que atingiu o Texas.\\nOs cientistas ainda não analisaram essas inundações para identificar os sinais da mudança climática. Uma análise rápida do climatologista Russ Schumacher, da Universidade Estadual do Colorado, mostra que os totais de chuva em seis horas fizeram deste um evento de 1.000 anos — ou seja, teve menos de 0,1% de chance de ocorrer em qualquer ano.\\nNim Kidd, chefe da Divisão de Gestão de Emergências do Texas, disse que as previsões do tempo subestimaram a gravidade das tempestades. “A quantidade de chuva que caiu neste local específico nunca esteve em nenhuma das previsões,” disse Kidd.\\nO serviço meteorológico “está de coração partido pela trágica perda de vidas no Condado de Kerr,” segundo um comunicado enviado por e-mail no sábado à noite, que incluía uma linha do tempo das previsões e alertas de risco de enchente.\\nNoem disse que as autoridades federais vão avaliar se poderia ter sido dado mais aviso.\\n“Por décadas, por anos, todos sabem que o tempo é extremamente difícil de prever, mas também que o Serviço Nacional de Meteorologia, ao longo dos anos, às vezes fez um bom trabalho, e às vezes todos nós queríamos mais tempo, mais avisos, mais alertas e mais notificações,” disse ela.\\nAs autoridades resgataram cerca de 850 pessoas e estão usando helicópteros, barcos e drones para procurar outras que precisam de ajuda, disse Abbott. Muitas estradas foram destruídas, limitando o acesso a algumas áreas.\\nNo Camp Mystic, beliches antigos com nomes de ex-campistas entalhados nas vigas ficavam em uma encosta perto do rio. Alguns foram levados pelas águas turbulentas.\\nO site do acampamento estava sobrecarregado de visitantes no sábado, segundo uma mensagem de erro. Fotos que supostamente mostravam crianças desaparecidas se espalharam nas redes sociais, mas as autoridades se recusaram a divulgar nomes dos desaparecidos.\\nAs filhas do presidente Lyndon Johnson passaram vários verões no Mystic, entre os carvalhos vivos e arbustos de cedro, e a ex-primeira-dama Laura Bush foi conselheira no Mystic durante a faculdade, segundo a revista Texas Monthly.\\nPostagens em uma página do Facebook chamada Kerrville Breaking News estavam cheias de fotos de pessoas e animais de estimação que supostamente estavam desaparecidos. Uma mulher disse que estava tentando localizar uma conselheira de 19 anos no Mystic.\\n“As pessoas precisam saber que hoje será um dia difícil,” disse o prefeito de Kerrville, Joe Herring.',\n",
       " 'Acumular R$ 50 mil não é uma tarefa fácil para a maioria dos brasileiros. Para cumprir esse objetivo, é preciso disciplina, controle sobre os gastos e, claro, encontrar o melhor instrumento para encurtar o caminho até essa conquista. Com a Selic a 15% ao ano, os ativos de renda fixa se apresentam como opções rentáveis e seguras para ajudar quem poupa.\\nOs juros altos fazem muitos investidores enxergarem uma oportunidade de acumular patrimônio em prazos curtos, lembra Julio Caires, contador e advogado especialista em direito empresarial. Porém, “entender o impacto da tributação sobre o rendimento final é mais importante do que o valor a ser investido mensalmente ou a rentabilidade”, diz o especialista.\\nPensando nisso, Caires calculou, a pedido doInfoMoney, os aportes mensais necessários para acumularR$ 50 milem dois anos investindo na poupança , Tesouro Selic, CDBs (Certificados de Depósitos Bancários) e LCIs e LCAs (Letras de Crédito Imobiliário e do Agronegócio), cinco dos instrumentos mais conhecidos pelos brasileiros.\\nA diferença entre os ativos é grande e mostra como um planejamento mal conduzido pode atrapalhar os planos de qualquer um.Confira:\\nPara conseguir os R$ 50 mil em dois anos aplicando mensalmente na caderneta, são necessários aportes mensais deR$ 1.882, considerando o rendimento atual de aproximadamente 6,17% ao ano, calcula Caires. Ele pontua que “apesar da isenção (de Imposto de Renda), o rendimento é significativamente inferior às demais opções”.\\nAo mudar da poupança para o Tesouro Selic, o investidor pode diminuir em R$ 92 os aportes mensais na comparação com a poupança para chegar aos mesmos R$ 50 mil ao fim de 2 anos. São necessáriosR$ 1.790por mês, considerando uma rentabilidade líquida de 12,33% ao ano após o Imposto de Renda. Caires projeta aportes mensais similares para osCDBsque pagam 100% do CDI.\\nIsentas de Imposto de Renda, as letras de crédito podem oferecer remuneração nominal menor que os CDBs e, ainda assim, gerar lucro maior. É o caso dos títulos que pagam 90% do CDI, que atualmente pagam 13,5% ao ano, contra 12,33% dos CDBs com remuneração de 100% do CDI. Ao aplicarR$ 1.728por mês nesses papéis ao longo de 24 meses, o investidor consegue acumular R$ 50 mil.\\nApesar do esforço para encontrar a melhor remuneração no cenário atual, o investidor precisa considerar que dificilmente a taxa Selic ficará estacionada nos 15% ao ano por dois anos. Segundo oBoletim Focus, que compila as projeções do mercado financeiro para os juros, inflação, dólar e atividade econômica, a Selic deve terminar 2026 em 12,50% ao ano.\\nEsse tipo de conta, no entanto, ajuda o investidor a escolher o melhor instrumento para começar a poupar e entender melhor a relação entre risco e retorno dos papéis. Para Julio Caires, “saber quanto aplicar mensalmente é apenas o primeiro passo” e “o planejamento financeiro precisa incluir o componente fiscal como elemento central”, já que a rentabilidade final está diretamente ligada à tributação dos ativos ao longo do tempo.']"
      ]
     },
     "execution_count": 156,
     "metadata": {},
     "output_type": "execute_result"
    }
   ],
   "source": [
    "contents"
   ]
  },
  {
   "cell_type": "markdown",
   "id": "28e0fceb",
   "metadata": {},
   "source": [
    "- Para a representação vetorial dos textos, foi selecionado um modelo de embedding específico para a língua portuguesa, o BERTimbau.\n",
    "\n",
    "Como segue abaixo:"
   ]
  },
  {
   "cell_type": "code",
   "execution_count": 157,
   "id": "6a584155",
   "metadata": {},
   "outputs": [
    {
     "name": "stderr",
     "output_type": "stream",
     "text": [
      "No sentence-transformers model found with name neuralmind/bert-base-portuguese-cased. Creating a new one with mean pooling.\n",
      "Batches: 100%|██████████| 2/2 [00:01<00:00,  1.19it/s]\n"
     ]
    }
   ],
   "source": [
    "from sentence_transformers import SentenceTransformer\n",
    "\n",
    "# Criar um embedding para cada resumo\n",
    "embedding_model = SentenceTransformer(\"neuralmind/bert-base-portuguese-cased\")\n",
    "embeddings = embedding_model.encode(contents, show_progress_bar=True)"
   ]
  },
  {
   "cell_type": "code",
   "execution_count": 158,
   "id": "0adf997b",
   "metadata": {},
   "outputs": [
    {
     "data": {
      "text/plain": [
       "(40, 768)"
      ]
     },
     "execution_count": 158,
     "metadata": {},
     "output_type": "execute_result"
    }
   ],
   "source": [
    "embeddings.shape"
   ]
  },
  {
   "cell_type": "markdown",
   "id": "f7bc1062",
   "metadata": {},
   "source": [
    "* Alta dimensionalidade"
   ]
  },
  {
   "cell_type": "code",
   "execution_count": 159,
   "id": "eab013d1",
   "metadata": {},
   "outputs": [
    {
     "name": "stdout",
     "output_type": "stream",
     "text": [
      "[[-0.20318638 -0.09996612  0.45102838 ... -0.1733559   0.07085326\n",
      "  -0.28037894]\n",
      " [-0.16795228 -0.04368041  0.65698785 ...  0.03931916 -0.09039972\n",
      "  -0.39492   ]\n",
      " [-0.27284724 -0.09413554  0.49340805 ...  0.18009481  0.01982507\n",
      "  -0.2832254 ]\n",
      " ...\n",
      " [-0.3489291  -0.03460573  0.5120177  ...  0.28621197  0.07401264\n",
      "  -0.15650555]\n",
      " [-0.27382964 -0.06616925  0.65771115 ...  0.00806899  0.06353793\n",
      "  -0.3349498 ]\n",
      " [-0.10400479 -0.13638213  0.4811678  ...  0.2662266  -0.05356794\n",
      "  -0.35427392]]\n"
     ]
    }
   ],
   "source": [
    "print(embeddings)"
   ]
  },
  {
   "cell_type": "markdown",
   "id": "44723aa8",
   "metadata": {},
   "source": [
    "# Redução da Dimensionalidade dos Embeddings\n",
    "\n",
    "> Optou-se por utilizar o método Uniform Manifold Approximation and Projection (UMAP), dada sua maior capacidade de lidar com relacionamentos e estruturas não lineares em comparação ao PCA"
   ]
  },
  {
   "cell_type": "code",
   "execution_count": null,
   "id": "5c180496",
   "metadata": {},
   "outputs": [],
   "source": [
    "from umap import UMAP\n",
    "\n",
    "# Reduzimos os embeddings de entrada de 768 dimensões para 30 dimensões\n",
    "umap_model = UMAP(\n",
    "    n_components=30 , min_dist=0.02, metric='cosine',\n",
    "    random_state=42\n",
    ")\n",
    "reduced_embeddings = umap_model.fit_transform(embeddings)"
   ]
  },
  {
   "cell_type": "markdown",
   "id": "2016b485",
   "metadata": {},
   "source": [
    "## Agrupamento dos Embeddings Reduzidos\n",
    "\n",
    "* A etapa final do agrupamento é encontrar grupos de documentos semanticamente semelhantes.\n",
    "\n",
    "* Em vez de algoritmos baseados em centróides como o k-means, que exigem o número de clusters antecipadamente, o livro sugere um algoritmo baseado em densidade como o HDBSCAN (Hierarchical Density-Based Spatial Clustering of Applications with Noise).\n",
    "\n",
    "* HDBSCAN calcula livremente o número de clusters e pode detectar outliers (pontos de dados que não pertencem a nenhum cluster), que são ignorados e não forçados a pertencer a um cluster. Isso é útil para dados com papers de nicho, por exemplo.\n",
    "\n",
    "* Parâmetros como min_cluster_size (tamanho mínimo para um cluster) e metric (\"euclidean\") são definidos para o HDBSCAN. Reduzir o min_cluster_size resulta em mais clusters.\n",
    "\n",
    "* Os outliers são designados com o rótulo -1"
   ]
  },
  {
   "cell_type": "code",
   "execution_count": 136,
   "id": "365c65da",
   "metadata": {},
   "outputs": [
    {
     "data": {
      "text/plain": [
       "8"
      ]
     },
     "execution_count": 136,
     "metadata": {},
     "output_type": "execute_result"
    }
   ],
   "source": [
    "from hdbscan import HDBSCAN\n",
    "\n",
    "# Ajustamos o modelo e extraímos os clusters\n",
    "hdbscan_model = HDBSCAN(\n",
    "    min_cluster_size=2, metric=\"euclidean\",\n",
    "    cluster_selection_method=\"eom\"\n",
    ").fit(reduced_embeddings)\n",
    "\n",
    "clusters = hdbscan_model.labels_\n",
    "\n",
    "# Quantos clusters geramos?\n",
    "len(set(clusters))"
   ]
  },
  {
   "cell_type": "code",
   "execution_count": 143,
   "id": "10d36bf7",
   "metadata": {},
   "outputs": [
    {
     "name": "stdout",
     "output_type": "stream",
     "text": [
      "O multimilionário Elon Musk, antigo aliado do presidente americano, Donald Trump, cujo governo ele abandonou recentemente anunciou neste sábado, 5, a criação de seu próprio movimento político, o Partido da América.\n",
      "Decepcionado com a lei orçamentária aprovada semana passada, que elevará a dívida nac... \n",
      "\n",
      "O podcast Sports Pundit recebeu na semana passada Rob Pilgrim, chefe de esportes e horário nobre do YouTube EMEA. Durante 45 minutos, o executivo centrou a conversa na falta de compreensão sobre como a plataforma está reposicionando o valor do esporte premium. Não para sabotar as emissoras tradicion... \n",
      "\n",
      "O apresentador Luciano Huck criticou o sistema político do Brasil neste sábado, 5, no seu perfil do X (antigo Twitter). Resgatando um trecho da participação do ex-presidente Fernando Henrique Cardoso no programa Roda Viva em 1993, onde critica o Congresso Nacional, Huck afirmou que o “presidencialis... \n",
      "\n"
     ]
    }
   ],
   "source": [
    "import numpy as np\n",
    "\n",
    "# Imprimir os primeiros três documentos no cluster 0\n",
    "cluster = 0\n",
    "for index in np.where(clusters==cluster)[0][:3]:\n",
    "    print(contents[index][:300] + \"... \\n\")"
   ]
  },
  {
   "cell_type": "code",
   "execution_count": 144,
   "id": "7964df1a",
   "metadata": {},
   "outputs": [
    {
     "name": "stderr",
     "output_type": "stream",
     "text": [
      "2025-07-06 13:11:39,194 - BERTopic - Dimensionality - Fitting the dimensionality reduction algorithm\n",
      "2025-07-06 13:11:39,278 - BERTopic - Dimensionality - Completed ✓\n",
      "2025-07-06 13:11:39,279 - BERTopic - Cluster - Start clustering the reduced embeddings\n",
      "2025-07-06 13:11:39,282 - BERTopic - Cluster - Completed ✓\n",
      "2025-07-06 13:11:39,284 - BERTopic - Representation - Fine-tuning topics using representation models.\n",
      "2025-07-06 13:11:39,311 - BERTopic - Representation - Completed ✓\n"
     ]
    }
   ],
   "source": [
    "from bertopic import BERTopic\n",
    "\n",
    "# Treinar nosso modelo com nossos modelos previamente definidos\n",
    "topic_model = BERTopic(\n",
    "    embedding_model=embedding_model,\n",
    "    umap_model=umap_model,\n",
    "    hdbscan_model=hdbscan_model,\n",
    "    verbose=True\n",
    ").fit(contents, embeddings)"
   ]
  },
  {
   "cell_type": "code",
   "execution_count": 145,
   "id": "75706693",
   "metadata": {},
   "outputs": [
    {
     "data": {
      "text/html": [
       "<div>\n",
       "<style scoped>\n",
       "    .dataframe tbody tr th:only-of-type {\n",
       "        vertical-align: middle;\n",
       "    }\n",
       "\n",
       "    .dataframe tbody tr th {\n",
       "        vertical-align: top;\n",
       "    }\n",
       "\n",
       "    .dataframe thead th {\n",
       "        text-align: right;\n",
       "    }\n",
       "</style>\n",
       "<table border=\"1\" class=\"dataframe\">\n",
       "  <thead>\n",
       "    <tr style=\"text-align: right;\">\n",
       "      <th></th>\n",
       "      <th>Topic</th>\n",
       "      <th>Count</th>\n",
       "      <th>Name</th>\n",
       "      <th>Representation</th>\n",
       "      <th>Representative_Docs</th>\n",
       "    </tr>\n",
       "  </thead>\n",
       "  <tbody>\n",
       "    <tr>\n",
       "      <th>0</th>\n",
       "      <td>-1</td>\n",
       "      <td>8</td>\n",
       "      <td>-1_de_do_em_que</td>\n",
       "      <td>[de, do, em, que, para, da, com, suzy, por, fa...</td>\n",
       "      <td>[Após enfrentar a maior queda anual de suas aç...</td>\n",
       "    </tr>\n",
       "    <tr>\n",
       "      <th>1</th>\n",
       "      <td>0</td>\n",
       "      <td>8</td>\n",
       "      <td>0_de_que_os_em</td>\n",
       "      <td>[de, que, os, em, uma, as, para, do, um, mais]</td>\n",
       "      <td>[É natural que superfãs queiram ter um pedaço ...</td>\n",
       "    </tr>\n",
       "    <tr>\n",
       "      <th>2</th>\n",
       "      <td>1</td>\n",
       "      <td>6</td>\n",
       "      <td>1_de_com_do_em</td>\n",
       "      <td>[de, com, do, em, pontos, no, da, que, acima, ...</td>\n",
       "      <td>[Na quinta-feira (03), o dólar à vista recuou ...</td>\n",
       "    </tr>\n",
       "    <tr>\n",
       "      <th>3</th>\n",
       "      <td>2</td>\n",
       "      <td>6</td>\n",
       "      <td>2_de_do_que_da</td>\n",
       "      <td>[de, do, que, da, em, no, não, para, com, na]</td>\n",
       "      <td>[A Expert XP, maior festival de investimentos ...</td>\n",
       "    </tr>\n",
       "    <tr>\n",
       "      <th>4</th>\n",
       "      <td>3</td>\n",
       "      <td>5</td>\n",
       "      <td>3_de_em_no_na</td>\n",
       "      <td>[de, em, no, na, do, que, da, os, com, foi]</td>\n",
       "      <td>[Restam somente quatro equipes no Mundial de C...</td>\n",
       "    </tr>\n",
       "    <tr>\n",
       "      <th>5</th>\n",
       "      <td>4</td>\n",
       "      <td>3</td>\n",
       "      <td>4_de_vibra_da_natura</td>\n",
       "      <td>[de, vibra, da, natura, que, inpasa, para, inv...</td>\n",
       "      <td>[SÃO PAULO (Reuters) – O Nubank (BDR:ROXO34) i...</td>\n",
       "    </tr>\n",
       "    <tr>\n",
       "      <th>6</th>\n",
       "      <td>5</td>\n",
       "      <td>2</td>\n",
       "      <td>5_de_renda_um_do</td>\n",
       "      <td>[de, renda, um, do, em, ano, 100, retorno, com...</td>\n",
       "      <td>[O fundo imobiliário HSI Renda Urbana (HSRE11)...</td>\n",
       "    </tr>\n",
       "    <tr>\n",
       "      <th>7</th>\n",
       "      <td>6</td>\n",
       "      <td>2</td>\n",
       "      <td>6_fundos_investidor_de_que</td>\n",
       "      <td>[fundos, investidor, de, que, para, ao, dos, o...</td>\n",
       "      <td>[Acumular R$ 50 mil não é uma tarefa fácil par...</td>\n",
       "    </tr>\n",
       "  </tbody>\n",
       "</table>\n",
       "</div>"
      ],
      "text/plain": [
       "   Topic  Count                        Name  \\\n",
       "0     -1      8             -1_de_do_em_que   \n",
       "1      0      8              0_de_que_os_em   \n",
       "2      1      6              1_de_com_do_em   \n",
       "3      2      6              2_de_do_que_da   \n",
       "4      3      5               3_de_em_no_na   \n",
       "5      4      3        4_de_vibra_da_natura   \n",
       "6      5      2            5_de_renda_um_do   \n",
       "7      6      2  6_fundos_investidor_de_que   \n",
       "\n",
       "                                      Representation  \\\n",
       "0  [de, do, em, que, para, da, com, suzy, por, fa...   \n",
       "1     [de, que, os, em, uma, as, para, do, um, mais]   \n",
       "2  [de, com, do, em, pontos, no, da, que, acima, ...   \n",
       "3      [de, do, que, da, em, no, não, para, com, na]   \n",
       "4        [de, em, no, na, do, que, da, os, com, foi]   \n",
       "5  [de, vibra, da, natura, que, inpasa, para, inv...   \n",
       "6  [de, renda, um, do, em, ano, 100, retorno, com...   \n",
       "7  [fundos, investidor, de, que, para, ao, dos, o...   \n",
       "\n",
       "                                 Representative_Docs  \n",
       "0  [Após enfrentar a maior queda anual de suas aç...  \n",
       "1  [É natural que superfãs queiram ter um pedaço ...  \n",
       "2  [Na quinta-feira (03), o dólar à vista recuou ...  \n",
       "3  [A Expert XP, maior festival de investimentos ...  \n",
       "4  [Restam somente quatro equipes no Mundial de C...  \n",
       "5  [SÃO PAULO (Reuters) – O Nubank (BDR:ROXO34) i...  \n",
       "6  [O fundo imobiliário HSI Renda Urbana (HSRE11)...  \n",
       "7  [Acumular R$ 50 mil não é uma tarefa fácil par...  "
      ]
     },
     "execution_count": 145,
     "metadata": {},
     "output_type": "execute_result"
    }
   ],
   "source": [
    "topic_model.get_topic_info()"
   ]
  },
  {
   "cell_type": "markdown",
   "id": "736dcd6d",
   "metadata": {},
   "source": [
    "* O BERTopic primeiro cria clusters de documentos semanticamente semelhantes, utilizando embeddings de modelos Transformer. Para a representação dos tópicos, ele emprega uma abordagem de 'bolsa de palavras' (bag-of-words) aprimorada por c-TF-IDF, o que permite rotular os clusters com palavras-chave mais significativas, ponderando a sua relevância para o tópico em vez de apenas a frequência geral. \n",
    "\n",
    "De fato, é fundamental e possível melhorar essas representações posteriormente com o uso de diversos modelos de representação (também chamados de rerankers), aproveitando a modularidade do framework"
   ]
  },
  {
   "cell_type": "code",
   "execution_count": 146,
   "id": "1713c6d8",
   "metadata": {},
   "outputs": [
    {
     "data": {
      "application/vnd.plotly.v1+json": {
       "config": {
        "plotlyServerURL": "https://plot.ly"
       },
       "data": [
        {
         "hoverinfo": "text",
         "hovertext": [
          "O sistema de consórcios registrou um recorde de vendas nos últimos 20 anos, informou a Associação Brasileira de Administradoras de Consórcios (Abac). Foram vendidas 2,07 milhões de cotas no acumulado do ano até maio, volume 19,7% superior ao apurado no mesmo período do ano passado.\nNo início do ano, a Abac divulgou a expectativa de manutenção do crescimento do setor em 2025, em patamar próximo ao observado em 2024. As projeções indicavam avanços de 20% para imóveis, 10% para veículos pesados, 6% para veículos leves, 2% para motocicletas, 23% para eletroeletrônicos e outros bens móveis duráveis, e 10% para serviços.\nNo entanto, “ao completar os cinco primeiros meses deste ano, observa-se que as vendas de cotas de imóveis já cresceram 44,7% em relação ao mesmo período de 2024, mais que o dobro da estimativa”, afirmou a entidade em comunicado à imprensa.\nEm veículos leves, o crescimento foi de 15,1%, enquanto em motocicletas foi de 9,4%. Já em veículos pesados houve retração de 12,9%. Nos setores de eletroeletrônicos e outros bens móveis duráveis, a expansão foi de 115,2%, cinco vezes maior que o previsto, e no setor de serviços, o crescimento foi de 21,9%, pouco mais que o dobro da estimativa, segundo a Abac.\nEsses resultados ocorrem em um cenário de juros altos no Brasil, com o Comitê de Política Monetária (Copom) do Banco Central elevando, na semana passada, a taxa básica Selic para 15% ao ano, o maior patamar em quase 20 anos. Na ocasião, a autoridade monetária indicou que a taxa deve permanecer inalterada por um “período bastante prolongado”.\nOs créditos comercializados nos primeiros cinco meses totalizaram R$ 186,6 bilhões, de acordo com dados da entidade. O número de participantes ativos chegou a 11,73 milhões, um crescimento de 10,8% em relação ao mesmo período de 2024, também um recorde histórico — que vem sendo renovado há três anos, com exceção de abril de 2023.\nOs consorciados estão mais concentrados em veículos leves (42,8%), motocicletas (26,4%) e imóveis (19,9%), segundo a Abac.\nEntre as principais administradoras independentes de consórcios do país, como Ademicon e Embracon, o crescimento de dois dígitos tem sido ainda mais acentuado.\nA Ademicon comercializou quase R$ 17 bilhões em créditos nos primeiros cinco meses do ano, um salto de 85% em relação ao mesmo período de 2024, enquanto a Embracon registrou crescimento de 93% nas vendas de créditos no mesmo intervalo, totalizando R$ 14 bilhões, segundo informações fornecidas pelas próprias empresas.\nSomente em maio, o crescimento observado pela Ademicon foi de 92% em relação a um ano antes, com R$ 3,9 bilhões em créditos comercializados, enquanto a Embracon teve avanço de 124%, para R$ 3 bilhões.",
          "Muito antes da invenção da moeda metálica padronizada, diferentes civilizações encontraram formas diversas de representar valor, realizar trocas e acumular riqueza. Desde séculos antes de Cristo, objetos como sal, chá, gado, lingotes metálicos, conchas, contas de vidro, bambu e ferramentas agrícolas serviram como instrumentos monetários — as chamadasmoedas-mercadoria, ouprotomoedas.\nAs protomoedas têm valor intrínseco e foram utilizadas tanto como meio de troca quanto como forma de ostentação, pagamento de tributos ou reservas de valor. Seu uso remonta há mais de 5 mil anos, quando o escambo predominava, e algumas delas coexistiram com moedas metálicas até o século XX. Em muitos casos, deixaram um legado duradouro — inclusive em palavras do nosso vocabulário cotidiano.\nO sal foi um dos primeiros bens a ser utilizado como moeda. Civilizações antigas como a Babilônia, o Egito, a China e sociedades pré-colombianas atribuíam a ele alto valor, especialmente por sua importância na conservação de alimentos. Na Roma Antiga, parte do pagamento dos soldados era feito em sal, prática que deu origem à palavra “salário”.\nAs conchascauri, de coloração branca e formato característico, foram amplamente empregadas como dinheiro por mais de 3 mil anos. Originárias dos oceanos tropicais, elas circularam da China até a África Ocidental, passando por Índia, Sudeste Asiático e até o Pacífico Sul. Pequenas, duráveis e esteticamente valorizadas, os cauris foram tão relevantes que chegaram a representar a principal forma de pagamento em diversas sociedades, inclusive no comércio de escravizados e bens valiosos.\nNa África, o ferro foi não apenas matéria-prima de ferramentas e armas, mas também instrumento monetário. Ele circulava de diferentes formas — desde o metal bruto até objetos elaborados. Entre os exemplos mais marcantes estão osKissi penniese asManillas— pulseiras metálicas usadas no comércio, inclusive na compra de pessoas escravizadas, o que lhes rendeu na Europa o apelido de “dinheiro de escravo”. Apesar dessa associação negativa, as manillas também eram utilizadas em contextos culturais, como casamentos e trocas cerimoniais, sendo parte fundamental da herança simbólica africana.\nNa Grécia Antiga, espetos de ferro precederam as moedas de prata. Em Esparta, o ferro foi escolhido propositalmente para dificultar o acúmulo de riqueza. Na Índia, África e Indochina, enxadas e outras ferramentas agrícolas circulavam como dinheiro, destacando o valor prático e simbólico do material metálico. Entre os Bahnar, do Vietnã, a enxada era a menor unidade monetária.\nDurante o século XIX,contas de vidroganharam ampla circulação em regiões da África. Produzidas na Europa, essas peças eram usadas como pagamento, tributo ou ornamento. Sua aceitação dependia de convenções locais: determinadas cores ou formas serviam para pagar alimentos, outras para contratar serviços. Sua estética era tão importante quanto sua função monetária.\nNa China, especialmente durante a dinastia Song (960–1279), obambufoi utilizado como suporte para sistemas de crédito e vale-mercadoria. Pequenas tabuletas de bambu, com inscrições registrando valores e prazos, circularam como promissórias e anteciparam a ideia do papel-moeda. Em certas regiões rurais, o bambu também era utilizado como dinheiro local, devido à sua abundância, facilidade de marcação e aceitação comunitária.\nOutro exemplo notável foi o uso dochá como moeda, especialmente na Ásia Central e no Tibete. Blocos prensados de chá — geralmente em formato de tijolos retangulares — eram transportados por caravanas e amplamente aceitos como forma de pagamento. Por serem duráveis, transportáveis e de valor reconhecido, esses tijolos de chá serviram tanto como moeda de troca quanto como reserva de valor. Em algumas regiões tibetanas, o “chá-moeda” permaneceu em uso até o início do século XX, sendo valorizado não só por seu conteúdo, mas também por seu papel na cultura alimentar e religiosa local.\nDiretora de Comunicação da Sociedade Numismática Brasileira (SNB)\nPresidente da Sociedade Numismática Brasileira (SNB)",
          "Investidores e americanos mais ricos estão entre os maiores beneficiados pelo novoprojeto de lei tributária do presidente dos Estados Unidos, Donald Trump. Entre os mais prejudicados pela ampla proposta estão universidades de elite, que enfrentam novos encargos, e imigrantes.\nACâmara aprovou o projeto por 218 votos a 214, um dia antes do prazo limite autoimposto por Trump para o feriado de 4 de julho.\nVeja quem ganha e quem perde no principal projeto legislativo da agenda doméstica do presidente:\nOs ricos terão mais facilidade para transferir patrimônio a seus herdeiros e evitar aumento de impostos. O projeto inclui US$ 4,5 trilhões em cortes de impostos, segundo estimativa do Comitê Conjunto de Tributação. A isenção do imposto sobre herança sobe para US$ 15 milhões por indivíduo — totalizando US$ 30 milhões para casais — e será ajustada pela inflação. Os cortes nas alíquotas de imposto de renda implementados em 2017 se tornam permanentes, beneficiando principalmente os mais ricos.\nMoradores de estados com altos impostos\nO limite de dedução de impostos estaduais e locais sobe para US$ 40 mil por ano por um período de cinco anos. A dedução deixa de valer para quem ganha mais de US$ 500 mil por ano. Após esse prazo, o limite retorna aos atuais US$ 10 mil impostos pela lei de 2017.\nA dedução de até 20% da renda de negócios enquadrados como “pass-through” (como MEIs, LLCs e sociedades) se torna permanente a partir do ano fiscal de 2026.\nO benefício fiscal do carried interest — que favorece empresas de private equity, capital de risco e parcerias imobiliárias — foi mantido, apesar da pressão do presidente para eliminá-lo. O setor também ganhou um benefício ampliado na dedução de juros.\nAlém de incentivos fiscais, a norma aumenta o financiamento para deportações, ao mesmo tempo em que reduz assistência médica e alimentar para pessoas de baixa renda\nConcessionárias de veículos nacionais\nFica permitido deduzir do imposto até US$ 10 mil por ano em juros de financiamento de carros fabricados nos EUA até 2028, o que pode ajudar nas vendas. O benefício vai sendo reduzido gradualmente para quem ganha mais de US$ 100 mil (indivíduos) ou US$ 200 mil (casais).\nA proposta reativa regras fiscais favoráveis, como depreciação acelerada para modernização da produção e incentivos para pesquisa e desenvolvimento. Esses benefícios, antes temporários, agora se tornam permanentes — medida elogiada pela Associação Nacional dos Fabricantes.\nProdutores de combustíveis fósseis\nSetores como carvão, petróleo e gás natural recebem incentivos fiscais e novas regras que exigem a abertura de mais terras federais para exploração. Já os subsídios a energias renováveis serão gradualmente eliminados.\nIdosos e trabalhadores que recebem gorjetas\nPara cumprir promessas populistas de campanha, contribuintes com 65 anos ou mais ganham uma dedução padrão maior. Além disso, gorjetas e pagamento por horas extras ficam isentos de imposto de renda — embora essas isenções expirem após 2028 e tenham limites de custo.\nO crédito tributário por filho sobe em US$ 200 a partir do ano fiscal de 2025 e passa a ser ajustado permanentemente pela inflação. Pais também poderão abrir “contas Trump” para bebês nascidos entre 2025 e 2028, com depósito inicial de US$ 1.000 feito pelo governo.\nO projeto leiloa uma ampla faixa de espectro de rádio para uso em internet banda larga sem fio — potencialmente benéfico para empresas como a Starlink, da SpaceX, e para redes móveis 5G e futuras redes 6G.\nForam rejeitadas propostas que aumentariam impostos sobre grandes corporações, como elevação do imposto sobre recompra de ações ou limite à dedução de impostos estaduais e locais por empresas.\nO pacote prevê aumento de US$ 150 bilhões nos gastos com defesa, com boa parte dos recursos destinada à compra de novos sistemas de armas fabricados por grandes fornecedores.\nQuase US$ 10 bilhões serão destinados a projetos como novas missões para a Lua e Marte e o descomissionamento da Estação Espacial Internacional.\nParte do financiamento do projeto vem de cortes no Medicaid (seguro saúde para baixa renda) e no programa de assistência alimentar. Segundo o Yale Budget Lab, o impacto médio para os 20% mais pobres será de US$ 560 por ano.\nO projeto impõe novas exigências de trabalho a beneficiários do Medicaid, exceto idosos, pessoas com deficiência e pais de crianças menores de 14 anos. Aqueles que passaram a ter direito ao programa por meio do Obamacare precisarão arcar com parte dos custos, como coparticipações.\nNo caso do auxílio-alimentação, o projeto amplia os requisitos de trabalho para pessoas com até 65 anos. A partir de 2028, os estados também passarão a dividir os custos com o governo federal — hoje arcados integralmente por Washington.\nO setor de energia limpa sofre com o desmonte de várias iniciativas da legislação climática de Joe Biden. O crédito para painéis solares e turbinas eólicas será eliminado rapidamente. Incentivos para melhorias de eficiência energética em residências e instalações de energia limpa desaparecem até o fim da década.\nO Senado derrubou um artigo do projeto que impedia os estados de regularem a inteligência artificial — uma derrota para empresas como Microsoft, Meta e fundos de venture capital como a Andreessen Horowitz. A medida havia sido promovida por aliados republicanos no Vale do Silício.\nA legislação estende os cortes de impostos de 2017 de Trump, enquanto adiciona novas isenções para gorjetas e horas extras. Apesar de alguns cortes de gastos, o plano ainda adicionaria US$ 3,4 trilhões ao déficit antes dos custos com juros\nFabricantes de veículos elétricos\nMontadoras como Tesla e General Motors perderão o crédito de até US$ 7.500 concedido ao consumidor pela compra de veículos elétricos, que será eliminado.\nO projeto intensifica a ofensiva do governo Trump contra universidades como Harvard e Columbia. O imposto atual de 1,4% sobre rendimentos de fundos patrimoniais (endowments) de instituições privadas passa a ser progressivo, chegando a até 8% para universidades com maior renda por aluno.\nVários dispositivos aumentam impostos sobre imigrantes. Um deles é a nova taxa de 1% sobre remessas de dinheiro para o exterior — prática comum entre imigrantes que ajudam financeiramente suas famílias nos países de origem.\nAlém disso, o projeto restringe o acesso de alguns imigrantes a créditos fiscais para subsídios de seguro saúde. A mudança afeta especialmente imigrantes com asilo ou status de proteção temporária.\nQuem aposta poderá deduzir apenas 90% das perdas em relação aos ganhos. Isso significa que mesmo quem empatar ou tiver prejuízo poderá ter de pagar imposto sobre “lucros” inexistentes.",
          "A Polícia de São Paulo indiciou criminalmente a psicóloga e ex-atriz global Suse Maria Gomes Camacho Curi, a Suzy Camacho, de 64 anos, pelo suposto desvio de R$ 42,2 milhões do patrimônio de seu ex-companheiro, o empresário Farid Curi, falecido aos 85 anos.\nSuzy teria se aproveitado da condição de saúde debilitada de Farid nos últimos anos de vida para realizar – até com uso de documentos falsos -, uma sucessão de movimentações financeiras e patrimoniais em benefício próprio e de seus familiares.\nAoEstadão, o criminalista Luiz Flávio Borges D’Urso, que defende Suzy, disse que ‘tudo não passa de uma grande armação dos filhos de Farid’. D’Urso é taxativo. “É tudo mentira, nada foi apurado, nenhum crime foi verificado e nenhuma denúncia criminal existe contra a Suzy.”\nSuzy Camacho, psicóloga, foi atriz de novela da Globo. Em 1987, fez parte do elenco de Brega & Chique. Também atuou em ‘A viagem’. Depois, afastou-se da carreira artística.\nA Polícia atribui à Suzy violação aos artigos 102 e 107 do Estatuto do Idoso. O 102 fala em apropriação ou desvio de bens, proventos, pensão ou outros rendimentos do idoso. O 107 fala de abandono ou negligência no trato do idoso.\nFarid Curi morreu aos 85 anos, em setembro de 2022. Ele foi um dos sócios da rede de supermercados Atacadão, comprada pelo Carrefour por cerca de R$ 2,2 bilhões em 2013.\nEle e Suzy se casaram em 29 de junho de 2013 pelo regime da separação obrigatória de bens.\nRelatório final do inquérito do 4.º Distrito Policial (Consolação), ao qual oEstadãoteve acesso, afirma em 55 páginas que durante o período em que Farid ‘enfrentava sérias limitações cognitivas e físicas’, houve uma evolução patrimonial significativa por parte de Suzy, incompatível com a renda que ela havia declarado à Receita Federal.\nEsse crescimento foi constatado a partir da análise de declarações de Imposto de Renda, de dados bancários e de um relatório elaborado pelo Conselho de Controle de Atividades Financeiras (Coaf), que apontou um volume elevado de transações bancárias, aquisições de bens e transferências para terceiros ‘sem justificativa econômica plausível’.\nA Polícia destaca que, além da discrepância entre os valores movimentados e a renda declarada, a investigação identificou que Suse passou a centralizar a administração financeira de Farid após afastar tanto seus filhos quanto a funcionária de confiança que historicamente cuidava das finanças do empresário. A gestão dos recursos foi então assumida por um irmão dela, Pompilio Camacho.\nA investigação aponta que Pompilio passou a figurar como co-titular em uma conta originalmente vinculada a Farid. Essa conta, movimentada majoritariamente por Pompilio, ‘foi usada para realizar saques em espécie e transferências expressivas para contas em nome da própria Suzy e de pessoas próximas a ela’.\nA análise bancária apontou o saque de R$ 1,29 milhão em dinheiro e transferências que ultrapassam R$ 3 milhões para contas de titularidade exclusiva de Suse.\nOutras movimentações despertaram a atenção dos investigadores, inclusive o envio de mais de R$ 1,2 milhão da mesma conta para Pompilio Camacho, ‘além de doações sucessivas a outros familiares, como sua mãe, seus sobrinhos e seu filho, que somaram aproximadamente R$ 900 mil’.\nTambém foram registrados empréstimos e transferências que ultrapassam R$ 3,7 milhões para terceiros, ‘com fortes indícios de utilização de pessoas interpostas, laranjas, o que sugere tentativa de ocultação da origem dos recursos’.\nEntre os bens adquiridos nesse período, diz o inquérito, está um imóvel comprado por mais de R$ 2,4 milhões de uma empresa falida transação considerada atípica pelos investigadores.\nA movimentação internacional também entrou na mira da Polícia. O rastreamento aponta uma transferência para Suse de US$ 450 mil de uma empresa sediada nas Bahamas, além da declaração, a partir de 2020, de contas bancárias em Mônaco e Miami com saldo superior a R$ 18 milhões. Tais registros, diz a Polícia, ‘não possuem lastro na capacidade econômica da investigada e podem indicar tentativa de burla ao regime de separação total de bens estabelecido com Farid’.\nPara o delegado Guilherme Sabino Corrêa, que presidiu o inquérito, existem ‘robustos indícios de que Suzy tenha se valido da condição clínica de seu então companheiro para esvaziar indevidamente seu patrimônio, de modo sistemático e silencioso’,\nA estimativa preliminar dos valores desviados ou ocultados girava entre R$ 25 milhões e R$ 30 milhões. Após ‘refinamento e análise das provas’, a Polícia concluiu que o desfalque bateu em R$ 42.256.507,31 do patrimônio de Farid Curi ‘na constância do matrimônio’.\nA investigação mapeou também beneficiários das operações, ‘a fim de permitir eventual responsabilização penal e recuperação de ativos em favor do espólio de Farid Curi’.\nSegundo o delegado Guilherme Sabino Corrêa, do 4.º Distrito Policial (Consolação), as provas indicam que Suzy ‘não possuía capacidade financeira para movimentar todos os valores destacados’ no Relatório de Inteligência Financeira do Coaf.\n“Há fortes indícios de que seus investimentos financeiros e imóveis adquiridos durante o matrimônio com Farid Curi, especialmente após o ano de 2019, quando o idoso apresentou doença que o tornou absolutamente incapaz para os atos da vida civil, foram produto de desvios de valores do cônjuge”, sustenta o relatório final do inquérito.\nA Polícia destaca que o casamento foi regido pelo regime de separação total de bens, que na época era obrigatório para pessoas com mais de 70 anos. Ao longo da convivência com Suzy, o empresário ‘apenas indicou um único apartamento no Rio de Janeiro como sendo adquirido em conjunto com a investigada, compondo todos os demais bens exclusivamente o seu patrimônio’.\n“Neste sentido, citam-se os pontos destacados, exaustivamente detalhados no Relatório de Investigação, concluindo-se por um desvio de R$ 42.256.507,31 do patrimônio de Farid Curi, na constância do matrimônio.”\nO inquérito foi aberto a partir de uma representação dos filhos de Farid atribuindo a Suzy ‘apropriação ou desvio de bens, proventos, pensão ou qualquer outro rendimento’ do empresário, ‘dando-lhes aplicação diversa da de sua finalidade, enriquecimento próprio e de seu filho’.\nAinda segundo a investigação, a ex-global teria ‘coagido de qualquer modo, suposto uso de medicação excessiva e suposta pressão psicológica, o idoso Farid a doar, contratar, testar ou outorgar procuração’.\nO início do relacionamento foi descrito assim por uma das filhas de Farid. “Meu pai sempre sofreu com fortes dores na coluna, sofrendo diversas cirurgias graves na coluna e, por tal motivo, passou a, gradativamente, sofrer com as limitações inerentes ao quadro clínico imposto, bem como com a dolorosa e dificultosa recuperação. O casamento, assim, passou a ser visto com bons olhos, vez que entendíamos que a relação com Suzy teria colaborado em superar tais dificuldades físicas, inclusive uma eventual depressão.”\nA filha do empresário informou que, até 2016, a relação do casal era descrita como ‘normal’.\nUm filho de Farid declarou. “Não houve qualquer imposição contrária dos filhos quanto à união, pelo contrário, viam seu pai bem e feliz, retomando, inclusive, viagens. Todavia, com o passar do tempo, Suzy excluiu Farid do seu convívio social, inclusive chegando a proibir os próprios filhos de terem qualquer contato pessoal ou à distância.”\nA filha disse que, ‘a partir daí, a família passou a perceber um drástico distanciamento de seu pai, em comparação à rotina imposta pelo próprio pai à família até então’.\n“As visitas passaram a ser espaçadas e, quando aconteciam, em que pese avisá-lo com antecedência, era claro o incômodo de Suzy que, a todo custo, procurava deixar os familiares incomodados e desconfortáveis, seja olhando para o relógio, seja bocejando, seja indicando que estava próximo do horário do jantar’.\n“Suzy jamais deixava a declarante e seus irmãos sozinhos com Farid. Tal postura, por óbvio, tornavam as visitas muito mais rápidas e superficiais. Além disso, informa que seu pai, com o passar dos anos, passou a se tornar mais silente, interagindo cada vez menos. O que relata neste ato, foi objeto também de observação de seus outros irmãos, notando que Suzy, com o passar do tempo, passou a afastá-lo dos filhos e familiares, indo de encontro com todo afeto e harmonia que Farid construiu durante os anos.”\nOutro filho do empresário declarou que até 2016 ‘tinham uma convivência diária na empresa, porém em razão de seu limitante quadro de saúde, ele passou a se distanciar, oportunidade em que as visitas passaram a ser a única forma de encontrá-lo’.\n“No entanto, quando essas visitas aconteciam, era claro o incômodo de Suzy com minha presença, tentando, a todo custo, tirar minha liberdade na residência. Não conseguia, sequer, me dirigir à cozinha para buscar um copo de água, em claro esforço em me deixar incomodado e desconfortável. Jamais consegui ficar com meu pai sozinho durante as visitas.”\nUma testemunha, que pediu para não ser identificada com receio de represálias, afirmou. “Não tem qualquer dúvida que ao contrair matrimônio com Suzy, houve uma mudança drástica em sua rotina, passando a se distanciar gradativamente, até a atual situação, que consiste na proibição de qualquer contato dos filhos e amigos com o pai. Os eventos e festas deixaram de ocorrer e Farid passou a ficar mais recluso. O distanciamento dos filhos e dos amigos, concomitantemente com a piora em seu quadro de saúde, tornando-o cada vez mais dependente, tem relação próxima com o ingresso de Suzy em sua vida.”\nA mesma testemunha enfatizou. “Recentemente, foi pego de surpresa quando, em pleno Dia dos Pais, soube da proibição dos filhos em ver Farid, deixando filhos e netos em plena via pública, em que pese pedidos para visitá-lo. Ciente de seu estado de saúde e das dificuldades de raciocínio que possui, tem certeza absoluta que tal determinação partiu de Suzy. Há alguns meses, Farid perguntou ‘por que meus filhos não vêm mais me visitar?’, com muita tristeza nos olhos, mesma tristeza que notava quando o encontrava pessoalmente’.”\nPara a Polícia, Suzy teria coagido Farid, por meio de suposto uso de medicação excessiva e pressão psicológica, a doar, contratar, testar ou outorgar procuração.\nEm agosto de 2022, o Ministério Público de São Paulo chegou a denunciar Suzy Camacho por supostamente falsificar atestados médicos para se apropriar de R$ 10 milhões de Farid. Na ocasião, a defesa da ex-global negou qualquer ato ilícito de Suzy.\nCOM A PALAVRA, OS ADVOGADOS DOS FILHOS DE FARID CURI\nOs criminalistas Rodrigo Carneiro Maia Bandieri e Rubens de Oliveira, que representam os filhos do empresário Farid Curi, disseram ao Estadão que ‘confiam plenamente na Justiça e no trabalho técnico desempenhado pela Polícia Civil, em longa investigação’.\n“A nossa confiança se estabelece, também, nas investigações que estão em andamento.”\nCOM A PALAVRA, O CRIMINALISTA LUIZ FLÁVIO BORGES D’URSO, QUE REPRESENTA SUZY CAMACHO\nO criminalista Luiz Flávio Borges D’Urso, que representa Suse Maria Gomes Camacho Curi, a Suzy Camacho, reagiu enfaticamente às conclusões da Polícia Civil de São Paulo.\n“A Suzy é vítima de uma grande armação dos filhos do Farid. Eles os filhos, respondem a vários inquéritos policiais, desde denunciação caluniosa, corrupção de testemunhas, perseguição e ameaça contra Suzy que, por anos, teve medida protetiva contra eles.”\nSegundo D’Urso, os filhos do empresário teriam submetido sua cliente até à ‘escuta ilegal e violência psicológica, além de vários outros crimes de que ela foi vítima.’\n“Acusaram a Suzy levianamente e a Justiça tem restabelecido a verdade.”\n“A Suzy foi investigada neste inquérito policial por seis anos. Os filhos do Farid, nesta guerra contra a Suzy, acusaram-na de maus tratos a idoso”, argumenta o criminalista. “É tudo mentira, nada foi apurado, nenhum crime foi verificado e nenhuma denúncia criminal existe contra a Suzy.”\nD’Urso relata que Suzy Camacho foi ‘esposa de Farid e, por mais de 10 anos, cuidou dele’.\n“Os filhos do Farid receberam mais de 300 milhões de reais do pai ainda em vida e depois processaram o pai por causa de dinheiro”, afirma o advogado. “A partir daí, foi estabelecida uma guerra entre os filhos dele, de um lado, e Farid e Suzy de outro.”\n“Após seis anos de investigação infrutífera, o delegado ao ser transferido para outro DP (o que se deu há 15 dias) apresentou este relatório também há uns 15 dias, desconsiderando tudo o que foi produzido de provas pela defesa. Somente relatou o lado dos filhos, que mentem descaradamente por causa de dinheiro. O delegado, que nada encontrou de crime, indiciou a Suzy sem fundamento, o que vai ser corrigido pela Justiça.”\nSegundo D’Urso, os filhos do empresário ‘usaram jornalistas para acusar Suzy de vender uma casa milionária do Farid’.\n“A casa de praia valia 62 milhões. Provamos que quem vendeu a casa foi a filha do Farid, pela metade do preço! E ainda não prestou contas no Inventário. Isso também gerou um inquérito policial para investigar a filha do Farid. Tem muita coisa nesse caso. Tem até processo na Corregedoria da Polícia Civil.”",
          "Após enfrentar a maior queda anual de suas ações desde 2016 — um tombo de 23% em 2024 — aVale(VALE3) começa a trilhar um caminho de recuperação. A valorização de pouco mais de 5% no primeiro semestre de 2025 sugere que o pior pode ter passado, com a mineradora eliminando ruídos institucionais e buscando restabelecer a confiança do mercado. À frente das finanças da empresa nesse momento crucial estáMarcelo Bacci, vice-presidente de Finanças e Relações com Investidores, que assumiu o cargo em dezembro de 2024.\nFormado em Administração pela FGV e mestre pela prestigiada Universidade de Stanford, nos Estados Unidos, Bacci chegou à companhia após mais de uma década como CFO da Suzano. Com bagagem de gestão em companhias globais, ele agora lidera a estratégia da mineradora para recuperar competitividade, conter custos e melhorar seus indicadores operacionais — metas que, segundo ele, começaram a ser cumpridas no último balanço.\n“Vários riscos que os investidores elencavam já não existem mais”, disse em entrevista aoInfoMoneyem março de 2025.“Não cabe a nós dizer se o preço da ação está bom ou ruim. Mas, nesse patamar, aprovamos um programa de recompra, por considerarmos um bom investimento para a companhia”, diz Bacci, que será um dos painelistas da 15ª edição daExpert XP, que acontece neste ano, entre os dias 25 e 26 de julho, no São Paulo Expo, capital paulista.\nAlém do desempenho financeiro, Bacci também tem atuado na reconfiguração do relacionamento institucional da empresa, em meio às cicatrizes das tragédias de Mariana e Brumadinho e à pressão política por mudanças no comando. Em entrevista aoInfoMoneyem março de 2025, o executivo disse que a Vale e o governo federal hoje convergem “em 90% dos temas” e compartilham a visão de que licenciamento e sustentabilidade devem caminhar com alinhamento técnico e político. “Essa recuperação de relação com o Estado vai trazer benefícios para todo mundo”, afirmou.\nApesar da retomada de diálogo com Brasília, os compromissos de reparação continuam pesando no caixa. Em relação ao acordo de R$ 170 bilhões firmado com a Samarco, BHP e o poder público por causa do rompimento da barragem em Mariana, Bacci reconhece que parte relevante dos desembolsos se mantém nos próximos anos. Ainda assim, minimiza o impacto de municípios que não aderiram ao pacto: “Para nós, não vai significar grandes variações em relação ao desembolso que a gente vai fazer.”\nGaranta até 55% OFF na Expert XP com cupom InfoMoney\nA disciplina de custos, reforçada pela entrada em operação de minas mais eficientes, também está no foco do executivo. Mesmo diante de desafios como o excesso de chuvas no primeiro trimestre, ele garante que a empresa manterá a trajetória de redução de despesas iniciada em 2024. “A atividade da Vale se beneficia quando a operação é estável. Isso reduz custos e riscos.”\nNo cenário internacional, o CFO vê estabilidade na demanda por minério de ferro, apesar do crescimento mais modesto da China e das novas tarifas impostas pelos Estados Unidos. “Outras regiões como Índia, Oriente Médio e Sudeste Asiático estão crescendo e ajudam a compensar essa eventual queda. O mundo está em equilíbrio no consumo de minério.”\nCom uma gestão que alia técnica, visão estratégica e diálogo institucional, Marcelo Bacci se apresenta como peça-chave na tentativa da Vale de virar a página — tanto no mercado quanto na percepção pública.\nGaranta até 55% OFF na Expert XP com cupom InfoMoney\nSERVIÇO — Expert XP 2025Evento: Expert XP 2025Data: 25 e 26 de julho de 2025Local: São Paulo Expo — São Paulo/SP\nBenefícios Cartão XP:1% de Investback ou 1 ponto por dólar.\nIngresso para os dois dias com Cartão XP (25 e 26/07):R$ 1.200,00\nIngresso para sábado (26/07):R$ 799,00\nSite oficial:www.expertxp.com.br\nGaranta até 55% OFF na Expert XP com cupom InfoMoney",
          "O grupo fictício de k-pop Saja Boys destronou o BTS, maior banda sul-coreana da atualidade, nas paradas do Spotify nos Estados Unidos. A concorrência inesperada surgiu da animaçãoGuerreiras do K-Pop(KPop Demon Hunters, no original), da Netflix, lançada em 20 de junho.\nNa quinta-feira, 3, a faixaYour Idol, do Saja Boys, alcançou a segunda posição entre as músicas mais ouvidas nos EUA na plataforma de streaming, conforme divulgado na playlistTop 50 – Estados Unidos.\nFoi a posição mais alta já alcançada por uma boy band de k-pop no ranking americano, superando o BTS — cuja faixaDynamitechegou à terceira posição da mesma lista na época do lançamento, em 2020. Nesta sexta-feira, 4,Your Idolreforçou o feito ao subir para a primeira colocação do ranking.\nNo retrovisor, a músicaGolden, do grupo feminino HUNTR/X (também fictício), subiu da terceira para a segunda colocação. Isso igualou, e logo depois superou, o quarteto Blackpink, que anteriormente detinha o recorde nas paradas do Spotify dos EUA para um grupo feminino de k-pop.\nA animação da Netflix é protagonizada por Rumi, Mira e Zoey, do grupo HUNTR/X, que levam uma vida dupla: as estrelas têm poderes secretos que usam para proteger o mundo humano de ameaças sobrenaturais. Na trama, os Saja Boys são vilões demoníacos disfarçados, que devem ser combatidos pelas garotas.\nO filme é atualmente o mais assistido da plataforma, segundo o ranking global mais recente divulgado pela Netflix, com mais de 33,4 milhões de visualizações.",
          "A partir deste sábado (5), entra em vigor a nova tarifa social de energia elétrica, que isenta do pagamento da conta de luz famílias de baixa renda inscritas no Cadastro Único (CadÚnico) com consumo mensal de até 80 kWh. A medida faz parte de umaMedida Provisória (MP) publicada em maioe precisa ser aprovada pelo Congresso em até 120 dias para não perder validade.\nSegundo estimativas do governo federal, cerca de 60 milhões de pessoas serão contempladas com a isenção total ou parcial da tarifa. O custo da medida é estimado em R$ 3,6 bilhões por ano, valor que, segundo o Ministério de Minas e Energia, será compensado com a abertura do mercado de energia e ajustes regulatórios no setor.\nEx-ministro do STF critica ausência de interlocutores e defende que Congresso redesenhe regime político\nAntes da mudança, apenas indígenas e quilombolas tinham direito à gratuidade. Famílias de baixa renda cadastradas no CadÚnico recebiam descontos de até 65% na fatura.\nAgora, o novo modelo amplia o benefício e estabelece isenção total para quem consome até 80 kWh por mês. Para consumo entre 80 e 120 kWh, o desconto é mantido.\nPelas novas regras, poderão receber o benefício:\nAlém disso, o governo prevê uma nova faixa de desconto, direcionada a famílias com renda entre meio e um salário mínimo per capita. Nesse caso, haverá redução proporcional sobre a Conta de Desenvolvimento Energético (CDE) para consumo de até 120 kWh por mês. A CDE representa cerca de 12% da conta de energia e financia políticas públicas no setor elétrico.\nA MP que viabiliza a nova tarifa social ainda depende da aprovação da Câmara e do Senado. A medida é tratada como uma vitrine social do governo Lula, especialmente importante em um contexto de queda de popularidade entre os eleitores de baixa renda. A meta é ampliar o acesso à energia e aliviar o orçamento das famílias mais vulneráveis.",
          "A Caixa Econômica Federal anunciou nesta quinta-feira (3) que vai aumentar o preço das apostas de seis loterias: Mega-Sena, Dupla Sena, Quina, Lotofácil, Loteca e Super Sete. O reajuste passa a entrar vigor a partir de 9 de julho.\nO concurso 2.883 da Mega-Sena será sorteado nesta quinta-feira (3), a partir das 20h (horário de Brasília), no Espaço da Sorte, em São Paulo. O prêmio principal será de R$ 3,5 milhões.\nO jogo simples, com seis números marcados, ainda custa R$ 5.",
          null
         ],
         "marker": {
          "color": "#CFD8DC",
          "opacity": 0.5,
          "size": 5
         },
         "mode": "markers+text",
         "name": "other",
         "showlegend": false,
         "type": "scattergl",
         "x": {
          "bdata": "96JcQIjfuEBIlLZAx+WHQKmcfEC5I61AmoakQJG9kUAq7JhA",
          "dtype": "f4"
         },
         "y": {
          "bdata": "ewBNQOGfi0A1h3JAbQCzQAT0k0C2/alAyL1sQMe2fkAFQopA",
          "dtype": "f4"
         }
        },
        {
         "hoverinfo": "text",
         "hovertext": [
          "Mais de 50 pessoas morreram e dezenas de crianças estão desaparecidas na região de Texas Hill Country após inundações catastróficas, deixando as autoridades lutando para explicar se fizeram o suficiente para alertar as pessoas sobre as águas que subiram rapidamente.\nPelo menos 27 campistas do Camp Mystic, um acampamento de verão só para meninas ao longo do Rio Guadalupe, no Condado de Kerr, continuam desaparecidas, disseram as autoridades em uma coletiva. Eles afirmaram que mantêm esse número mesmo com a descoberta de mais corpos. Dos mortos no Condado de Kerr, 28 eram adultos e 15 eram crianças. Pelo menos outras oito pessoas morreram em condados próximos.\nAs autoridades alertam que o número de vítimas deve aumentar, já que mais chuva está prevista, aumentando o risco de novas inundações repentinas nos próximos dias. Os oficiais se recusaram a informar o número total de pessoas desaparecidas, em parte porque muitos visitantes foram à região para acampar durante o feriado do Dia da Independência dos EUA.\nA enchente pegou as autoridades do Texas de surpresa. Tempestades, combinadas com os remanescentes da breve Tempestade Tropical Barry, produziram muito mais chuva do que o previsto.\n“A prioridade é garantir que essas meninas sejam encontradas e salvas, assim como qualquer outra pessoa que possa estar desaparecida neste momento”, disse o deputado Joaquin Castro, democrata do Texas cujo distrito cobre partes de San Antonio, no domingo, no programa State of the Union da CNN. “Depois disso, temos que descobrir no futuro como garantir que isso não aconteça novamente.”\nO Rio Guadalupe subiu 8 metros em apenas 45 minutos, disse o vice-governador Dan Patrick em uma coletiva na sexta-feira. O Serviço Nacional de Meteorologia havia previsto apenas de 7,5 a 15 centímetros de chuva na área.\n“Este é o vale do rio mais perigoso dos Estados Unidos. E lidamos com inundações regularmente,” disse o juiz do Condado de Kerr, Robert Kelly, aos repórteres. “Não tínhamos razão para acreditar que isso seria algo parecido com o que aconteceu aqui. Nenhuma.”\nO governador Greg Abbott expressou gratidão aos primeiros socorristas que chegaram à área e disse que a busca por sobreviventes continua. Em uma coletiva no sábado, Abbott, acompanhado pela secretária de Segurança Interna Kristi Noem, agradeceu ao governo federal pela assistência.\nAbbott disse depois, em uma postagem no X, que visitou o Camp Mystic no sábado. Mystic é um dos vários acampamentos juvenis na Hill Country que atendem famílias de classe média e alta de Dallas, Houston e Austin, que enviam crianças para estadias de um mês em locais como Camp Longhorn e Camp Waldemar. As autoridades confirmaram que nenhum outro acampamento tem crianças desaparecidas.\nQuando a chuva inesperada atingiu na sexta-feira, havia cerca de 750 crianças no Camp Mystic, que fica a cerca de 137 quilômetros a noroeste de San Antonio. A Hill Country se estende por todo ou parte de mais de 20 condados no centro do Texas, com as cidades em crescimento de Austin e San Antonio na borda leste da região, impulsionando uma transformação de terras de fazendas para subúrbios.\nO acampamento e “o rio que corre ao lado dele foram horrivelmente devastados de maneiras que eu nunca vi em nenhum desastre natural,” escreveu Abbott. “A altura da água correndo até o topo das cabanas foi chocante. Não vamos parar até encontrar todas as meninas que estavam nessas cabanas.”\nO presidente Donald Trump disse em uma postagem nas redes sociais que autoridades federais estão trabalhando com os governos estadual e local.\n“Nossos corajosos primeiros socorristas estão no local fazendo o que fazem de melhor,” escreveu Trump. “DEUS ABENÇOE AS FAMÍLIAS, E DEUS ABENÇOE O TEXAS!”\nO Serviço Nacional de Meteorologia alertou para mais chuvas extremas e inundações repentinas com risco de vida em partes da região, emitindo alertas de enchentes no centro do Texas, incluindo partes de Austin e San Antonio. O serviço também relatou numerosos resgates na água.\nA mudança climática tem provocado chuvas mais extremas ao redor do mundo. Uma atmosfera mais quente pode reter mais água, aumentando as chances de dilúvios como o que atingiu o Texas.\nOs cientistas ainda não analisaram essas inundações para identificar os sinais da mudança climática. Uma análise rápida do climatologista Russ Schumacher, da Universidade Estadual do Colorado, mostra que os totais de chuva em seis horas fizeram deste um evento de 1.000 anos — ou seja, teve menos de 0,1% de chance de ocorrer em qualquer ano.\nNim Kidd, chefe da Divisão de Gestão de Emergências do Texas, disse que as previsões do tempo subestimaram a gravidade das tempestades. “A quantidade de chuva que caiu neste local específico nunca esteve em nenhuma das previsões,” disse Kidd.\nO serviço meteorológico “está de coração partido pela trágica perda de vidas no Condado de Kerr,” segundo um comunicado enviado por e-mail no sábado à noite, que incluía uma linha do tempo das previsões e alertas de risco de enchente.\nNoem disse que as autoridades federais vão avaliar se poderia ter sido dado mais aviso.\n“Por décadas, por anos, todos sabem que o tempo é extremamente difícil de prever, mas também que o Serviço Nacional de Meteorologia, ao longo dos anos, às vezes fez um bom trabalho, e às vezes todos nós queríamos mais tempo, mais avisos, mais alertas e mais notificações,” disse ela.\nAs autoridades resgataram cerca de 850 pessoas e estão usando helicópteros, barcos e drones para procurar outras que precisam de ajuda, disse Abbott. Muitas estradas foram destruídas, limitando o acesso a algumas áreas.\nNo Camp Mystic, beliches antigos com nomes de ex-campistas entalhados nas vigas ficavam em uma encosta perto do rio. Alguns foram levados pelas águas turbulentas.\nO site do acampamento estava sobrecarregado de visitantes no sábado, segundo uma mensagem de erro. Fotos que supostamente mostravam crianças desaparecidas se espalharam nas redes sociais, mas as autoridades se recusaram a divulgar nomes dos desaparecidos.\nAs filhas do presidente Lyndon Johnson passaram vários verões no Mystic, entre os carvalhos vivos e arbustos de cedro, e a ex-primeira-dama Laura Bush foi conselheira no Mystic durante a faculdade, segundo a revista Texas Monthly.\nPostagens em uma página do Facebook chamada Kerrville Breaking News estavam cheias de fotos de pessoas e animais de estimação que supostamente estavam desaparecidos. Uma mulher disse que estava tentando localizar uma conselheira de 19 anos no Mystic.\n“As pessoas precisam saber que hoje será um dia difícil,” disse o prefeito de Kerrville, Joe Herring.",
          "A Guarda Costeira dos EUA divulgou imagens no domingo (6 de julho) de suas equipes aéreas resgatando pessoas das enchentes repentinas no Texas na sexta-feira (4 de julho).\nDoze voos foram realizados na região de Kerrville pela Guarda Costeira, que informou ter resgatado 15 pessoas do Camp Mystic na sexta-feira.\nUm nadador de resgate permaneceu com as pessoas afetadas pelas enchentes, fornecendo assistência médica e ajudando na evacuação de 230 pessoas, disse a Guarda Costeira em um comunicado.\nAs enchentes repentinas no centro do Texas mataram pelo menos 50 pessoas, incluindo 15 crianças, informaram as autoridades no sábado (5 de julho), enquanto os socorristas continuavam buscas por dezenas de campistas, turistas e moradores que ainda estavam desaparecidos.",
          "Existe uma fórmula secreta que ajuda a explicar por que pessoas tão diferentes como David Bowie, Samuel L. Jackson e Charli XCX parecem tão seguras de si e, bem, descoladas?\nUm novo estudo sugere que existem seis traços específicos que essas pessoas tendem a ter em comum: Pessoas consideradas descoladas são amplamente percebidas como extrovertidas, hedonistas, poderosas, aventureiras, abertas e autônomas.\nO estudo, publicado na segunda-feira no Journal of Experimental Psychology: General, entrevistou quase 6.000 participantes de 12 países ao redor do mundo. As crenças deles sobre o que é “descolado” foram semelhantes independentemente de onde morassem, e apesar das diferenças de idade, nível de renda, educação ou gênero.\n“O que me surpreendeu foi o fato de que o resultado foi praticamente o mesmo em todos os lugares,” disse Caleb Warren, um dos autores do estudo e professor da Eller College of Management na Universidade do Arizona, que pesquisa psicologia do consumidor há duas décadas.\nNo estudo, cada participante teve que reconhecer a palavra “cool” em inglês, sem tradução, sugerindo que já estavam familiarizados — ou talvez até idolatrassem — noções de descolamento vindas de países ocidentais ricos como os Estados Unidos.\nNesse sentido, o estudo oferece uma janela para a difusão de crenças culturais de um grupo para outro, disse Joseph Henrich, antropólogo e professor de biologia evolutiva humana em Harvard, que não participou do estudo.\n“Globalmente, o sucesso americano levou à difusão de estilos musicais e uma imensa quantidade de conteúdo cultural, incluindo, aparentemente, o conceito de descolado,” disse Henrich.\nSer descolado não é um tema amplamente estudado. Pesquisas anteriores mostraram que ser descolado é geralmente considerado algo positivo: Pessoas descoladas também são amigáveis, competentes, modernas e atraentes. Mas Warren e seus colegas queriam saber o que torna uma pessoa distintamente “descolada” em vez de apenas “boa”.\nEntão os pesquisadores pediram aos participantes que pensassem em pessoas específicas: uma que fosse descolada, uma que não fosse descolada, uma que fosse boa e uma que não fosse boa. Depois, pediram que avaliassem cada pessoa respondendo questionários que mediam coletivamente 15 atributos diferentes.\nEmbora as pessoas descoladas e boas compartilhassem traços, comparadas às descoladas, as pessoas boas eram percebidas como mais conformistas, tradicionais, seguras, calorosas, agradáveis, universalistas (a extensão em que uma pessoa vê todos e tudo como iguais ou igualmente dignos de cuidado e respeito), conscienciosas e calmas.\nAqueles percebidos como capazes eram igualmente considerados descolados e bons.\nUma limitação do estudo foi que qualquer pessoa que não conhecesse a palavra “cool” foi automaticamente excluída. Como resultado, os dados não podem determinar com que frequência a palavra é usada em diferentes países ou se, em certas culturas, ser descolado leva a um status social mais alto em relação a outros. Além disso, embora o estudo tenha incluído participantes de várias idades, a população era predominantemente jovem: a idade média de cada região era geralmente 30 anos ou menos.\nOutros estudos mostraram que existem diferenças culturais importantes que podem afetar os traços que valorizamos.\n“Fatores como agressividade nos dão status mais alto em algumas culturas ocidentais e, simultaneamente, menos status no Oriente,” disse Mitch Prinstein, chefe de psicologia da American Psychological Association, que escreveu dois livros sobre popularidade, que pode ser uma consequência de ser descolado.\nPesquisas sobre ser descolado sugerem que o desejo de ser descolado é particularmente forte durante a adolescência, e influencia não apenas o que as pessoas compram ou quem admiram, mas também como falam e o que fazem para se divertir.\nMas o que é considerado descolado pela cultura em geral pode não ser o mesmo que você pessoalmente acredita ser descolado. Por isso Warren e seus colegas pediram que cada participante pensasse nas pessoas que consideravam descoladas versus boas. Curiosamente, em geral, os tipos de traços tipicamente associados à bondade ou ajuda eram mais frequentemente percebidos como bons em vez de descolados.\nEntão, ser descolado é uma característica que vale a pena perseguir?\nPara isso, Warren disse: “Tenho sérias dúvidas.”\nSer descolado, que envolve assumir riscos e ser socialmente precoce durante a adolescência, pode oferecer popularidade na juventude, mas um estudo publicado em 2014 descobriu que muitos adolescentes que se comportavam assim enfrentariam dificuldades na casa dos 20 anos, desenvolvendo problemas com álcool, drogas e relacionamentos. “Eles fazem coisas mais extremas para tentar parecer descolados,” disse um dos pesquisadores ao The New York Times.\nPara os jovens populares na escola, “status é dominância, visibilidade, atenção,” disse Prinstein. Mas, acrescentou, é o quanto você é querido que contribui para o sucesso a longo prazo.\n“Mesmo o jovem mais nada a ver provavelmente se sairá bem se tiver pelo menos um amigo próximo,” acrescentou.\nTalvez ser descolado — especialmente o tipo desdenhoso de “cool demais para a escola” — não seja tudo isso que dizem.",
          "Em tempos de volatilidade econômica, a riqueza costuma se tornar um tema politizado. O “grande e belo” pacote da Casa Branca dividiu opiniões após estimativas do Escritório do Orçamento do Congresso (CBO, na sigla em inglês) indicarem que as políticas custariam aos americanos mais pobres cerca de US$ 1.600 ao ano, enquanto elevariam em média em US$ 12.000 a renda dos lares mais ricos anualmente.\nIsso decorre de ajustes de política, como o aumento do limite de isenção para impostos sobre heranças e doações para US$ 15 milhões, bem como a elevação do teto de dedução de impostos estaduais e locais (SALT) de US$ 10.000 para US$ 40.000.\nUm problema nos debates atuais sobre tributos à riqueza, diz o economista-chefe do UBS, Paul Donovan, é que muitos eleitores mais ricos nos EUA não se reconhecem como ricos.\nEm uma mesa-redonda na semana passada, Donovan explicou: “Uma questão bem interessante que vemos surgir cada vez mais em discussões sobre impostos sobre a riqueza e heranças é a crescente lacuna entre percepção e realidade da riqueza. As pessoas dizem: ‘Sim, precisamos de um imposto sobre milionários, mas não em mim, eu não conto como milionário’, quando, na verdade, você tem um apartamento de dois quartos em Manhattan. Você é, por definição, milionário.”\nDonovan continuou dizendo que as redes sociais também distorcem a percepção de riqueza. Mesmo que a desigualdade não tenha mudado, “as pessoas se sentem mais desprovidas pelo suposto luxo exibido online”.\n“Como resultado, as pessoas acabam confundindo ainda mais a percepção de sua própria riqueza com a realidade”, acrescentou Donovan. “Muitos são ricos, mas se veem em desvantagem por não viverem como um influenciador digital.”\nCom a riqueza tornando-se um tema socialmente cada vez mais divisivo – inclusive levando os abastados a se distanciarem de sua própria condição –, os consumidores já estão reduzindo a compra de símbolos de status e de experiências vistosas.\nO balanço de primavera da Bain sobre o setor de luxo, divulgado na semana passada, mostra que o segmento de bens pessoais encolheu.\nClaudia D’Arpizio, uma das autoras do relatório, contou àFortuneque o termo “vergonha do luxo” (“luxury shame”) surgiu durante a crise financeira de 2008, quando a riqueza passou a ser vista como algo “cafona”, diante dos milhões de americanos que perderam casas e empregos.\nD’Arpizio acrescenta que, na época, as lojas de grife passaram a usar sacolas brancas discretas para as compras, pois os clientes não queriam ser vistos carregando embalagens de marcas famosas. “Nos EUA, isso foi autogerado; as pessoas mudaram seus comportamentos porque sentiam vergonha”, diz ela.\nHoje, o movimento, protagonizado pelos consumidores chineses, tem caráter mais governamental. “É um regime comunista que incentivou o consumo de luxo nos últimos 15 anos, quando a população estava cada vez mais rica. Agora, com o crescimento desacelerando e o desemprego entre gerações mais jovens, querem evitar tensões, dizendo aos ricos: ‘Não ostentem riqueza neste momento’.”\nEssa tensão social está se espalhando para o Ocidente, completa D’Arpizio, e, por isso, as marcas de luxo deveriam dar menos ênfase ao elitismo e mais à ideia de serem guardiãs de cultura e inovação.\nDito isso, o fato de os ricos não quererem ou não perceberem sua riqueza não significa que as engrenagens que geram seus ativos estejam desacelerando.\n“Há dois motores independentes que precisamos considerar, e que não afetam o motor de crescimento de riqueza”, diz Donovan em resposta a uma pergunta da Fortune. “O primeiro é o aumento do nacionalismo econômico.”\nBasta olhar para a iniciativa “America First” de Trump, mas Donovan afirma que esse comportamento também é comum em países como a China. “Frequentemente, há hostilidade a marcas e empresas estrangeiras. Vimos isso com as grifes europeias de luxo na China.”\nDonovan acrescenta que o segundo fator que molda a abordagem de consumo dos ricos é o foco no entretenimento. “Frequentemente me perguntam: ‘O que um economista quer dizer com ‘diversão’?’ A resposta é qualquer coisa que você possa postar no Instagram”, explica. “Então é viagem ao exterior, refeições em restaurantes, shows da Taylor Swift. E, claro, roupas novas, porque, ao postar a foto daquela refeição incrível, você precisa estar com um look novo.”\n“Essas tendências, que são independentes da criação de riqueza, precisam ser consideradas, pois podem parecer sinais de vergonha de ostentar riqueza, quando, na verdade, refletem mudanças no padrão de consumo por outros motivos.”\nEsta história foi originalmente publicada em Fortune.com.",
          "Traders assistiam alarmados jatos dos Estados Unidos bombardearem um grande produtor de petróleo do Oriente Médio. Um aumento inicial no preço do petróleo, porém, se transformou em uma forte desvalorização, assim que os operadores perceberam que os fluxos de petróleo continuariam inalterados.\nO ano era 1991 e a campanha de bombardeio dos EUA era contra o Iraque de Saddam Hussein. Em apenas uma noite, os preços caíram 30%.\nTrês décadas depois, os traders de petróleo estão juntando os pedaços de uma montanha-russa de 12 dias, em que os preços subiram e caírem no período mais caótico do comércio de petróleo desde que a Rússia invadiu a Ucrânia em 2022.\nMais uma vez, os traders passaram as noites grudados em suas mesas, participando de teleconferências nas primeiras horas da manhã e trabalhando incansavelmente em conexões governamentais e militares para obter informações que lhe assegurassem uma vantagem comercial.\nAssim como em 1991, os picos iniciais rapidamente se transformaram em desvalorizações, à medida em que os traders se deparavam com a realidade de que o fluxo de petróleo continuaria fluindo.\n“A maioria dos traders agora voltou aos casos básicos ancorados pela oferta e demanda”, acrescenta\nA última quinzena do mês de junho deste ano forneceu, portanto, evidências gritantes da mudança psicológica que ocorreu em um mercado que ainda estava assombrado por memórias de movimentos cataclísmicos de preços, como os impulsionados pelos conflitos no Oriente Médio, nas décadas de 1970 e 1980.\nPara os comerciantes de petróleo de hoje, as manchetes sobre bombas caindo tornaram-se cada vez mais uma oportunidade de venda.\n“Os mercados hoje são muito mais resistentes às notícias – eles vão direto para a questão de saber se haverá uma interrupção no fornecimento ou não, tendo como pano de fundo quanta capacidade de produção ociosa existe.”\nMuller se lembra, quando era um jovem trader em uma mesa de operação de futuros de petróleo da Shell, negociando durante a noite de 16 de janeiro de 1991. Na ocasião, ele saiu de sua mesa apenas pela manhã, quando seus chefes ordenaram que ele fosse para casa. A Shell decidiu desmontar operações, e Muller vendeu à medida que o mercado subia e depois desmoronava.\nOs comerciantes de hoje, assim como os de 1991, passaram as últimas duas semanas lutando com a perspectiva do tipo de interrupção do fornecimento que só acontece uma vez em uma geração: uma interrupção no ponto de estrangulamento do Estreito de Ormuz que envia cerca de um quinto do petróleo do mundo.\nOs operadores em algumas mesas em Genebra e Londres trabalharam em turnos para garantir a cobertura 24 horas – embora, na realidade, muitos tenham ficado acordados de qualquer maneira, navegando nos feeds de mídia social e participando de chamadas de emergência às 3 da manhã, enquanto os rumores voavam.\nEnquanto os traders tentavam descobrir se desta vez era diferente, eles se concentraram em imagens de satélite sobre o Irã e Ormuz, para saber se haveria interrupção nos fluxos de petróleo.\nAo largo da costa do Irã, todos os dias, um fluxo constante de petroleiros pegava os barris do país e navegava para o oceano. Enquanto os navios vazios de Teerã se espalharam – provavelmente por razões de segurança -, o petróleo do Irã estava fluindo a uma taxa de cerca de 40% superior do que a média do resto do ano.\nAinda assim, embora os operadores hoje tenham uma enorme quantidade de informações digitais à sua disposição, desde imagens de satélite em tempo real até “reportagens coletivas”, segundo a segundo nas mídias sociais, alguns dos principais traders de petróleo físico do mundo enfatizaram como passaram as últimas duas semanas caçando informações da maneira mais antiquada: acessando conexões em Washington, Israel e em outros lugares para ter uma noção da direção da guerra e da capacidade de resposta do Irã.\nEssa percepção ajudou a endurecer as convicções de que os EUA entrariam na briga e que o Irã não fecharia Ormuz, disseram eles.\nUm executivo sênior disse a sua equipe para seguir as postagens de Donald Trump nas redes sociais como um guia sobre o que fazer a seguir. Em 16 de junho, o presidente postou em seu site Truth Social: “O IRÃ NÃO PODE TER UMA ARMA NUCLEAR”.\nFerramenta cresceu no mercado financeiro, atraindo investidores, mas é preciso conhecer o profissional que está por trás da operação e a sua estratégia\nCom o ritmo acelerado de manchetes significando que a negociação de futuros de petróleo bruto de repente ficou muito mais arriscada, o dinheiro foi derramado no mercado de opções, onde os traders podem fazer um seguro contra um pico a um custo mais barato do que negociar futuros.\nLá, os mercados estavam se movendo tão rápido que os traders e corretores estavam constantemente tendo que reavaliar os negócios ou correr o risco de perder negócios, já que cada nova escalada de sinalização aumentava a volatilidade e o custo de compra desse seguro, disseram pessoas envolvidas no mercado.\nVolumes recordes de opções mudaram de mãos, e o valor total negociado em apenas sete dias úteis foi o equivalente ao normalmente visto em vários meses.\n“Em tempos de risco geopolítico, os traders migram para o mercado de opções em vez do mercado futuro.”\n“Não vimos muita mudança nas posições de futuros de fundos de hedge discricionários no mês passado, mas sua exposição de opções de alta explodiu”, completou ele.\nMesmo quando as hostilidades entre Irã e Israel esfriaram após os ataques em outubro do ano passado e alguns contratos expiraram, ainda havia cerca de 130.000 opções de compra de Brent a US$ 100 pendentes para os próximos seis meses de negociação.\nNo momento, essas apostas são cerca de 60% do tamanho que tinham naquela época.\nEnquanto todas as engrenagens do mercado de petróleo estavam subitamente zumbindo, os fluxos de diesel estavam entre os mais ameaçados por quaisquer interrupções potenciais em Ormuz.\nOs preços subiram de US$ 85 para US$ 110 o barril, já que os traders que apostavam em uma desaceleração do crescimento global foram forçados a cobrir suas posições, disseram pessoas envolvidas no mercado.\nEnquanto isso, nas mesas físicas de negociação de petróleo de Cingapura, onde os barris do Oriente Médio são geralmente comprados e vendidos para refinarias na Ásia, surgiu um silêncio estranho.\nLá, a negociação de cargas spot praticamente parou no que normalmente seria a época mais movimentada do mês, enquanto os traders esperavam para ver o que acontecia a seguir.\nPara os traders de derivativos, o conflito foi pontuado por dois fins de semana que criaram momentos de drama e decisões difíceis de negociação. Quando os mercados reabriram em 16 de junho, os preços subiram brevemente antes de recuar, à medida que os operadores se concentravam nos fluxos ininterruptos de petróleo.\nUma semana depois, as apostas eram ainda maiores depois que os EUA bombardearam instalações nucleares iranianas no fim de semana. No entanto, a produção e o comércio de petróleo permaneceram inalterados.\nAlguns traders estavam grudados em um produto de varejo de fim de semana recém-lançado, tentando analisar se ele poderia prever com precisão as negociações de segunda-feira.\nOutros disseram com confiança aos clientes que os preços estavam prestes a cair, enquanto alguns descreveram em particular como passaram o domingo se preparando para vender na abertura, mas perderam a condenação quando o Irã prometeu vingança. Os preços dispararam quando as negociações começaram.\nNo entanto, não demorou muito para que o mercado seguisse a sugestão de Muller de 1991: Venda, venda, venda.\nA resposta silenciosa do Irã às bombas dos EUA fez com que os preços despencassem e, quando o petróleo abriu na manhã de terça-feira, estava mais de US$ 10 abaixo do nível que tocou quando as negociações começaram um dia antes.\nO novo mantra do mercado de petróleo estava mais claro do que nunca: os picos geopolíticos da venda de petróleo haviam funcionado novamente.\nA Primeira Guerra do Golfo “estabeleceu o padrão para o que agora chamamos de prêmio de risco de oferta”, disse Muller, o trader veterano.\n“A partir de então, a comunidade comercial ficou feliz em apostar nas defesas aéreas prevalecentes.”",
          "Beber é prejudicial à saúde em qualquer idade. Mas, à medida que você envelhece, os riscos se tornam maiores — mesmo com a mesma quantidade de bebidas.\nO álcool afeta “praticamente todos os sistemas do corpo”, incluindo músculos, vasos sanguíneos, sistema digestivo, coração e cérebro, disse Sara Jo Nixon, diretora do Centro de Pesquisa e Educação sobre Dependência da Universidade da Flórida. “Ele impacta especialmente os idosos, porque já há algum declínio ou impacto nessas áreas.”\n“Existe um conjunto totalmente diferente” de fatores de risco para a saúde dos idosos que bebem, disse Paul Sacco, professor de serviço social da Universidade de Maryland, Baltimore, que estuda o uso de substâncias e o envelhecimento. As pessoas podem não perceber que as bebidas que antes toleravam bem agora afetam seus cérebros e corpos de forma diferente, afirmou.\nO álcool pode apresentar novos problemas na terceira idade — especialmente a partir dos 65 anos — mesmo para quem bebe pouco ou ocasionalmente. Os idosos tendem a ter menos massa muscular e reter menos água nos tecidos em comparação com os mais jovens, o que pode aumentar a concentração de álcool no sangue, explicou Aaron White, assessor sênior do Instituto Nacional sobre Abuso de Álcool e Alcoolismo (NIAAA). Isso significa que são necessárias menos bebidas para que os idosos se sintam intoxicados, aumentando o risco de lesões graves por quedas.\nBeber álcool pode aumentar o risco de desenvolver doenças crônicas como demência, diabetes, câncer, hipertensão e doenças cardíacas. Mas também pode piorar os resultados para a maioria dos idosos que já vivem com doenças crônicas, disse Aryn Phillips, professora assistente de políticas e administração em saúde da Universidade de Illinois em Chicago, que estuda álcool e envelhecimento.\nInterações medicamentosas também entram em cena. Misturar álcool com remédios prescritos que os idosos costumam tomar, como para diabetes ou hipertensão, pode tornar os medicamentos menos eficazes ou causar efeitos colaterais nocivos, como úlceras ou batimentos cardíacos irregulares. Benzodiazepínicos, quando combinados com álcool, podem diminuir a respiração e agir como um sedativo potente. Até medicamentos vendidos sem receita podem ser perigosos. A aspirina, que alguns idosos tomam para reduzir o risco de doenças cardiovasculares (apesar dos possíveis efeitos colaterais), pode causar hemorragia gastrointestinal grave, para a qual os idosos já têm maior risco, explicou Michael Wheeler, professor de ciência da nutrição da East Carolina University, que pesquisa doenças hepáticas induzidas pelo álcool.\nAlguns idosos também afirmam que a ressaca piora com a idade. Embora não haja evidências científicas fortes que apoiem isso, as ressacas podem parecer piores porque o álcool pode agravar outros sintomas do envelhecimento, como o sono ruim, disse White.\nEspecialistas afirmam que o consumo de álcool entre idosos parece ter aumentado nos últimos anos, embora as tendências nacionais sejam difíceis de acompanhar fora de pesquisas auto-relatadas. Uma pesquisa federal de 2023 mostrou que 12% dos adultos com 65 anos ou mais — cerca de 7 milhões de pessoas — relataram ter bebido pelo menos quatro ou cinco doses em uma única ocasião no mês anterior.\nApós décadas de mensagens confusas sobre os malefícios e benefícios do álcool para a saúde, estudos recentes deixaram claro que nenhuma quantidade de álcool é boa para você. Ainda assim, Sacco reconheceu que “beber tem significado para as pessoas”, e que decidir moderar ou parar completamente “é uma decisão que você deve tomar em consulta com seu médico e seus entes queridos.”\nMas qual é a quantidade “segura” de bebida para os idosos? Isso é difícil de dizer. Os estudos disponíveis que tentam estabelecer exatamente quanto álcool eleva os riscos à saúde em populações mais velhas usam diferentes parâmetros para consumo moderado, o que dificulta um consenso. “Mesmo como especialista na área, entendo a confusão”, disse Wheeler.\nNixon aconselhou que adultos com 65 anos ou mais consumam no máximo uma bebida por dia e não ultrapassem sete por semana. (O NIAAA não estabelece diretrizes sobre consumo de álcool, mas os Centros de Controle e Prevenção de Doenças definem consumo moderado para adultos de todas as idades como até duas bebidas por dia para homens e uma bebida por dia para mulheres.)\nTodos os especialistas enfatizaram que os idosos devem prestar muita atenção à resposta do corpo ao álcool e parar ou reduzir o consumo se sentirem que ele está afetando-os mais física ou cognitivamente.\n“Se você não está bebendo atualmente, não comece”, disse Phillips. E se beber, seja honesto com seu médico sobre seu consumo e faça isso em um ambiente seguro, sabendo que sua tolerância pode não ser a mesma de antes, acrescentou.\n“A resposta não precisa ser abstinência”, disse Nixon. Mas envelhecer com saúde “provavelmente não inclui múltiplas bebidas por dia para a maioria das pessoas.”\nc.2025 The New York Times Company",
          "É natural que superfãs queiram ter um pedaço da história do cinema e da TV — desde a casa de Walter White em Breaking Bad até a espada de Aragorn em O Senhor dos Anéis. Mas dois amantes de Crepúsculo conquistaram o prêmio máximo ao comprar a casa de Bella Swan, do popular filme da franquia de vampiros em que Kristen Stewart interpretou Bella.\n“Eu tinha visitado todos os locais de filmagem,” conta Amber Neufeld, proprietária da casa junto com o marido Dean, à Fortune. “Quando a casa apareceu no mercado, eu pensei: ‘Meu Deus, eu conheço essa casa.’”\nO casal comprou a casa em St. Helens, no Oregon, em 2018 por US$ 360.000. Ela foi vendida por US$ 10.000 acima do valor pedido após uma disputa com outros dois compradores em potencial.\nDepois de reformar algumas áreas desgastadas da casa e fazer um lançamento suave no início de 2019, ela ficou pronta para aluguel, com diárias em torno de US$ 400. Levou um ano para o negócio decolar, mas agora a propriedade constantemente “derruba” o site do Airbnb, com reservas para um ano inteiro esgotando em minutos no site pessoal dos Neufeld.\nA icônica casa Swan da franquia “Crepúsculo”, que faturou US$ 3 bilhões no cinema e começou como uma série de livros de Stephenie Meyer, agora gera até US$ 140.000 em receita bruta anual — e Amber gerencia a propriedade em tempo integral.\nA perspectiva de alugar uma casa famosa de filme poderia levar alguns a cobrar preços altos para lucrar bastante, mas os Neufeld dizem que não estão interessados em grandes lucros: a parte mais gratificante de possuir a casa é permitir que os superfãs de “Crepúsculo” entrem no mundo de Bella, mesmo que seja só por uma noite.\nAlém disso, Amber não suportaria a ideia de outra pessoa comprar a casa e tirar seu caráter original. “E se alguém mudar a casa e perdermos essa história das filmagens?” diz Amber. “Eu só queria salvar isso.”\nQuando os Neufeld, ambos com 43 anos, souberam que a casa Swan de cinco quartos estava à venda, eles aproveitaram a oportunidade — mesmo que fosse só para dar uma olhada por dentro. Amber admite que ficou empolgada durante a visita. “Eu tentava me controlar para que meu corretor não achasse que eu era uma pessoa louca,” lembra.\nO casal fez uma oferta imediatamente, tendo dinheiro suficiente em ações da empresa para dar entrada a qualquer momento. Havia outras duas ofertas na mesa. Mas eles fecharam a compra por US$ 360.000, oferecendo US$ 10.000 acima do preço pedido.\nDepois vieram as reformas para deixar a casa o mais fiel possível ao filme. Felizmente, todo o piso original, os acessórios e o exterior estavam intactos desde as filmagens. Mas a casa ainda precisava de cuidados, então Dean conciliou seu trabalho em tempo integral com a reforma: pregando tábuas, consertando torneiras e aquecedores de água com vazamento.\nEnquanto isso, Amber procurava na internet móveis originais do filme ou réplicas do cenário, como um modelo de navio, a mesa e cadeiras da sala de jantar. As reformas e os itens custaram cerca de US$ 20.000 no total.\n“Eu trabalhava das nove às cinco, e depois ia para a casa, ficando lá das cinco até a hora de dormir só consertando coisas,” diz Dean. “Ficamos apertados financeiramente. Pagamos duas hipotecas, duas contas de água, luz, essas coisas.”\nEmbora os Neufeld tenham arcado com muitos custos no início para colocar a casa Swan em funcionamento, já faz anos que não precisam se preocupar com o financiamento.\nO casal fez um lançamento suave da casa em janeiro de 2019, abrindo o anúncio ao público um mês depois. Eles tiveram que lutar para ganhar seguidores no Facebook, com reservas chegando de forma irregular.\nMas tudo decolou cerca de um ano depois graças à viralização no TikTok. Uma criadora fez um vídeo de sua estadia na casa, recriando de forma humorística uma cena na janela do quarto de Bella. Seus 1,5 milhão de espectadores passaram a saber que também podiam alugar a casa.\n“A vida nunca mais foi a mesma,” explica Dean. “Nossas reservas eram preenchidas assim que abriam, e nunca mais desaceleraram.”\nOs Neufeld começaram alugando a casa pelo Airbnb — mas o site não aguentava o tráfego intenso. Desde então, passaram a gerenciar as reservas pelo próprio site, que são abertas trimestralmente e esgotam em três a dez minutos para reservas com até um ano de antecedência.\nO casal diz que o sucesso veio na tempestade perfeita de um ressurgimento de “Crepúsculo”; a série finalmente chegou aos serviços de streaming, e o livro Sol da Meia-Noite foi adicionado à série. Isso significava que os adolescentes filhos dos pais que foram às estreias de “Crepúsculo” há 17 anos agora estavam viciados na série e reservando a casa.\n“Todos os leitores de ‘Crepúsculo’ agora tinham dinheiro de adulto,” diz Amber. “O que aconteceu, surpreendentemente, foi que eram os adolescentes — a segunda geração — que também estavam entrando.”\nOs Neufeld agora faturam US$ 140.000 em receita bruta com a casa Swan em anos bons, com a maior parte indo para custos e melhorias. Eles se recusam a aumentar os preços junto com a alta demanda, e uma vantagem de manter os preços baixos é que podem reduzir sua carga tributária. Além disso, dizem que o lucro, que pode chegar a US$ 60.000 por ano, cobre as hipotecas e taxas, sobrando dinheiro para eles e para novas melhorias.\n“Não queremos realmente cobrar mais,” diz Amber. “Não é só ‘Como podemos ganhar mais dinheiro?’ Sempre foi ‘Quanto podemos cobrar e ainda investir na casa e pagar a hipoteca?’”\nEsta história foi originalmente publicada no Fortune.com",
          "O presidente Donald Trump revelou nesta quinta-feira (3) sua intenção de organizar uma luta de UFC no gramado da Casa Branca para celebrar os 250 anos da independência dos Estados Unidos, que será comemorada em 4 de julho de 2026. O evento, que poderia reunir entre 20 mil e 25 mil espectadores, faria parte de uma série de festividades planejadas para marcar o marco histórico.\nDurante um evento em Des Moines, Iowa, Trump destacou que a Casa Branca possui amplo espaço para sediar o evento, que seria uma “luta completa” de artes marciais mistas. O presidente, entusiasta do UFC e amigo próximo do presidente da liga, Dana White, afirmou que o combate será um dos muitos eventos especiais realizados em parques nacionais, campos de batalha históricos e outros locais emblemáticos do país.\nAlém da luta de UFC, Trump anunciou uma grande festa no National Mall, em Washington, e uma competição atlética envolvendo estudantes de ensino médio de todo o país.\nA Casa Branca não divulgou detalhes adicionais sobre a organização do evento, mas a porta-voz Karoline Leavitt afirmou que o presidente está “muito sério” quanto à realização da luta. Trump tem participado de várias lutas de UFC recentemente, inclusive assistindo a combates ao lado de Dana White, o que reforça seu interesse pessoal pelo esporte."
         ],
         "marker": {
          "opacity": 0.5,
          "size": 5
         },
         "mode": "markers+text",
         "name": "0_de_que_os",
         "text": [
          "",
          "",
          "",
          "",
          "",
          "",
          "",
          ""
         ],
         "textfont": {
          "size": 12
         },
         "type": "scattergl",
         "x": {
          "bdata": "ohfJQMnWz0C/RcpA+HXDQPoZ10DyTtVAYhzEQPE9t0A=",
          "dtype": "f4"
         },
         "y": {
          "bdata": "Sn+jQFjsmUAXMbZAIkS9QLJIukBCWq5AprKsQOEwokA=",
          "dtype": "f4"
         }
        },
        {
         "hoverinfo": "text",
         "hovertext": [
          "O Ibovespa encerrou o pregão desta quinta-feira (03) com uma performance histórica, subiu1,35%, encerrando o pregão em140.927,86 pontos. Durante a sessão, ultrapassou pela primeira vez os141 mil pontos, marcandonovo topo histórico em 141.303,55 pontos.\nO avanço foi impulsionado por um conjunto de fatores, com destaque para o bom humor global após a divulgação do payroll nos Estados Unidos, que mostrou geração de empregos acima do esperado e queda na taxa de desemprego. No entanto, o dado que mais agradou os mercados foi a desaceleração dos salários, reforçando a expectativa de que o Federal Reserve ainda possa cortar os juros até o fim de 2025.\nNo Brasil, apesar das tensões entre os Três Poderes envolvendo o decreto do IOF e a discussão da isenção do IR, o apetite por risco prevaleceu, com bancos e varejistas liderando os ganhos. A liquidez foi reduzida, reflexo do feriado do Dia da Independência nos EUA, que manteve as bolsas de Nova York fechadas nesta sexta.\nPara os traders do mini-índice, o dia foi de clara dominância compradora, com forte tração do índice futuro já na abertura e manutenção do viés de alta ao longo da sessão. A ausência de Wall Street reduziu o volume, mas não impediu o rompimento de resistências importantes, abrindo espaço para novos topos históricos.\nOs bancos puxaram o fôlego do movimento, seguidos por Petrobras e ações do setor de consumo, enquanto Vale destoou com queda leve. Com o calendário esvaziado nesta sexta-feira e o IPP como destaque local, o mercado pode operar em ritmo mais moderado, mas a tendência segue construtiva, com operadores atentos a uma possível extensão do rali de alta nas próximas sessões.\nAprenda o Setup da Praia na Semana do Trader Sossegado 2.0\nOs contratos futuros demini-índice (WINQ25), com vencimento em agosto, encerraram a última sessão com alta de1,19%, aos143.125 pontos.\nNográfico diário, a estrutura segue com viés altista, com o ativo mantendo-se acima das médias móveis de9, 21 e 200 períodos. OIFR (14)está em60,09, em zona ainda neutra.\nO suporte relevante está em137.390/136.800, e seu rompimento pode levar o índice às regiões de134.550/133.560e131.950/130.885 pontos. Do lado oposto, a resistência está em143.710, e seu rompimento pode destravar novas altas até145.080/145.630e, posteriormente,148.520/149.400 pontos.\nNográfico de 15 minutos, a sessão anterior foi marcada por uma predominância da força compradora durante grande parte do dia, refletindo um cenário de continuidade da tendência de alta no curtíssimo prazo.\nNo entanto, a entrada de uma leve pressão vendedora no final do pregão acabou levando o ativo a encerrar o dia abaixo das médias móveis de9 e 21 períodos, sinalizando uma possível pausa do movimento. Ainda assim, o viés técnico permanece altista, desde que o mini-índice consiga se sustentar acima das principais regiões de suporte.\nPara esta sexta-feira (5), os principais níveis gráficos a serem monitorados estão nos suportes em142.740/142.530(1),141.900/141.600(2) e141.085/140.905(3), e nas resistências em143.300/143.455(1),144.200/144.450(2) e144.900/145.065(3).\nUm rompimento da resistência imediata em143.300/143.455poderá impulsionar o ativo rumo às próximas faixas de resistência em144.200/144.450, com possível extensão até144.900/145.065, caso o fluxo comprador ganhe força.\nNográfico de 60 minutos, o mini-índice encerrou a última sessão com valorização, rompendo resistências de relevância e consolidando sua posição acima das médias móveis de9, 21 e 200 períodos— um indicativo de que o controle ainda está nas mãos da ponta compradora. Esse comportamento reforça o viés altista no curto prazo.\nNo entanto, é importante observar que o preço se distanciou significativamente da média de21 períodos, o que pode indicar uma possível exaustão momentânea e a chance de um movimento corretivo em direção a essa média, que atua como suporte dinâmico e coincide com a região entre142.300/142.000pontos.\nCaso o ativo consiga superar com volume a resistência imediata em143.730, poderá abrir espaço para uma nova pernada de alta, mirando os alvos intermediários em144.260/144.450, com projeção estendida até145.160/145.730, regiões que concentram barreiras técnicas.\n(Rodrigo Paz é analista técnico)",
          "O Ibovespa encerrou a sessão desta quinta-feira (4) com forte valorização de1,35%, aos140.927 pontos, após oscilar entre a mínima de139.050e a máxima de141.303 pontos— este último representando um novo topo histórico para o principal índice da B3. A tendência de alta em 2025 segue consolidada, com o gráfico mantendo a estrutura de topos e fundos ascendentes.\nNográfico semanal, o índice acumula alta de2,97%na semana, impulsionado pelo rompimento da antiga máxima em140.381e pela conquista de um novo topo histórico em141.303pontos. O cenário técnico permanece positivo, com o Ibovespa sustentado acima das médias móveis de9, 21 e 200 períodos. OIFR (14)marca67,24, em região próxima à zona de sobrecompra.\nPara que o movimento altista continue ganhando tração, é essencial que o índice se mantenha acima do antigo topo em140.381e siga respeitando as médias. Nesse contexto, os próximos objetivos estão em145.280/147.340e, mais adiante,152.580pontos. Em caso de reversão, a região de bipolaridade entre136.000/134.120volta ao radar como suporte relevante, com possível recuo até131.635pontos em cenário mais negativo.\nNográfico diário, o Ibovespa rompeu o topo anterior e marcou nova máxima em141.303, fechando acima das médias de9 e 21 períodos. OIFR (14)está em63,58, também próximo da zona de sobrecompra, o que sugere atenção para possíveis correções técnicas.\nPara manter o movimento comprador no curto prazo, será necessário romper a nova resistência em141.303, abrindo caminho para alvos em142.780e, em extensão,144.800pontos.\nAprenda o Setup da Praia na Semana do Trader Sossegado 2.0\nNográfico de 60 minutos, o Ibovespa encerrou o pregão negociado próximo de sua nova máxima histórica, demonstrando força compradora no curtíssimo prazo. O índice segue acima das médias móveis de9 e 21 períodos,ambas com inclinação positiva, o que mantém o viés altista intacto nesse intervalo de tempo.\nNo entanto, é importante observar que o ativo se afastou consideravelmente da média de21 períodos— comportamento que, do ponto de vista técnico, costuma anteceder movimentos de correção ou lateralização para aliviar o excesso de alongamento do preço.\nA resistência imediata está localizada em141.660pontos, patamar que, se rompido com força e volume, poderá impulsionar o Ibovespa para novas máximas. Nesse cenário, os alvos projetados estão em142.935e144.580, com objetivo mais ambicioso na região de145.900pontos.\nNesse caso, os próximos pontos de atenção estão em138.650/138.200, e, em extensão,137.960/137.620— esta última faixa coincidindo com a média móvel de200 períodos, que costuma atuar como suporte técnico de maior relevância.\nOs contratos domini-índice (WINQ25), com vencimento em agosto, registraram alta de1,19%na última sessão, fechando aos143.125 pontos.\nNo gráfico de 15 minutos, o ativo perdeu força ao final do dia e encerrou abaixo dasmédias de 9 e 21 períodos, exigindo atenção ao suporte em142.740/142.530e à resistência em143.300/143.455pontos.\nJá no gráfico de 60 minutos, o ativo segue acima das médias, com possibilidade de continuidade da alta se superar143.730. Caso contrário, a perda do suporte em142.000pode abrir espaço para quedas até141.000/140.800 pontos.\nOs contratos futuros deminidólar (WDOQ25), com vencimento em agosto, encerraram a última sessão com baixa de0,30%, aos5.448 pontos.\nNo gráfico de 15 minutos, o ativo segue pressionado, com viés de baixa reforçado pela média de21 períodosinclinada para baixo. O suporte imediato está em5.444pontos, e sua perda pode abrir espaço para quedas até5.433/5.426. Já a retomada do movimento de alta exige rompimento da resistência em5.452/5.458.\nJá no gráfico de 60 minutos, a tendência também é negativa, com o ativo abaixo das médias móveis e testando a faixa de suporte em5.440/5.423 pontos— cuja perda pode abrir espaço para quedas até5.391e5.364.Para retomar o fôlego comprador, será necessário romper resistências em5.477,5/5.484,5e5.501/5.510 pontos.\nOs contratos futuros de Bitcoin (BITN25), com vencimento em julho, encerraram a última sessão com leve alta de0,01%, aos601.260 pontos.\nO ativo permanece acima das principais médias móveis, com suportes posicionados em596.900/588.600 (1),571.230/563.040 (2)e529.400/506.580 (3). Já as resistências estão localizadas em615.500/628.370 (1),649.460/668.700 (2)e689.660/715.880 (3).\nNográfico diário, o ativo acumula alta de0,97%na semana e segue negociado acima das médias móveis de9 e 21 períodos, mantendo um viés de curto prazo levemente positivo.\nNo entanto, o candle formado na última sessão foi umdoji, padrão que indica indecisão entre forças compradoras e vendedoras — o que pode sinalizar uma pausa no movimento atual ou até mesmo uma possível reversão. OIFR (14)está em51,82, dentro de uma zona neutra.\nPara confirmar a continuidade do movimento de alta, o contrato precisará superar a resistência em615.500/628.370, o que poderia atrair novo fluxo comprador em direção aos próximos alvos em649.460/668.700, com projeção estendida para689.660/715.880pontos.",
          "A Aura Minerals(AURA33) divulgou nesta quinta-feira (4) sua produção consolidada do segundo trimestre de 2025, totalizando 64,0 mil GEOs (equivalente de ouro), número em linha com o desempenho do mesmo período do ano passado e 6% acima das estimativas da XP Investimentos.\nA XP Investimentosconsidera o resultado como um passo importante na trajetória operacional da mineradora, especialmente pela primeira produção de ouro na unidade de Borborema, no Rio Grande do Norte. O banco segue com recomendação otimista para os papéis da companhia, avaliando que o segundo semestre deve manter a tendência de geração de valor.\nSegundo relatório da corretora, o desempenho foi puxado por surpresas positivas em unidades como EPP (Ernesto/Pau-a-Pique) e San Andrés, que apresentaram produções acima do esperado em 15% e 4%, respectivamente, na comparação com as estimativas internas.\nA produção em Almas também apresentou avanço de 22% em relação ao mesmo período do ano passado, após a troca de empreiteira no primeiro semestre. A unidade opera agora com melhor desempenho de mina e taxas de processamento mais elevadas.\nA produção inicial de Borborema, que atingiu 2,6 mil GEOs após a primeira fundição de ouro, também foi bem recebida. A Aura informou que o projeto segue dentro do cronograma para alcançar a produção comercial até o fim do terceiro trimestre. A XP vê essa frente como um novo motor de crescimento, especialmente por estar atrelada a um projeto considerado de alto retorno.\nAranzazu, unidade de mineração localizada no México, apresentou leve queda de 10% na produção total em relação ao mesmo trimestre de 2024, encerrando o período com 22,3 mil GEOs. Apesar do recuo, a produção a preços constantes avançou 15% na base anual, devido à conversão de cobre para ouro. Já San Andrés, em Honduras, produziu 18 mil GEOs, uma leve queda anual de 6%, mas que veio acima das expectativas da XP.\nApós pico de fechamentos em maio, setor abriu 18 lojas em junho. Iguatemi liderou aberturas e Allos segue com maior rotatividade, segundo o BofA\nNo Brasil, a unidade de EPP atingiu 8,9 mil GEOs, o que representa queda de 17% em relação ao segundo trimestre do ano passado. A XP diz que a retração já era esperada em função do foco da empresa na preparação de novas frentes de lavra, como Nosde e Lavrinhas. O desempenho ficou acima das estimativas da corretora, que enxergou a operação com viés positivo. A produção em Almas foi de 12,9 mil GEOs, e ficou apenas 4% abaixo da expectativa da corretora, mas ainda assim contribuiu para o resultado trimestral positivo.\nEm relatório assinado por sua equipe de análise, a XP reforça a recomendação de compra para os ativos da Aura. A corretora aponta três principais fundamentos: a valorização do ouro no mercado internacional, com riscos geopolíticos elevados favorecendo o ativo; o foco da mineradora em projetos de retorno elevado e conversão de recursos em reservas; e a preparação para uma oferta pública nos Estados Unidos que deve melhorar a liquidez das ações.",
          "Os shoppings do Brasil abriram 18 lojas em junho após o fechamento de 27 em maio, volume atribuído à sazonalidade típica do período pós-feriados, segundo mapeamento do Bank of America (BofA) de 382 centros comerciais, que reúnem cerca de 55 mil estabelecimentos. A análise contempla os gruposMultiplan(MULT3),Iguatemi(IGTI11) eAllos(ALOS3), além de outros 45 operadores de shoppings privados.\nIguatemi foi quem mais abriu pontos no mês, com 13 inaugurações, o que representa 0,8 loja por shopping. Multiplan abriu quatro lojas, o equivalente a 0,2 por unidade, enquanto Allos ficou praticamente estável, com apenas uma nova operação. No acumulado do segundo trimestre, houve fechamento líquido de 44 lojas, abaixo das 46 aberturas registradas no mesmo período do ano passado. A redução foi puxada por menor ritmo de inaugurações, segundo os analistas.\nEntre os grupos listados, a Iguatemi novamente liderou em novos pontos no trimestre, com média de 0,5 loja por shopping. A Allos apresentou fechamento de 0,2 loja por unidade, e a Multiplan terminou o período com retração de 2,3 pontos por centro comercial.\nSegundo o BofA, a Allos segue com a maior taxa de rotatividade, com 12,8% no acumulado de 12 meses, dois pontos percentuais acima da média dos concorrentes. Em relação ao mês anterior, houve alta de 20 pontos-base. O banco chama atenção para a relação entre rotatividade e geração de receita com aluguel, além da influência do saldo entre aberturas e fechamentos sobre a ocupação.\nNo acumulado do ano, a Multiplan apresenta a menor variação negativa entre os operadores listados. Os fechamentos da companhia caíram 46% na comparação anual, com abertura de lojas em ritmo mais forte nos últimos meses. Conforme o BofA, os portfólios voltados ao público de maior renda vêm apresentando melhor desempenho em volume de aberturas e menores taxas de rotatividade.\n“É uma decisão de positiva a neutra”, pontua o estrategista-chefe do Grupo Laatus, Jefferson Laatus\nTrump disse nesta sexta que as tarifas que constarem nas cartas entrarão em vigor a partir do dia 1º de agosto e podem chegar a 70% em alguns casos\nEm junho, os shoppings classificados como de alto padrão abriram onze novas lojas, com média de 0,2 por centro comercial. Já os voltados para o público de renda média ou baixa encerraram 16 operações, com média de 0,1 loja por unidade. A taxa de rotatividade nos shoppings de menor renda segue 2,5 pontos percentuais acima dos de alto padrão nos últimos 12 meses.\nO levantamento também mostra que empresas em dificuldades seguem reduzindo presença física nos shoppings. A Zinzane lidera os fechamentos no acumulado de um ano, com 38 lojas encerradas. A lista inclui ainda Artex (28), Motorola (26) e Laser Fast (24). Por outro lado, WePink e Natura (NATU3) continuam com ritmo forte de expansão, com a categoria de cosméticos liderando em número líquido de novas lojas abertas no mês.",
          "Na quinta-feira (03), o dólar à vista recuou 0,27%, fechando cotado aR$5,4047, no menor nível em pouco mais de um ano. A moeda chegou a subir pela manhã, reagindo aos dados mais fortes do que o esperado sobre o mercado de trabalho dos Estados Unidos —com a criação de 147 mil vagas fora do setor agrícola em junho, superando as estimativas. Esse resultado reduziu a expectativa de corte de juros pelo Federal Reserve já em julho, pressionando os mercados globais no início do dia.\nNo entanto, o movimento foi revertido ao longo da sessão devido ao fluxo de entrada de capital estrangeiro para a Bolsa brasileira, o que ajudou a empurrar o dólar de volta para o campo negativo. A liquidez, porém, foi reduzida em função do fechamento antecipado dos mercados em Nova York por conta do feriado de 4 de julho.\nPara os traders do mini dólar, o dia foi marcado por forte volatilidade nos primeiros momentos do pregão, com o payroll impulsionando a cotação e testando regiões de resistência logo após a abertura.\nNo entanto, a entrada de fluxo estrangeiro e o ambiente doméstico ainda sustentado por juros elevados favoreceram a retomada do viés de baixa no decorrer do dia. A mínima anual reforça o papel do diferencial de juros como força dominante no câmbio brasileiro, mesmo diante de pressões externas pontuais.\nCom a agenda internacional esvaziada na sexta-feira e o cenário técnico mais pressionado, o mercado deve seguir atento à sustentação dos níveis atuais, em meio à disputa entre fundamentos econômicos e fluxo financeiro.\nAprenda o Setup da Praia na Semana do Trader Sossegado 2.0\nOs contratos futuros deminidólar (WDOQ25), com vencimento em agosto, encerraram a última sessão com baixa de0,30%, cotados a5.448 pontos.\nNográfico diário, a estrutura segue com viés baixista, com o ativo sendo negociado abaixo das médias móveis de9 e 21 períodos, ambas com inclinação descendente. OIFR (14)está em32,17, próximo da zona de sobrevenda.\nO suporte relevante está em5.416/5.380, e seu rompimento pode abrir espaço para quedas até5.320/5.275,5pontos. Do lado oposto, a resistência está em5.595/5.620, e seu rompimento pode levar o ativo às regiões de5.652,5/5.672,5pontos.\nNográfico de 15 minutos, o ativo finalizou o dia dentro de um movimento de baixa, ainda que o fechamento tenha ocorrido entre as médias móveis de9 e 21 períodos. Amédia de 21permanece com inclinação negativa, sugerindo que o viés vendedor segue dominante no curto prazo.\nNo entanto, é relevante observar que o último fundo formado foi menos profundo que o anterior — um sinal técnico que pode indicar início de enfraquecimento da pressão vendedora ou, ao menos, uma pausa no movimento de queda.\nPara o pregão desta sexta-feira (04), os principais níveis técnicos a serem monitorados estão nas regiões de suporte em5.444(1),5.433/5.426(2) e5.413,5/5.405,5(3), enquanto as resistências se concentram em5.452/5.458(1),5.467/5.570(2) e5.485/5.490,5(3).\nA região de5.444 pontosganha destaque como principal suporte imediato, sua perda pode intensificar a movimentação de baixa em direção a5.433/5.426, com possível extensão até o fundo de5.413,5/5.405,5.\nNográfico de 60 minutos, o ativo também apresenta viés negativo, encerrando a sessão abaixo das médias móveis de9 e 21 períodos, ambas voltadas para baixo.\nNo entanto, o suporte em5.440 pontosfoi testado e respeitado, sem que o preço conseguisse fechar abaixo dessa região — o que pode indicar uma possível exaustão vendedora  e presença de compradores nessa região de curto prazo.\nCaso esse suporte volte a ser pressionado e rompido, o próximo nível de atenção está entre5.440,5/5.423. A perda dessa faixa pode intensificar o movimento de baixa, com projeções em5.391e, em continuidade,5.364 pontos.\nSe os compradores conseguirem reagir, o primeiro desafio será a região de resistência entre5.477,5/5.484,5, onde está posicionada a média móvel de21 períodos. Um rompimento com volume dessa faixa pode destravar espaço para avanços até5.501/5.510, com objetivo mais longo em5.536,5/5.547.\n(Rodrigo Paz é analista técnico)",
          "A Comissão de Valores Mobiliários (CVM) divulgou nesta sexta-feira, 4, uma lista de nove companhias abertas consideradas inadimplentes, por não terem enviado à autarquia, há no mínimo três meses, pelo menos um dos seguintes documentos periódicos: formulário de Demonstrações Financeiras Padronizadas (DFP), formulário de Informações Trimestrais (ITR) ou formulário de Referência (FRE)\nNa lista constam as companhias abertas que não apresentaram, até hoje, os documentos, com vencimento de entrega anterior a 3 de abril de 2025.\nÍndices futuros dos EUA recuam após novos recordes e em dia de feriado\nSão elas: BBM Logística S.A.; Bombril S.A. – Em recuperação judicial; Cia Tecidos Santanense – Em recuperação judicial; Reag Capital Holding S.A.; Reag Investimentos S.A.; Rossi Residencial S.A. – Em recuperação judicial; SPE Novo Norte Aeroportos S.A.; Sugoi – S.A.; e Teka Tecelagem Kuehnrich S.A. – Em recuperação judicial.\nNão fazem parte da lista as companhias que estejam, segundo o cadastro da CVM, em situação de falência ou liquidação, bem como aquelas que estão com o registro suspenso, nos termos da Resolução CVM 80."
         ],
         "marker": {
          "opacity": 0.5,
          "size": 5
         },
         "mode": "markers+text",
         "name": "1_de_com_do",
         "text": [
          "",
          "",
          "",
          "",
          "",
          ""
         ],
         "textfont": {
          "size": 12
         },
         "type": "scattergl",
         "x": {
          "bdata": "GZlhQM1MbkAMDExAUBxPQJ0BekDUMW9A",
          "dtype": "f4"
         },
         "y": {
          "bdata": "1SsiQOo0MkBUmFBALpQ4QDoPJkAZfm9A",
          "dtype": "f4"
         }
        },
        {
         "hoverinfo": "text",
         "hovertext": [
          "Nos dias 25 e 26 de julho, o São Paulo Expo se transformará no ponto de encontro de quem busca mais do que apenas retorno financeiro. AExpert XP 2025vai além do mercado — e mostra que grandes decisões econômicas e políticas partem de princípios muito parecidos: foco, preparação e visão de longo prazo.\nAo longo das edições passadas, o evento já recebeu algumas das mentes mais influentes da política, da economia e da inovação global.\nEm 2023, o ex-primeiro-ministro britânicoBoris Johnsonsurpreendeu o público ao declarar que “quem salvou milhões de pessoas [durante a pandemia] foi o mercado, não os contribuintes”. A frase, dita em tom provocador, foi seguida de uma defesa contundente das democracias liberais e da importância de sistemas que favoreçam a livre iniciativa como motor de inovação e recuperação.\nTambém ex-primeiro ministro do Reino Unido,Tony Blairdebateu o mundo e seu futuro na Expert XP 2020, e criticou o excesso de ideologia: “É muito destrutivo”. Blair alertou em sua apresentação para a necessidade de países desenvolvidos diminuírem suas emissões de carbono, com risco de afetar outras nações caso não aplique medidas para contê-las. Na ocasião, o ex-primeiro ministro, que ficou 10 anos no cargo, já alertava para os “enormes problemas econômicos” que viriam pós-pandemia.\nNa edição de 2021,Hillary Clinton, ex-secretária de Estado dos EUA, trouxe à tona uma reflexão essencial para tempos de ruído e desinformação: “A democracia requer que as pessoas tenham acesso a fatos e informações críveis”. A ex-candidata à presidência dos EUA destacou a responsabilidade das empresas e do setor financeiro na construção de ambientes mais transparentes, estáveis e, portanto, mais seguros para o crescimento sustentável.\nTrês anos antes, o ex-presidente dos EUA,Bill Clinton, na Expert XP 2018, mencionou a importância de se acreditar no Brasil, de “território gigante que pode gerar grandes riquezas”, e pensar no longo prazo. Também mostrou preocupação de ataques à democracia. “No Brasil, a corrupção é um problema? É, mas vocês têm capacidade para lidar com isso. Há um buraco no teto, mas não fiquem desesperados. Vamos consertar o buraco no teto”, disse à época.\nGaranta até 55% OFF na Expert XP com cupom InfoMoney\nEm comum, as falas de Clinton e Johnson reforçam um princípio-chave para quem investe com estratégia: não basta reagir às crises. É preciso antecipá-las — com planejamento, caixa estruturado e decisões baseadas em dados, não em ruídos.\nNa mesma linha, o investidor lendárioHoward Marks, fundador da Oaktree Capital, reforçou em sua participação que a busca por retornos consistentes passa pela capacidade de pensar diferente: “A chave para alcançar retornos superiores nos investimentos é pensar de forma diferente e melhor”, afirmou, ao destacar que não basta investir em empresas boas se todos já perceberam isso. O verdadeiro diferencial está em identificar oportunidades ainda não precificadas pelo mercado.\nMarks também alertou para a importância da cautela em cenários incertos: “É importante ter a humildade de reduzir a agressividade em momentos incertos”, disse, ressaltando que muitos investidores nem sabem que não sabem prever o mercado — o que exige uma postura equilibrada entre ofensiva e defesa.\nJá o ex-secretário do Tesouro americanoLawrence Summerstrouxe uma análise contundente sobre o impacto de políticas fiscais expansionistas nos EUA: “Isso nos torna vulneráveis”, afirmou, ao criticar o projeto fiscal do governo Trump, que, segundo ele, acelera perigosamente o endividamento americano e ameaça sua posição como potência global. Em sua visão, “o maior devedor do mundo acumulando dívidas mais rápido do que qualquer outro país na história, em volume de dólares, coloca em risco sua posição como maior potência do planeta”.\nFundador da Bloomberg e prefeito por três mandatos da cidade mais populosa dos EUA, Nova York,Michael Bloombergatribuiu às mídias sociais a polarização política que se vive hoje no mundo, na sua participação na Expert 2021. Antes de abrir o conglomerado de mídia Bloomberg, ele chegou a trabalhar por mais de uma década no mercado financeiro, até ser demitido. “Às vezes você só precisa que alguém o impulsione a fazer algo diferente”, disse na época sobre sua mudança de rumo na carreira, para abrir um serviço de informação financeira.\nGaranta até 55% OFF na Expert XP com cupom InfoMoney\nFazendo a ponte com o futuro, a futuristaAmy Webb, CEO do Future Today Strategy Group, acrescentou uma provocação estratégica vinda do SXSW 2025: “O maior erro das empresas é reagir às tendências em vez de antecipá-las. A visão estratégica não pode ser um luxo – deve ser um hábito”, afirmou. Ela introduziu o conceito de “The Beyond”, um espaço de transição tecnológica e social onde as regras tradicionais deixam de fazer sentido. Para ela, “The Beyond não é uma metáfora, é uma inteligência viva. E essa inteligência viva vai reescrever as regras da nossa realidade como a conhecemos hoje — e nós não estamos preparados”.\nCofundador da Apple,Steve Wozniakcontou na Expert XP 2023 sua trajetória, marcada inicialmente pelo desejo em conhecer a fundo computadores, e que acabou o direcionando à criação da empresa mais valiosa do mundo. Na ocasião, Wokniak fez uma análise da emergente inteligência artificial, mas ressaltou que o trabalho humano continuará sendo “essencial”. O cofundador da Apple citou ainda a importância da regulação da IA e da transparência das fontes de informação utilizadas pela ferramenta.\nAExpert XP 2025, mais uma vez, se consolida como um fórum que conecta ideias, pessoas e decisões que moldam o presente e o futuro. Não apenas de quem investe dinheiro — mas de quem investe tempo e energia para entender o mundo de forma mais profunda.\nServiçoEvento:Expert XP 2025Data:25 e 26 de julho de 2025Local:São Paulo Expo – São Paulo/SP\nBenefícios Cartão XP:1% de Investback ou 1 ponto por dólar.\nIngresso para os dois dias com Cartão XP (25 e 26/07):R$ 1.200,00\nIngresso para sábado (26/07):R$ 799,00\nSite oficial:www.expertxp.com.br\nGaranta até 55% OFF na Expert XP com cupom InfoMoney",
          "O apresentador Luciano Huck criticou o sistema político do Brasil neste sábado, 5, no seu perfil do X (antigo Twitter). Resgatando um trecho da participação do ex-presidente Fernando Henrique Cardoso no programa Roda Viva em 1993, onde critica o Congresso Nacional, Huck afirmou que o “presidencialismo de coalizão virou um presidencialismo de colisão” e defendeu uma mudança, sem especificar qual.\nNo trecho, FHC, que ocupava o cargo de ministro das Relações Exteriores, afirma que o sistema político do Brasil era “confuso” por causa do aumento do poder do Congresso. A entrevista aconteceu nas vésperas do plebiscito de 1993, que escolhia o sistema político do Brasil.\n“O regime (político) atual nosso não é nem presidencialista, nem parlamentarista, é um ‘congressualismo’ confuso, no qual o Congresso aumentou muito o poder para dizer não, para vetar, mas não aumentou a sua responsabilidade na decisão”, diz FHC no vídeo.\nO plebiscito foi determinado após a redemocratização do Brasil. A maioria dos eleitores votou a favor do regime republicano e do sistema presidencialista, maneira pela qual o País havia sido governado desde a Proclamação da República em 1889.\nNa postagem, Huck diz que a resposta de FHC permanece nos dias de hoje. “Quando um diagnóstico pensado há 32 anos – por alguém com conhecimento de causa e bom senso como o presidente FHC – continua atual, é sinal de que falhamos em construir soluções”, escreveu.\n“Ainda dá tempo de mudar. O desafio agora é resgatar o bom senso e o diálogo, antes que vire apenas um presidencialismo de confusão”, acrescentou.\nA declaração de Huck, que cogitou ser candidato à presidência nas eleições de 2018 e 2022, é realizada em meio ao embate entre o governo Lula e o Congresso Nacional em torno dos decretos que tratam sobre o Imposto sobre Operações Financeiras (IOF). O Congresso derrubou os decretos do governo, que respondeu com uma ação no Supremo Tribunal Federal (STF).\nO ministro Alexandre de Moraes, responsável pelo caso no STF, determinou a suspensão dos decretos e do veto do Congresso e agendou uma audiência de conciliação entre o Executivo e o Legislativo sobre o tema no dia 15.\nAs divergências entre os dois Poderes também mobilizaram embates nas redes sociais, com uma campanha de membros do governo com críticas ao Congresso, sobretudo ao presidente Hugo Motta (Republicanos).",
          "O podcast Sports Pundit recebeu na semana passada Rob Pilgrim, chefe de esportes e horário nobre do YouTube EMEA. Durante 45 minutos, o executivo centrou a conversa na falta de compreensão sobre como a plataforma está reposicionando o valor do esporte premium. Não para sabotar as emissoras tradicionais, mas com o objetivo de eliminar o atrito entre elas.\nPara reforçar o tom de parceria, Pilgrim mencionou o case da Copa do Mundo de 2022 transmitida pela CazéTV, citando uma “permissão” da Globo.\n“Não foi canibalismo. Não tirou de um e deu para o outro. Mas os milhões e milhões de espectadores que a CazéTV trouxe aumentaram a audiência geral. Foi aditivo.”\nNo Mundial de Clubes da FIFA, a lógica se repete, diz Pilgrim: o papel do YouTube seria o de construir rampas de acesso para novos espectadores que talvez não chegassem por meios tradicionais.\nDuas semanas após o início do torneio, porém, o espírito colaborativo idealizado por Pilgrim desmoronou. Globo e CazéTV travaram uma troca pública de farpas, com audiência e métodos de medição no centro da discórdia.\nNa terça, a Globoinformouque 104 milhões de brasileiros assistiram às transmissões na TV aberta e no SporTV. O comunicado dizia que o alcance era cinco vezes maior que o do “streaming concorrente”.\nDias antes, a CazéTV havia enviado umacartaao mercado publicitário criticando o modelo de medição do Kantar Ibope, por supostamente ignorar parte relevante da audiência em dispositivos móveis.\nDesde então, o canal passou a divulgar dados próprios de visualização baseados em dispositivos conectados, trazendo umtom sarcástico: “sem amostragem, nem estimativa.”\nEm abril,mostrei aquipor que a visualização, métrica central do YouTube, não acompanha a complexidade do consumo atual. Recentemente, a insider Jo Redfern alertou que as views, ainda vendidas como parâmetro de sucesso, estão se tornando inúteis nas plataformas sociais.\n“Se você é proprietário de IP e ainda se apoia nisso, é hora de repensar”, disse.\nA CazéTVafirmater atingido 17,4 milhões de dispositivos únicos logo na primeira semana de Mundial. O número supera o universo de sete milhões de domicílios com TV por assinatura no Brasil.\nO confronto de narrativas entre as duas emissoras simboliza o choque entre a velha e a nova televisão. E essa divisão começa a reverberar no público.\nAssim como aconteceu na Copa de 2022, Olimpíadas e Euro 2024, o Mundial vem impulsionando a audiência da CazéTV. E o canal vende bem a narrativa do conteúdo gratuito e dos números estratosféricos para monopolizar as conversas sociais.\nNeste cenário, há uma clivagem visível entre os torcedores: os que preferem o jogo à moda antiga e os que idolatram a informalidade escrachada de Casimiro e companhia. Essa estética sustentada por memes e piadas, por sua vez, serve tanto para angariar fãs quanto para armar os detratores.\nDurante Red Bull Salzburg e Al-Hilal, ao ver comentários sobre o conflito entre Irã e Israel subindo no chat, um dos analistas da CazéTV disparou: “Não compramos os direitos da Guerra no Oriente Médio.” O corteviralizou, e a emissora foi julgada no tribunal da internet.\nNa verdade, o embate já se anunciava desde o início do Brasileirão, quando a rivalidade entre clubesfoi levadaaos grupos e as emissoras da nova divisão do futebol brasileiro. E o torcedor acompanhou, tomando partido.\nNesse cenário de polarização e fragmentação extrema, surge uma janela para estratégias mais sofisticadas. Redfern defende que o futuro do consumo esportivo passa por uma distribuição hiperpersonalizada em múltiplas plataformas e com baixíssimo atrito de acesso.\n“Não se trata de fragmentar os direitos e escondê-los atrás de múltiplos paywalls.”\nJohn Kosner, veterano de 20 anos da ESPN e hoje consultor de mídia esportiva, enxerga a combinação entre escala e personalização a essência do que batizou de Streaming 3.0: fase em que a barreira para adquirir direitos esportivos desmorona.\nNa nova era, basta ter três ativos: marca relevante, público digital engajado e apetite por esporte.\nA classificação de Korner dos momentos da distribuição esportiva expõe a ruptura atual:\nA CazéTV é o protótipo perfeito da mídia não tradicional. E nesse cenário, como sugere Doug Shapiro, há umaguerra silenciosaentre a mídia criadora e a corporativa — com o tempo do consumidor como recurso finito.\nNos últimos quatro anos, a mídia de criadores respondeu por quase metade do crescimento do mercado global de mídia e entretenimento. Em 2023, gerou US$ 250 bilhões. Em 2030, deve passar dos US$ 600 bi — 20% da receita total do setor.\nNeste cenário em que criadores são a própria mídia, compram direitos e definem um novo formato para consumir esportes, uma questão levantada pelo especialista Carlo De Marchis ressoa aqui: é possível entregar experiências distintas para o espectador casual e o fã hardcore por meio de canais diferentes?\nDois dias antes do Mundial de Clubes, a NSports reuniu parceiros em São Paulo para apresentar sua nova fase. Com investimento da Tellescom e da holding Ola Sports, o canaltrouxeGalvão Bueno como sócio e rosto da reinvenção.\nAgora, quer se posicionar como o primeiro canal esportivo multigeracional do país.\nO ícone do jornalismo esportivo, que se reinventa entre a Band e o jardim murado do Prime Video, encarna a tentativa de provar que o streaming esportivo pode dialogar com diferentes gerações, sem abrir mão da credibilidade nem do entretenimento.\nSob a lógica de que os direitos são meio, não fim, a nova NSports aposta na combinação entre transmissões ao vivo, programas sob demanda e séries documentais.\nEm abril, a Ola já haviacedido jogosda Série B ao Desimpedidos. Desde o início do torneio, os dois jogos por rodada acumulam mais de 9,4 milhões de visualizações.\nA grade também ganha programas próprios comoNegueritmoeVai, Gabi!, comandados pelos influenciadores Neguerê e Gabi Martins. E em breve estreia o primeiro documentário da casa: a trajetória de Thiago Silva.\nEssa estratégia tangencia o modelo híbrido proposto por Wim Ponnet: parte distribuição direta, parte parcerias estratégicas, com controle total sobre dados, engajamento e monetização.\nPara o especialista, o futuro exige mais do que vender sinal: é preciso criar plataformas próprias que combinem social, comércio e inteligência artificial, e capturem o ciclo completo da atenção do fã.\n“O modelo híbrido é o único caminho para transformar transmissões passivas em experiências interativas e rentáveis. Quem se limitar a ser fornecedor de feed perderá o controle sobre o relacionamento com o público e deixará dinheiro na mesa”, alertou Ponnet.\nPela primeira vez desde 2021, o streaming superou TV aberta e a cabo em audiência nos EUA, segundo a Nielsen. Enquanto plataformas gratuitas como Tubi e Roku ganham força entre os mais velhos, a TV por assinatura segue encolhendo: perdeu 39% da audiência desde 2020.\nNa era do streaming 3.0, Kosner diz que os preços dos direitos esportivos continuarão a subir, especialmente para as principais propriedades, à medida que a concorrência se intensifica e as empresas buscam alavancar o conteúdo esportivo como uma ferramenta de retenção para seus negócios principais.\nAnova norma, por sua vez, obriga o esporte a repensar seu papel dentro de um ecossistema de mídia fragmentado, dominado por lógica algorítmica, decisões financeiras de curto prazo e paywalls em cascata.\nO Mundial de Clubes é um bom exemplo do risco desse modelo. A DAZN pagou US$ 1 bilhão. Devearrecadarentre US$ 370 e 380 milhões com sublicenciamento e publicidade, segundo Frank Dunne, do SportBusiness. Ainda assim, meio bilhão evapora.\nConformeescrevihá duas semanas aqui, a DAZN ainda opera com apenas 20 milhões de assinantes pagos, enfrenta um cenário de capital intensivo e concorrência com gigantes consolidadas.\nO futuro do esporte no streaming dependerá de resolver três contradições:\nCarlo De Marchis resume o dilema: se quem liderar forem as techs, espere pacotes plugados em ecossistemas. Se forem os donos dos direitos, o produto pode ganhar criatividade. Caso seja o mercado, tudo pode acontecer.\nEduardo Mendes é estrategista em conteúdo e novos modelos de negócio para esportes, mídia e economia criativa. Com quase uma década no jornalismo esportivo, hoje atua com inteligência estratégica e inovação. É cocriador das newsletters The Block Point e Creative Moves, e esteve à frente de projetos como o ecossistema digital do Atlético-MG e os primeiros colecionáveis digitais da T4F.",
          "A Expert XP, maior festival de investimentos do mundo, que acontece nos dias 25 e 26 de julho, em São Paulo, anuncia hoje (3) a participação deMorgan Housel, autor best-seller de “APsicologia Financeira” e referência global em finanças comportamentais e investimento de longo prazo.\nHousel traz uma abordagem única, que une economia comportamental, narrativas envolventes e reflexões sobre a natureza humana.\nSua presença no evento promete inspirar o público com uma visão profunda e acessível sobre como decisões financeiras são tomadas, explorando temas como resiliência, tempo, risco e o impacto das emoções no mundo dos investimentos.\nHousel é sócio da Collaborative Fund e duas vezes vencedor do prêmioBest in Business, concedido pelaSociety of American Business Editors and Writers.\nTambém recebeu o prêmioSidney Award, doThe New York Times, e foi nomeado uma das 50 pessoas mais influentes do mercado financeiro pelaMarketWatch.\nGaranta até 55% OFF na Expert XP com cupom InfoMoney\nAlém de “A Psicologia Financeira”, Housel é autor do livro “O mesmo de sempre: Um guia para o que não muda nunca”, publicado em 2023, que aborda os comportamentos humanos e padrões que moldam o mundo, especialmente em finanças, economia e no processo de tomada de decisão.\nEm outubro, o autor lançará uma nova obra, intitulada “The Art of Spending Money” (A Arte de Gastar Dinheiro). Seus livros já venderam mais de nove milhões de cópias e foram traduzidos para mais de 60 idiomas.\nCom expectativa de público superior a 45 mil pessoas, a Expert XP 2025 reunirá dezenas de painéis e experiências imersivas voltadas à inovação, tecnologia, mercado financeiro, ESG, inteligência artificial, cultura empreendedora e muito mais.\nOutra personalidadeinternacionalconfirmada para esta edição éArnold Schwarzenegger, ator, ex-governador da Califórnia e referência global em liderança e impacto social. A presença de Schwarzenegger reforça a proposta da Expert XP de ir além dos investimentos, promovendo discussões sobre propósito, resiliência e transformação.\nDesde sua primeira edição em 2010, o evento já trouxe ao Brasil nomes como Bill Clinton, Malala Yousafzai, Serena Williams, Tom Brady e Yuval Harari.\nEm 2024, a Expert XP reuniu mais de 45 mil pessoas, com 117 horas de conteúdo, 300 palestrantes e temáticas que abordaram investimentos, economia, política, sustentabilidade e cultura.\nLocal:São Paulo Expo – São Paulo/SP\nBenefícios Cartão XP:1% de Investback ou 1 ponto por dólar.\nIngresso para os dois dias com Cartão XP (25 e 26/07):R$ 1.200,00\nIngresso para sábado (26/07):R$ 799,00\nSite oficial:www.expertxp.com.br\nGaranta até 55% OFF na Expert XP com cupom InfoMoney",
          "O multimilionário Elon Musk, antigo aliado do presidente americano, Donald Trump, cujo governo ele abandonou recentemente anunciou neste sábado, 5, a criação de seu próprio movimento político, o Partido da América.\nDecepcionado com a lei orçamentária aprovada semana passada, que elevará a dívida nacional, Musk havia prometido nos últimos dias criar sua própria legenda. “Quando se trata de arruinar nosso país por meio do desperdício e da corrupção, vivemos em um sistema de partido único, não em uma democracia”, disse Musk.\nO presidencialismo americano é escorado no bipartidarismo – republicanos e democratas. Uma terceira força poderia “roubar” votos das duas legendas e bagunçar as eleições.",
          "O presidente Luiz Inácio Lula da Silva teceu críticas a investimentos em guerra, em detrimento de contribuições com fundos de desenvolvimento, em seu discurso de abertura da Cúpula dos Brics no Brasil.\nO presidente defendeu que é necessário “transformar completamente” o conselho para torná-lo mais legítimo, representativo, eficaz e democrático ao incluir novos membros permanentes da Ásia, África, América Latina e Caribe.\n“É mais do que uma questão de justiça. É garantir a sobrevivência da própria ONU”, afirmou, acrescentando que a organização enfrenta uma “crise de confiança”. “Se a governança internacional não reflete a nova realidade multipolar do século XXI, cabe ao BRICS contribuir para sua atualização. Podemos lançar as bases de uma governança revigorada.”\n“O temor de uma catástrofe nuclear voltou ao cotidiano”, afirmou o presidente. “No vazio dessa crise não solucionada, o terrorismo encontrou terreno fértil”, disse. Mesmo afirmando que nada justifica as atitudes do grupo terrorista Hamas, Lula ressaltou que não é possível permanecer “indiferente ao genocídio feito por Israel em Gaza”.\n“A solução desse conflito só será possível com o fim da ocupação israelense e com o estabelecimento de um estado palestino, soberano, dentro das fronteiras de 1967”, afirmou.\nSobre a guerra da Ucrânia, o presidente sustentou que ser “urgente que as partes aprofundem o diálogo direto com vistas em um cessar-fogo e paz duradoura”.\nLula mencionou outros conflitos globais, destacando que o governo brasileiro condenou os atentados em Caxemira – que ampliaram temporariamente tensões entre Índia e Paquistão. O presidente frisou que as violações de integridade territorial dificultam esforços de não-proliferação de armas atômicas.\nSem mencionar diretamente os Estados Unidos, Lula acusou ações sem amparo no direito internacional de aumentar a tendência de repetir de forma mais grave o “fracasso” das operações no Afeganistão, no Iraque, na Líbia e na Síria.\n“Suas consequências para a estabilidade do Oriente Médio e Norte da África, em especial no Sahel, foram desastrosas e até hoje são sentidas”, disse. Novo membro do Brics, o Irã foi recentemente atacado por forças americanas em uma ação para destruir seu programa nuclear e exigiu a menção de repúdio à escalada de tensões no Oriente Médio no comunicado final do bloco.\nO presidente também afirmou que o mundo passa por um “colapso sem precedentes” do sistema multilateral, e que o bloco é, hoje, o grupo que tem de trabalhar pela sua atualização.\n“A ONU completou 80 anos no último dia 26 de junho e presenciamos um colapso sem paralelo do multilateralismo”, disse Lula. “O Brics é herdeiro do Movimento Não-Alinhado. Com o multilateralismo sob ataque, nossa autonomia está novamente em xeque. Avanços arduamente conquistados, como os regimes de clima e comércio, estão ameaçados”."
         ],
         "marker": {
          "opacity": 0.5,
          "size": 5
         },
         "mode": "markers+text",
         "name": "2_de_do_que",
         "text": [
          "",
          "",
          "",
          "",
          "",
          ""
         ],
         "textfont": {
          "size": 12
         },
         "type": "scattergl",
         "x": {
          "bdata": "eeKrQF5lmkDoGbdAHI2xQEEspkBZZrJA",
          "dtype": "f4"
         },
         "y": {
          "bdata": "E/u6QAtWvkAt4LJA1/G3QB9Gx0AFBstA",
          "dtype": "f4"
         }
        },
        {
         "hoverinfo": "text",
         "hovertext": [
          "O ex-jogador do Arsenal, Thomas Partey, foi formalmente acusado de cinco crimes de estupro e uma agressão sexual, conforme informou a Polícia Metropolitana de Londres. As supostas infrações ocorreram entre 2021 e 2022 e envolvem três mulheres diferentes. As informações são daBBC.\nPartey, de 32 anos, teve seu contrato com o clube encerrado recentemente, após quase cinco anos vestindo a camisa do time londrino.\nA investigação policial teve início em fevereiro de 2022, quando a primeira denúncia de estupro foi registrada. Desde então, as autoridades vêm trabalhando para apurar os fatos e oferecer suporte às vítimas.\nO detetive responsável pelo caso reforçou o pedido para que outras possíveis vítimas ou pessoas com informações relevantes entrem em contato com a polícia.\nPartey deve comparecer ao Tribunal de Magistrados de Westminster no dia 5 de agosto para responder às acusações.\nDurante sua carreira no Arsenal, o meio-campista participou de 130 jogos na Premier League, marcou nove gols e foi peça importante na campanha que levou o clube ao segundo lugar na última temporada.\nAlém de sua trajetória no futebol inglês, Partey também é conhecido por suas atuações pela seleção nacional de Gana.\nO Arsenal ainda não se pronunciou oficialmente sobre as acusações contra o ex-jogador.",
          "A Polícia Federal apreendeu R$ 1,3 milhão em cédulas durante uma operação contra o tráfico internacional de drogas, nesta quinta-feira, 3, em Foz do Iguaçu, no oeste do Paraná. A cidade brasileira faz fronteira com Ciudad del Este, no Paraguai. Cinco pessoas foram presas. Veículos de luxo e motos aquáticas foram apreendidos. A suspeita é de que o dinheiro e os bens sejam provenientes do tráfico.\nOs suspeitos não tiveram os nomes divulgados, o que impossibilitou o contato com suas defesas.\nO dinheiro, quase todo em cédulas de R$ 100, estava escondido em três caixas de sapato no closet de uma mansão de Foz do Iguaçu. Além de cinco mandados de prisão preventiva, a PF cumpriu oito mandados de busca e apreensão, todos no município paranaense da fronteira.\nNos endereços, foram apreendidos duas caminhonetes, três carros de luxo, três motos aquáticas, um quadriciclo e celulares, além de documentos. Os investigados são suspeitos de adquirir maconha e cocaína no Paraguai, armazenar e distribuir a droga em território brasileiro.\nA investigação teve início em outubro de 2024, após a identificação de movimentações suspeitas em um galpão no bairro da Lagoa, em Foz do Iguaçu, utilizado como entreposto para armazenamento e distribuição de entorpecentes.\nAs drogas eram transportadas para vários estados da federação em caminhões com compartimentos ocultos, como fundos falsos e pneus. Os traficantes incluíam sacos de cal hidratada na carga para mascarar o odor da droga.\nAo longo das investigações, segundo a PF, foram realizadas cinco apreensões de drogas, totalizando 6.288 kg de maconha e 108 kg de cocaína, além da prisão em flagrante de quatro pessoas e da apreensão de dez veículos.\nEm uma das ocasiões, o grupo utilizou um caminhão dos Correios para dissimular o transporte ilícito. Na época, os Correios informaram que o veículo de uma terceirizada foi interceptado e que a estatal tomou todas as medidas com a prestadora de serviços.\nA quadrilha fazia o uso de motoristas batedores que percorriam o trajeto à frente dos veículos com drogas, repassando informações em tempo real sobre a presença de barreiras policiais. O artifício possibilitava que o motorista parasse ou pegasse um desvio para passar com a droga.\nO dinheiro apreendido ficará retido até que o caso seja julgado pela Justiça. Se for comprovada a origem ilícita, tanto os valores em espécie quando os veículos e outros bens apreendidos serão incorporados pelo poder público e terão destinação de interesse público, podendo ser destinado inclusive a projetos sociais.",
          "Um homem de 35 anos foi morto a tiros dentro de um Porsche na manhã deste sábado, 5, em Guarulhos (SP), na região metropolitana de São Paulo. De acordo com a Polícia Militar, o crime aconteceu por volta do meio-dia na Rua Felizarda Firmino de Andrade.\nCrime segue sendo investigado pela polícia\nSegundo testemunhas, dois suspeitos em motos passaram pela via e atiraram contra o motorista. A vítima portava um coldre vazio preso à cintura. Um celular, um relógio e alguns anéis foram apreendidos no local.\nO Samu foi chamado, mas ao chegar ao local constatou o óbito.\nO caso foi registrado como homicídio no 1° Distrito Policial de Guarulhos, que solicitou apoio ao Setor de Homicídios e Proteção à Pessoa (SHPP) do município para auxiliar nas investigações.\nA identidade da vítima ainda não foi confirmada pela Polícia, mas, segundo o G1, que falou com a família, trata-se de Rodrigo Júnior da Silva Ponce. Ele tinha 35 anos e trabalhava com transporte e terraplanagem e tinha CAC (certificado de colecionador, atirador desportivo e caçador).\nNa manhã deste sábado, Rodrigo compartilhou um vídeo nos stories do Instagram mostrando que estava saindo com seu carro novo. O vídeo foi postado há 8 horas.\nAté o momento, ninguém foi preso.\nEm nota, a Secretaria de Segurança Pública (SSP) de São Paulo afirmou que imagens de câmeras de segurança estão sendo analisadas para auxiliar na identificação dos suspeitos.\nDados divulgados pela Secretaria da Segurança Pública de São Paulo apontam que de janeiro a maio deste ano foram registrados 1.029 homicídios dolosos no estado, 12 casos a menos que no mesmo período do ano passado.\nOs latrocínios também caíram. Até maio, foram contabilizados 58 roubos seguidos de morte, uma queda em relação aos 79 casos registrados em 2024. Em contraste, os furtos estão em alta e ultrapassam os 45 mil registros mensalmente.",
          "Restam somente quatro equipes no Mundial de Clubes e, em teoria, os três jogos restantes – semifinais e final – deveriam atrair maior atenção do público. Mas não é o que acontece nos Estados Unidos, que no próximo ano também será uma das sedes da Copa do Mundo, ao lado de Canadá e México.\nA fim de evitar um fiasco na semifinal entre Fluminense e Chelsea, agendada para as 16h (horário de Brasília) de terça-feira, no Metlife Stadium, em East Rutherford, Nova Jersey, a Fifa reduziu drasticamente o valor das entradas a menos de 72 horas do confronto, segundo oThe Athletic, suplemento esportivo doThe New York Times.\nA Ticket Master, parceira da Fifa na comercialização dos ingressos, adotou valores dinâmico durante a competição, isto é, se a procura é baixa, o valor cai, se a demanda cresce, o preço sobe. O método também deverá ser utilizado na Copa do Mundo de 2026.\nPara evitar mostrar arquibancadas vazias nas transmissões, a Fifa já havia reduzido o preço das entradas em jogos anteriores, em decorrência da baixa procura. Os confrontos entre Fluminense e Al-Hilal, em Orlando, e Chelsea x Palmeiras, na Filadélfia, chegaram a custar US$ 11, ou seja, R$ 59, menos do que o clube alviverde cobra em uma partida do Campeonato Brasileiro no Allianz Parque.\nO Real Madrid tem sido uma das exceções no Mundial e atrai mais de 60 mil expectadores, em média, por jogo – 76.611 pessoas acompanharam no estádio a vitória sobre o Borussia Dortmund, em Nova Jersey, nas quartas de final. Assim, o preço da outra semifinal, entre o clube espanhol e o campeão europeu PSG, começava em US$ 199,90 – R$ 1.081 – no intervalo do jogo das quartas de final, embora na quarta-feira um assento no mesmo espaço fosse comercializado por US$ 978 (R$ 5.280).",
          "As praias de Ipanema e Copacabana, no Rio de Janeiro, podem estar em risco e inundações sazonais podem se tornar permanentes, de acordo com estudo realizado por instituto da Universidade Federal do Rio de Janeiro (UFRJ), antecipado e divulgado pelo jornalO Globoe peloG1.\nAs simulações indicam que o mar pode avançar mais de 100 metros sobre o Rio de Janeiro até o fim do século, segundo pesquisadores da Coppe, instituto de pós-graduação e pesquisa da UFRJ.\nO efeito não ficaria restrito à Copacabana, mas também atingiria praias de Ipanema, Leblon, Leme e Botafogo. A faixa de areia poderia diminuir até 80 metros em situações normais. Em casos de eventos como maré alta e ressaca, a redução poderia ser mais 60 metros.\nPara banhistas, a principal preocupação desde já deve ser o comportamento das correntes, que, segundo os pesquisadores, já representa risco. A atenção deve ser redobrada em locais com bandeira vermelha, sinalização que indica perigo para banhistas. Além disso, há possibilidade de que eventos extremos se tornem cada vez mais comuns."
         ],
         "marker": {
          "opacity": 0.5,
          "size": 5
         },
         "mode": "markers+text",
         "name": "3_de_em_no",
         "text": [
          "",
          "",
          "",
          "",
          ""
         ],
         "textfont": {
          "size": 12
         },
         "type": "scattergl",
         "x": {
          "bdata": "I2iiQAc7kUAYuI5AyEGlQFOYlUA=",
          "dtype": "f4"
         },
         "y": {
          "bdata": "rzGiQCbCqkBDyqFApguQQEgElUA=",
          "dtype": "f4"
         }
        },
        {
         "hoverinfo": "text",
         "hovertext": [
          "Com a decisão de se desfazer da operação internacional da Avon já definida, a Natura (NATU3) está esperando agora uma “proposta interessante” para avançar no processo. Há urgência, no entanto, para vender o braço da operação responsável pela Avon fora da América Latina.\nA Naturajá havia anunciado que busca saídas para a operação entre uma venda e a separação do negócio. “A hora que houver uma proposta interessante, pode andar”, disse a vice-presidente de operações da Natura, Josie Romero, aoInfoMoney.\nEm seu Investor Day na última segunda-feira (30), a empresa anunciou ter dedicado um time para executar o processo. Essa pequena equipe interna atua em conjunto com um grupo de consultores financeiros para avançar no tema.\nSegundo Romero, o que existe agora é uma decisão estratégica de fazer a separação. “A partir de agora, a qualquer momento pode acontecer. Existe urgência, não há a menor dúvida disso. Quando se toma a decisão e divulga ela para o mercado, você quer que ela ocorra”, aponta.\nNesta semana, a Natura concretizoua incorporação da Natura&Co pela Natura Cosméticose passou a operar pelo código de negociaçãoNATU3na B3. A empresa conclui neste ano o que chama de Onda 2, de integração entre as operações da Avon e da Natura, o que inclui mercados importantes da América Latina como México e Argentina.",
          "A Inpasa, maior produtora de etanol de milho do Brasil, informou nesta sexta-feira que, por meio de um fundo de investimento em ações ligado à família fundadora, fez um investimento na Vibra (VBBR3) com objetivo “estritamente financeiro”.\n“Trata-se de um investimento financeiro realizado por meio de um Fundo de Investimento em Ações (FIA) ligado à família, com objetivo estritamente financeiro e sem qualquer relação com a operação da empresa”, afirmou a Inpasa nesta sexta-feira.\n“Esse fundo possui uma carteira diversificada, com participação em várias companhias listadas, entre elas, a Vibra, sem que isso represente qualquer vínculo societário, estratégico ou de parceria com a Inpasa.”\nBolsa brasileira operou sem referência dos EUA, que não abriu hoje por feriado nacional\nA Inpasa não especificou na nota a dimensão do investimento.\nA nota foi divulgada após o Brazil Journal noticiar na véspera que a empresa está montando uma posição na Vibra e já possui fatia de cerca de 3% na companhia, líder nacional na distribuição de combustíveis e lubrificantes, citando fontes.\nProcurada, a Vibra não respondeu a pedidos de comentário da Reuters.\nAs ações da Vibra subiram 2,68% nesta sexta-feira, a R$ 22,59 cada, liderando as altas percentuais do Ibovespa, que avançou 0,24%.\nAntes do comunicado da Inpasa, o Bradesco BBI apontou que ambas as empresas poderiam obter algumas sinergias em termos de competitividade para o fornecimento de etanol. “Observamos que a poison pill (pílula de veneno) da Vibra é acionada em 25% de participação”, ressaltou.\nEditora de mercados do InfoMoney, cobre temas que vão desde o mercado de ações ao ambiente econômico nacional e internacional, além de ficar bem de olho nos desdobramentos políticos e em seus efeitos para os investidores.",
          "SÃO PAULO (Reuters) – O Nubank (BDR:ROXO34) informou nesta sexta-feira que contratou o ex-diretor de regulação do Banco Central Otávio Ribeiro Damaso como consultor para assuntos regulatórios e de gestão de riscos da instituição, poucos diasapós oficializar a entrada de Roberto Campos Neto, ex-presidente do BC, como seu vice-chairman.\nBolsa brasileira opera ser referência dos EUA, que não opera hoje por feriado nacional\nO Nubank anunciou em maio que convidara Campos Neto para assumir os cargos de vice-chairman, chefe global de políticas públicas e para se tornar membro não independente do conselho de administração. Sua entrada foi oficializada em 1º de julho, após encerrada a quarentena de seis meses exigida para que ex-diretores do BC possam exercer atividades profissionais na iniciativa privada.\nCampos Neto reporta-se diretamente a David Vélez, fundador e presidente-executivo do Nubank."
         ],
         "marker": {
          "opacity": 0.5,
          "size": 5
         },
         "mode": "markers+text",
         "name": "4_de_vibra_da",
         "text": [
          "",
          "",
          ""
         ],
         "textfont": {
          "size": 12
         },
         "type": "scattergl",
         "x": {
          "bdata": "tPBOQIUAYkCuMFtA",
          "dtype": "f4"
         },
         "y": {
          "bdata": "E82IQGUFgEDt4JBA",
          "dtype": "f4"
         }
        },
        {
         "hoverinfo": "text",
         "hovertext": [
          "O fundo imobiliário HSI Renda Urbana (HSRE11) concluiu nesta semana a venda de um imóvel desocupado localizado em São Luís (MA), zerando a vacância da carteira. A transação foi realizada por R$ 12 milhões.\nO valor de R$ 2,4 milhões será pago à vista e os R$ 9,6 milhões restantes parcelados em 24 vezes mensais e fixas de R$ 400 mil, sem atualização monetária.\nO imóvel possuía uma área bruta locável (ABL) de 4.875 m², o equivalente a 4,2% da ABL total do fundo, e encontrava-se desocupado.  Com a conclusão da venda, oHSRE11passou a operar com 100% de ocupação.\nNa segunda-feira (30/06), o HSI Renda Imobiliária (HSRE11) anunciou o maior dividendo desde sua criação. Os cotistas do fundo receberão R$ 1,72 por cota no próximo dia 14 de julho, com base nos resultados apurados em junho.\nO valor representa um salto de 164% em relação à distribuição anterior, que foi de R$ 0,65 por cota.\nO HSI Renda Urbana contava, até o período mais recente, com um saldo de lucros acumulados a distribuir de R$ 1,22 por cota, proveniente de operações de venda anteriores.\nQuer saber quais fundos se destacaram com os maiores dividendos deste mês?Confira a matéria completa como ranking das maiores altas e veja quais outros FIIs entregaram os melhores retornos aos cotistas.",
          "Com a Selic nas alturas, muitos investidores podem se perguntar onde o dinheiro rende mais com segurança. As aplicações de renda fixa normalmente aparecem como preferidas por causa da previsibilidade e do retorno sem grandes sustos, mas qual opção entrega mais retorno?\nVeja simulação sobre quantoR$ 100 milrenderiam em CDB, LCI e LC, Tesouro Direto e poupança em um e dois anos. Mesmo com características semelhantes, essas opções têm diferenças que impactam diretamente a rentabilidade final – especialmente em aportes mais robustos.\nA poupança ficou em último lugar no ranking de rentabilidade. Um investimento de R$ 100 mil renderiaR$ 108.429,55 líquidosapós um ano eR$ 117.569,68em dois anos. Como vantagem, esse tipo de aplicação é isento de Imposto de Renda.\nAtualmente, a caderneta paga 0,5% ao mês (ou 6,17% ao ano), mais a variação da Taxa Referencial (TR), que gira em torno de 0,1758% ao ano. Esse modelo de cálculo só muda se a taxa Selic cair abaixo de 8,5% ao ano — nesse cenário, o rendimento passa a ser de 70% da Selic.\nO Tesouro IPCA+ é um título público que garante rendimento acima da inflação. Em outras palavras, ele protege o poder de compra do investidor ao longo do tempo. Considerando o mesmo valor aplicado, o retorno seria deR$ 109.001,14líquidos em um ano eR$ 119.573,50 em dois anos – já com desconto do Imposto de Renda.\nLembrando que amedida provisória (MP) que muda a tributação dos investimentos em renda fixaaltera a regra e estipula uma alíquota única de 17,5% a partir de 2026. O Congresso derrubou a medida, mas o caso foijudicializado. Portanto, pode ser que tenha validade ainda.\nOs CDBs estão entre os produtos de renda fixa mais populares do país. Eles também seguem a tabela regressiva do IR, como o Tesouro Direto. Aplicando R$ 100 mil em um CDB que paga 100% do CDI, o valor chegaria aR$ 112.292,50em um ano eR$ 127.217,09em dois – o maior retorno entre os investimentos analisados.\nAs LCI (Letras de Crédito Imobiliário) e LCAs (Letras do Crédito do Agronegócio) são, entre os ativos analisados, os que oferecem maior rentabilidade líquida no primeiro ano:R$ 112.665,00.Em dois anos, o retorno seria deR$ 126.934,02, um pouco abaixo do CDB.\nA simulação considera uma LCI ou LCA com rendimento de 85% do CDI – o equivalente a um CDB de 100% do CDI, mas com a vantagem da isenção de IR. A MP que propõe nova tributação para ativos de renda fixa, no entanto, prevê uma alíquota de 5% para esses títulos, com validade a partir de 2026, caso seja aprovada.\nA simulação parte do cenário de uma Selic constante em 15% ao ano – o que, segundo projeções do mercado, dificilmente se manterá no médio prazo.\nAntes de escolher onde aplicar, vale observar alguns pontos importantes:"
         ],
         "marker": {
          "opacity": 0.5,
          "size": 5
         },
         "mode": "markers+text",
         "name": "5_de_renda_um",
         "text": [
          "",
          ""
         ],
         "textfont": {
          "size": 12
         },
         "type": "scattergl",
         "x": {
          "bdata": "k9SAQASUkUA=",
          "dtype": "f4"
         },
         "y": {
          "bdata": "mWlZQGheUUA=",
          "dtype": "f4"
         }
        },
        {
         "hoverinfo": "text",
         "hovertext": [
          "Desde que começou a ser implementada de forma gradual em 2023, a Resolução 175 da CVM (Comissão de Valores Mobiliários) vem promovendo transformações significativas na indústria de fundos no Brasil. Mas com o encerramento do prazo de adaptação nesta segunda-feira, dia 30 de junho, inicia-se definitivamente um novo capítulo para o setor — com efeitos diretos e positivos para milhões de brasileiros que já investem ou desejam investir nesses produtos. Atualmente, mais de 20 mil fundos já operam sob este novo conjunto de regras, que traz mais segurança, modernidade e alinhamento com as necessidades do investidor.\nMas o que muda na prática? Um dos avanços mais relevantes é uma maior transparência em relação às taxas cobradas por esses produtos, ajudando o investidor a tomar decisões mais conscientes. A partir de julho, todos os fundos estão obrigados a divulgar, de forma clara, as remunerações pagas ao gestor, ao administrador e aos distribuidores. Com essas informações em mãos, o investidor pode comparar as taxas de diferentes produtos e entender melhor os incentivos de cada prestador de serviço do fundo.\nOutro mérito da nova regra foi a ampliação das possibilidades de alocação dos fundos, oferecendo aos gestores maior flexibilidade nos limites e tipos de investimento. Um dos reflexos mais visíveis dessa mudança é o avanço da internacionalização das carteiras. A norma permite que fundos destinados tanto ao público em geral quanto a investidores qualificados (aqueles que têm mais de R$ 1 milhão aplicados) possam investir até 100% de seus ativos no exterior, desde que cumpram determinados requisitos. Diante dessa liberdade, pelo menos 60% dos fundos passaram a prever a possibilidade de alocar recursos fora do Brasil. Para o investidor, essa abertura representa uma oportunidade de diversificação, reduzindo a exposição a riscos locais e ampliando o acesso a geografias e ativos que podem oferecer retornos mais atrativos ou maior resiliência em diferentes cenários econômicos.\nE tem mais: acompanhando a disseminação dos ativos digitais e dos investimentos sustentáveis, a Resolução 175 autorizou os fundos a alocarem até 10% do seu patrimônio diretamente em criptoativos e passou a reconhecer créditos de carbono como ativos financeiros que podem compor a carteira de fundos, desde que atendam a critérios de liquidez, precificação e custódia.\nAlém disso, a norma passou a permitir que os FIDCs, antes disponíveis apenas para os investidores qualificados, pudessem ser oferecidos também para qualquer investidor, independentemente do tamanho do seu bolso. Essa democratização amplia o acesso a uma classe de ativos baseada em recebíveis de empresas — como duplicatas e faturas — que pode oferecer retornos diferenciados.\nOutra novidade introduzida pela Resolução 175 foi a possibilidade de os fundos adotarem a responsabilidade limitada para os cotistas. Mais de 70% dos fundos optaram por este modelo, que representa uma importante proteção ao investidor. Na prática, esse regime prevê que se uma pessoa aplicou R$ 100 em um fundo, por exemplo, este é o máximo que ela poderá perder. Ou seja, mesmo em cenários extremos — como prejuízos que superem o patrimônio do fundo — o cotista não será obrigado a realizar aportes adicionais para cobrir perdas.\nAgora que o período de adaptação à Resolução 175 terminou, a expectativa é de que mais gestores comecem a usar um recurso inovador: as chamadas classes e subclasses dentro dos fundos.\nPense no fundo como um prédio. Cada classe seria como um andar diferente, com seus próprios investimentos, como ações, títulos de renda fixa, etc. Já as subclasses seriam os apartamentos dentro de cada andar, feitos para diferentes tipos de investidores. Cada apartamento pode ter regras diferentes, como prazo para resgatar o dinheiro ou taxas de administração, por exemplo. No fim das contas, essa estrutura deve tornar os fundos mais eficientes e otimizar seus custos, o que também tende a beneficiar o investidor.\nTodas essas mudanças deixam claro a importância da Resolução 175. Ela é mais do que uma nova regra — representa um salto de qualidade rumo a uma indústria de fundos mais moderna, transparente e alinhada com o investidor brasileiro, que, finalmente, começa a ocupar o centro do palco.\nDiretor-executivo da Associação Brasileira das Entidades dos Mercados Financeiro e de Capitais (Anbima) desde 2012.",
          "Acumular R$ 50 mil não é uma tarefa fácil para a maioria dos brasileiros. Para cumprir esse objetivo, é preciso disciplina, controle sobre os gastos e, claro, encontrar o melhor instrumento para encurtar o caminho até essa conquista. Com a Selic a 15% ao ano, os ativos de renda fixa se apresentam como opções rentáveis e seguras para ajudar quem poupa.\nOs juros altos fazem muitos investidores enxergarem uma oportunidade de acumular patrimônio em prazos curtos, lembra Julio Caires, contador e advogado especialista em direito empresarial. Porém, “entender o impacto da tributação sobre o rendimento final é mais importante do que o valor a ser investido mensalmente ou a rentabilidade”, diz o especialista.\nPensando nisso, Caires calculou, a pedido doInfoMoney, os aportes mensais necessários para acumularR$ 50 milem dois anos investindo na poupança , Tesouro Selic, CDBs (Certificados de Depósitos Bancários) e LCIs e LCAs (Letras de Crédito Imobiliário e do Agronegócio), cinco dos instrumentos mais conhecidos pelos brasileiros.\nA diferença entre os ativos é grande e mostra como um planejamento mal conduzido pode atrapalhar os planos de qualquer um.Confira:\nPara conseguir os R$ 50 mil em dois anos aplicando mensalmente na caderneta, são necessários aportes mensais deR$ 1.882, considerando o rendimento atual de aproximadamente 6,17% ao ano, calcula Caires. Ele pontua que “apesar da isenção (de Imposto de Renda), o rendimento é significativamente inferior às demais opções”.\nAo mudar da poupança para o Tesouro Selic, o investidor pode diminuir em R$ 92 os aportes mensais na comparação com a poupança para chegar aos mesmos R$ 50 mil ao fim de 2 anos. São necessáriosR$ 1.790por mês, considerando uma rentabilidade líquida de 12,33% ao ano após o Imposto de Renda. Caires projeta aportes mensais similares para osCDBsque pagam 100% do CDI.\nIsentas de Imposto de Renda, as letras de crédito podem oferecer remuneração nominal menor que os CDBs e, ainda assim, gerar lucro maior. É o caso dos títulos que pagam 90% do CDI, que atualmente pagam 13,5% ao ano, contra 12,33% dos CDBs com remuneração de 100% do CDI. Ao aplicarR$ 1.728por mês nesses papéis ao longo de 24 meses, o investidor consegue acumular R$ 50 mil.\nApesar do esforço para encontrar a melhor remuneração no cenário atual, o investidor precisa considerar que dificilmente a taxa Selic ficará estacionada nos 15% ao ano por dois anos. Segundo oBoletim Focus, que compila as projeções do mercado financeiro para os juros, inflação, dólar e atividade econômica, a Selic deve terminar 2026 em 12,50% ao ano.\nEsse tipo de conta, no entanto, ajuda o investidor a escolher o melhor instrumento para começar a poupar e entender melhor a relação entre risco e retorno dos papéis. Para Julio Caires, “saber quanto aplicar mensalmente é apenas o primeiro passo” e “o planejamento financeiro precisa incluir o componente fiscal como elemento central”, já que a rentabilidade final está diretamente ligada à tributação dos ativos ao longo do tempo."
         ],
         "marker": {
          "opacity": 0.5,
          "size": 5
         },
         "mode": "markers+text",
         "name": "6_fundos_investidor_de",
         "text": [
          "",
          ""
         ],
         "textfont": {
          "size": 12
         },
         "type": "scattergl",
         "x": {
          "bdata": "goGrQMnRlkA=",
          "dtype": "f4"
         },
         "y": {
          "bdata": "nql+QLWTX0A=",
          "dtype": "f4"
         }
        }
       ],
       "layout": {
        "annotations": [
         {
          "showarrow": false,
          "text": "D1",
          "x": 2.7100000381469727,
          "y": 4.724997043609619,
          "yshift": 10
         },
         {
          "showarrow": false,
          "text": "D2",
          "x": 5.220104694366455,
          "xshift": 10,
          "y": 7.296157360076904
         }
        ],
        "font": {
         "size": 16
        },
        "height": 750,
        "shapes": [
         {
          "line": {
           "color": "#CFD8DC",
           "width": 2
          },
          "type": "line",
          "x0": 5.220104694366455,
          "x1": 5.220104694366455,
          "y0": 2.153836488723755,
          "y1": 7.296157360076904
         },
         {
          "line": {
           "color": "#9E9E9E",
           "width": 2
          },
          "type": "line",
          "x0": 2.7100000381469727,
          "x1": 7.7302093505859375,
          "y0": 4.724997043609619,
          "y1": 4.724997043609619
         }
        ],
        "template": {
         "data": {
          "bar": [
           {
            "error_x": {
             "color": "rgb(36,36,36)"
            },
            "error_y": {
             "color": "rgb(36,36,36)"
            },
            "marker": {
             "line": {
              "color": "white",
              "width": 0.5
             },
             "pattern": {
              "fillmode": "overlay",
              "size": 10,
              "solidity": 0.2
             }
            },
            "type": "bar"
           }
          ],
          "barpolar": [
           {
            "marker": {
             "line": {
              "color": "white",
              "width": 0.5
             },
             "pattern": {
              "fillmode": "overlay",
              "size": 10,
              "solidity": 0.2
             }
            },
            "type": "barpolar"
           }
          ],
          "carpet": [
           {
            "aaxis": {
             "endlinecolor": "rgb(36,36,36)",
             "gridcolor": "white",
             "linecolor": "white",
             "minorgridcolor": "white",
             "startlinecolor": "rgb(36,36,36)"
            },
            "baxis": {
             "endlinecolor": "rgb(36,36,36)",
             "gridcolor": "white",
             "linecolor": "white",
             "minorgridcolor": "white",
             "startlinecolor": "rgb(36,36,36)"
            },
            "type": "carpet"
           }
          ],
          "choropleth": [
           {
            "colorbar": {
             "outlinewidth": 1,
             "tickcolor": "rgb(36,36,36)",
             "ticks": "outside"
            },
            "type": "choropleth"
           }
          ],
          "contour": [
           {
            "colorbar": {
             "outlinewidth": 1,
             "tickcolor": "rgb(36,36,36)",
             "ticks": "outside"
            },
            "colorscale": [
             [
              0,
              "#440154"
             ],
             [
              0.1111111111111111,
              "#482878"
             ],
             [
              0.2222222222222222,
              "#3e4989"
             ],
             [
              0.3333333333333333,
              "#31688e"
             ],
             [
              0.4444444444444444,
              "#26828e"
             ],
             [
              0.5555555555555556,
              "#1f9e89"
             ],
             [
              0.6666666666666666,
              "#35b779"
             ],
             [
              0.7777777777777778,
              "#6ece58"
             ],
             [
              0.8888888888888888,
              "#b5de2b"
             ],
             [
              1,
              "#fde725"
             ]
            ],
            "type": "contour"
           }
          ],
          "contourcarpet": [
           {
            "colorbar": {
             "outlinewidth": 1,
             "tickcolor": "rgb(36,36,36)",
             "ticks": "outside"
            },
            "type": "contourcarpet"
           }
          ],
          "heatmap": [
           {
            "colorbar": {
             "outlinewidth": 1,
             "tickcolor": "rgb(36,36,36)",
             "ticks": "outside"
            },
            "colorscale": [
             [
              0,
              "#440154"
             ],
             [
              0.1111111111111111,
              "#482878"
             ],
             [
              0.2222222222222222,
              "#3e4989"
             ],
             [
              0.3333333333333333,
              "#31688e"
             ],
             [
              0.4444444444444444,
              "#26828e"
             ],
             [
              0.5555555555555556,
              "#1f9e89"
             ],
             [
              0.6666666666666666,
              "#35b779"
             ],
             [
              0.7777777777777778,
              "#6ece58"
             ],
             [
              0.8888888888888888,
              "#b5de2b"
             ],
             [
              1,
              "#fde725"
             ]
            ],
            "type": "heatmap"
           }
          ],
          "histogram": [
           {
            "marker": {
             "line": {
              "color": "white",
              "width": 0.6
             }
            },
            "type": "histogram"
           }
          ],
          "histogram2d": [
           {
            "colorbar": {
             "outlinewidth": 1,
             "tickcolor": "rgb(36,36,36)",
             "ticks": "outside"
            },
            "colorscale": [
             [
              0,
              "#440154"
             ],
             [
              0.1111111111111111,
              "#482878"
             ],
             [
              0.2222222222222222,
              "#3e4989"
             ],
             [
              0.3333333333333333,
              "#31688e"
             ],
             [
              0.4444444444444444,
              "#26828e"
             ],
             [
              0.5555555555555556,
              "#1f9e89"
             ],
             [
              0.6666666666666666,
              "#35b779"
             ],
             [
              0.7777777777777778,
              "#6ece58"
             ],
             [
              0.8888888888888888,
              "#b5de2b"
             ],
             [
              1,
              "#fde725"
             ]
            ],
            "type": "histogram2d"
           }
          ],
          "histogram2dcontour": [
           {
            "colorbar": {
             "outlinewidth": 1,
             "tickcolor": "rgb(36,36,36)",
             "ticks": "outside"
            },
            "colorscale": [
             [
              0,
              "#440154"
             ],
             [
              0.1111111111111111,
              "#482878"
             ],
             [
              0.2222222222222222,
              "#3e4989"
             ],
             [
              0.3333333333333333,
              "#31688e"
             ],
             [
              0.4444444444444444,
              "#26828e"
             ],
             [
              0.5555555555555556,
              "#1f9e89"
             ],
             [
              0.6666666666666666,
              "#35b779"
             ],
             [
              0.7777777777777778,
              "#6ece58"
             ],
             [
              0.8888888888888888,
              "#b5de2b"
             ],
             [
              1,
              "#fde725"
             ]
            ],
            "type": "histogram2dcontour"
           }
          ],
          "mesh3d": [
           {
            "colorbar": {
             "outlinewidth": 1,
             "tickcolor": "rgb(36,36,36)",
             "ticks": "outside"
            },
            "type": "mesh3d"
           }
          ],
          "parcoords": [
           {
            "line": {
             "colorbar": {
              "outlinewidth": 1,
              "tickcolor": "rgb(36,36,36)",
              "ticks": "outside"
             }
            },
            "type": "parcoords"
           }
          ],
          "pie": [
           {
            "automargin": true,
            "type": "pie"
           }
          ],
          "scatter": [
           {
            "fillpattern": {
             "fillmode": "overlay",
             "size": 10,
             "solidity": 0.2
            },
            "type": "scatter"
           }
          ],
          "scatter3d": [
           {
            "line": {
             "colorbar": {
              "outlinewidth": 1,
              "tickcolor": "rgb(36,36,36)",
              "ticks": "outside"
             }
            },
            "marker": {
             "colorbar": {
              "outlinewidth": 1,
              "tickcolor": "rgb(36,36,36)",
              "ticks": "outside"
             }
            },
            "type": "scatter3d"
           }
          ],
          "scattercarpet": [
           {
            "marker": {
             "colorbar": {
              "outlinewidth": 1,
              "tickcolor": "rgb(36,36,36)",
              "ticks": "outside"
             }
            },
            "type": "scattercarpet"
           }
          ],
          "scattergeo": [
           {
            "marker": {
             "colorbar": {
              "outlinewidth": 1,
              "tickcolor": "rgb(36,36,36)",
              "ticks": "outside"
             }
            },
            "type": "scattergeo"
           }
          ],
          "scattergl": [
           {
            "marker": {
             "colorbar": {
              "outlinewidth": 1,
              "tickcolor": "rgb(36,36,36)",
              "ticks": "outside"
             }
            },
            "type": "scattergl"
           }
          ],
          "scattermap": [
           {
            "marker": {
             "colorbar": {
              "outlinewidth": 1,
              "tickcolor": "rgb(36,36,36)",
              "ticks": "outside"
             }
            },
            "type": "scattermap"
           }
          ],
          "scattermapbox": [
           {
            "marker": {
             "colorbar": {
              "outlinewidth": 1,
              "tickcolor": "rgb(36,36,36)",
              "ticks": "outside"
             }
            },
            "type": "scattermapbox"
           }
          ],
          "scatterpolar": [
           {
            "marker": {
             "colorbar": {
              "outlinewidth": 1,
              "tickcolor": "rgb(36,36,36)",
              "ticks": "outside"
             }
            },
            "type": "scatterpolar"
           }
          ],
          "scatterpolargl": [
           {
            "marker": {
             "colorbar": {
              "outlinewidth": 1,
              "tickcolor": "rgb(36,36,36)",
              "ticks": "outside"
             }
            },
            "type": "scatterpolargl"
           }
          ],
          "scatterternary": [
           {
            "marker": {
             "colorbar": {
              "outlinewidth": 1,
              "tickcolor": "rgb(36,36,36)",
              "ticks": "outside"
             }
            },
            "type": "scatterternary"
           }
          ],
          "surface": [
           {
            "colorbar": {
             "outlinewidth": 1,
             "tickcolor": "rgb(36,36,36)",
             "ticks": "outside"
            },
            "colorscale": [
             [
              0,
              "#440154"
             ],
             [
              0.1111111111111111,
              "#482878"
             ],
             [
              0.2222222222222222,
              "#3e4989"
             ],
             [
              0.3333333333333333,
              "#31688e"
             ],
             [
              0.4444444444444444,
              "#26828e"
             ],
             [
              0.5555555555555556,
              "#1f9e89"
             ],
             [
              0.6666666666666666,
              "#35b779"
             ],
             [
              0.7777777777777778,
              "#6ece58"
             ],
             [
              0.8888888888888888,
              "#b5de2b"
             ],
             [
              1,
              "#fde725"
             ]
            ],
            "type": "surface"
           }
          ],
          "table": [
           {
            "cells": {
             "fill": {
              "color": "rgb(237,237,237)"
             },
             "line": {
              "color": "white"
             }
            },
            "header": {
             "fill": {
              "color": "rgb(217,217,217)"
             },
             "line": {
              "color": "white"
             }
            },
            "type": "table"
           }
          ]
         },
         "layout": {
          "annotationdefaults": {
           "arrowhead": 0,
           "arrowwidth": 1
          },
          "autotypenumbers": "strict",
          "coloraxis": {
           "colorbar": {
            "outlinewidth": 1,
            "tickcolor": "rgb(36,36,36)",
            "ticks": "outside"
           }
          },
          "colorscale": {
           "diverging": [
            [
             0,
             "rgb(103,0,31)"
            ],
            [
             0.1,
             "rgb(178,24,43)"
            ],
            [
             0.2,
             "rgb(214,96,77)"
            ],
            [
             0.3,
             "rgb(244,165,130)"
            ],
            [
             0.4,
             "rgb(253,219,199)"
            ],
            [
             0.5,
             "rgb(247,247,247)"
            ],
            [
             0.6,
             "rgb(209,229,240)"
            ],
            [
             0.7,
             "rgb(146,197,222)"
            ],
            [
             0.8,
             "rgb(67,147,195)"
            ],
            [
             0.9,
             "rgb(33,102,172)"
            ],
            [
             1,
             "rgb(5,48,97)"
            ]
           ],
           "sequential": [
            [
             0,
             "#440154"
            ],
            [
             0.1111111111111111,
             "#482878"
            ],
            [
             0.2222222222222222,
             "#3e4989"
            ],
            [
             0.3333333333333333,
             "#31688e"
            ],
            [
             0.4444444444444444,
             "#26828e"
            ],
            [
             0.5555555555555556,
             "#1f9e89"
            ],
            [
             0.6666666666666666,
             "#35b779"
            ],
            [
             0.7777777777777778,
             "#6ece58"
            ],
            [
             0.8888888888888888,
             "#b5de2b"
            ],
            [
             1,
             "#fde725"
            ]
           ],
           "sequentialminus": [
            [
             0,
             "#440154"
            ],
            [
             0.1111111111111111,
             "#482878"
            ],
            [
             0.2222222222222222,
             "#3e4989"
            ],
            [
             0.3333333333333333,
             "#31688e"
            ],
            [
             0.4444444444444444,
             "#26828e"
            ],
            [
             0.5555555555555556,
             "#1f9e89"
            ],
            [
             0.6666666666666666,
             "#35b779"
            ],
            [
             0.7777777777777778,
             "#6ece58"
            ],
            [
             0.8888888888888888,
             "#b5de2b"
            ],
            [
             1,
             "#fde725"
            ]
           ]
          },
          "colorway": [
           "#1F77B4",
           "#FF7F0E",
           "#2CA02C",
           "#D62728",
           "#9467BD",
           "#8C564B",
           "#E377C2",
           "#7F7F7F",
           "#BCBD22",
           "#17BECF"
          ],
          "font": {
           "color": "rgb(36,36,36)"
          },
          "geo": {
           "bgcolor": "white",
           "lakecolor": "white",
           "landcolor": "white",
           "showlakes": true,
           "showland": true,
           "subunitcolor": "white"
          },
          "hoverlabel": {
           "align": "left"
          },
          "hovermode": "closest",
          "mapbox": {
           "style": "light"
          },
          "paper_bgcolor": "white",
          "plot_bgcolor": "white",
          "polar": {
           "angularaxis": {
            "gridcolor": "rgb(232,232,232)",
            "linecolor": "rgb(36,36,36)",
            "showgrid": false,
            "showline": true,
            "ticks": "outside"
           },
           "bgcolor": "white",
           "radialaxis": {
            "gridcolor": "rgb(232,232,232)",
            "linecolor": "rgb(36,36,36)",
            "showgrid": false,
            "showline": true,
            "ticks": "outside"
           }
          },
          "scene": {
           "xaxis": {
            "backgroundcolor": "white",
            "gridcolor": "rgb(232,232,232)",
            "gridwidth": 2,
            "linecolor": "rgb(36,36,36)",
            "showbackground": true,
            "showgrid": false,
            "showline": true,
            "ticks": "outside",
            "zeroline": false,
            "zerolinecolor": "rgb(36,36,36)"
           },
           "yaxis": {
            "backgroundcolor": "white",
            "gridcolor": "rgb(232,232,232)",
            "gridwidth": 2,
            "linecolor": "rgb(36,36,36)",
            "showbackground": true,
            "showgrid": false,
            "showline": true,
            "ticks": "outside",
            "zeroline": false,
            "zerolinecolor": "rgb(36,36,36)"
           },
           "zaxis": {
            "backgroundcolor": "white",
            "gridcolor": "rgb(232,232,232)",
            "gridwidth": 2,
            "linecolor": "rgb(36,36,36)",
            "showbackground": true,
            "showgrid": false,
            "showline": true,
            "ticks": "outside",
            "zeroline": false,
            "zerolinecolor": "rgb(36,36,36)"
           }
          },
          "shapedefaults": {
           "fillcolor": "black",
           "line": {
            "width": 0
           },
           "opacity": 0.3
          },
          "ternary": {
           "aaxis": {
            "gridcolor": "rgb(232,232,232)",
            "linecolor": "rgb(36,36,36)",
            "showgrid": false,
            "showline": true,
            "ticks": "outside"
           },
           "baxis": {
            "gridcolor": "rgb(232,232,232)",
            "linecolor": "rgb(36,36,36)",
            "showgrid": false,
            "showline": true,
            "ticks": "outside"
           },
           "bgcolor": "white",
           "caxis": {
            "gridcolor": "rgb(232,232,232)",
            "linecolor": "rgb(36,36,36)",
            "showgrid": false,
            "showline": true,
            "ticks": "outside"
           }
          },
          "title": {
           "x": 0.05
          },
          "xaxis": {
           "automargin": true,
           "gridcolor": "rgb(232,232,232)",
           "linecolor": "rgb(36,36,36)",
           "showgrid": false,
           "showline": true,
           "ticks": "outside",
           "title": {
            "standoff": 15
           },
           "zeroline": false,
           "zerolinecolor": "rgb(36,36,36)"
          },
          "yaxis": {
           "automargin": true,
           "gridcolor": "rgb(232,232,232)",
           "linecolor": "rgb(36,36,36)",
           "showgrid": false,
           "showline": true,
           "ticks": "outside",
           "title": {
            "standoff": 15
           },
           "zeroline": false,
           "zerolinecolor": "rgb(36,36,36)"
          }
         }
        },
        "title": {
         "font": {
          "color": "Black",
          "size": 22
         },
         "text": "<b>Documents and Topics</b>",
         "x": 0.5,
         "xanchor": "center",
         "yanchor": "top"
        },
        "width": 1200,
        "xaxis": {
         "visible": false
        },
        "yaxis": {
         "visible": false
        }
       }
      }
     },
     "metadata": {},
     "output_type": "display_data"
    }
   ],
   "source": [
    "# Visualizar tópicos e documentos\n",
    "fig = topic_model.visualize_documents(\n",
    "    contents,\n",
    "    reduced_embeddings=reduced_embeddings,\n",
    "    width=1200,\n",
    "    hide_annotations=True\n",
    ")\n",
    "\n",
    "# Atualizar fontes da legenda para visualização mais fácil\n",
    "fig.update_layout(font=dict(size=16))"
   ]
  },
  {
   "cell_type": "code",
   "execution_count": 148,
   "id": "61ea3879",
   "metadata": {},
   "outputs": [
    {
     "data": {
      "application/vnd.plotly.v1+json": {
       "config": {
        "plotlyServerURL": "https://plot.ly"
       },
       "data": [
        {
         "hoverinfo": "text",
         "marker": {
          "color": "rgb(61,153,112)"
         },
         "mode": "lines",
         "type": "scatter",
         "x": {
          "bdata": "AAAAAAAAAADKMpvW+nPhP8oym9b6c+E/AAAAAAAAAAA=",
          "dtype": "f8"
         },
         "xaxis": "x",
         "y": {
          "bdata": "AAAAAAAAFMAAAAAAAAAUwAAAAAAAAC7AAAAAAAAALsA=",
          "dtype": "f8"
         },
         "yaxis": "y"
        },
        {
         "hoverinfo": "text",
         "marker": {
          "color": "rgb(61,153,112)"
         },
         "mode": "lines",
         "type": "scatter",
         "x": {
          "bdata": "AAAAAAAAAACSxXBSAMfYP5LFcFIAx9g/AAAAAAAAAAA=",
          "dtype": "f8"
         },
         "xaxis": "x",
         "y": {
          "bdata": "AAAAAACAQcAAAAAAAIBBwAAAAAAAgEbAAAAAAACARsA=",
          "dtype": "f8"
         },
         "yaxis": "y"
        },
        {
         "hoverinfo": "text",
         "marker": {
          "color": "rgb(61,153,112)"
         },
         "mode": "lines",
         "type": "scatter",
         "x": {
          "bdata": "ksVwUgDH2D8j5ZWQ/PDgPyPllZD88OA/AAAAAAAAAAA=",
          "dtype": "f8"
         },
         "xaxis": "x",
         "y": {
          "bdata": "AAAAAAAARMAAAAAAAABEwAAAAAAAgEvAAAAAAACAS8A=",
          "dtype": "f8"
         },
         "yaxis": "y"
        },
        {
         "hoverinfo": "text",
         "marker": {
          "color": "rgb(61,153,112)"
         },
         "mode": "lines",
         "type": "scatter",
         "x": {
          "bdata": "AAAAAAAAAADAQT743ijjP8BBPvjeKOM/I+WVkPzw4D8=",
          "dtype": "f8"
         },
         "xaxis": "x",
         "y": {
          "bdata": "AAAAAAAAOcAAAAAAAAA5wAAAAAAAwEfAAAAAAADAR8A=",
          "dtype": "f8"
         },
         "yaxis": "y"
        },
        {
         "hoverinfo": "text",
         "marker": {
          "color": "rgb(61,153,112)"
         },
         "mode": "lines",
         "type": "scatter",
         "x": {
          "bdata": "wEE++N4o4z/BmaXkNt3mP8GZpeQ23eY/AAAAAAAAAAA=",
          "dtype": "f8"
         },
         "xaxis": "x",
         "y": {
          "bdata": "AAAAAAAgQsAAAAAAACBCwAAAAAAAQFDAAAAAAABAUMA=",
          "dtype": "f8"
         },
         "yaxis": "y"
        },
        {
         "hoverinfo": "text",
         "marker": {
          "color": "rgb(61,153,112)"
         },
         "mode": "lines",
         "type": "scatter",
         "x": {
          "bdata": "yjKb1vpz4T8DWCaWGD7pPwNYJpYYPuk/wZml5Dbd5j8=",
          "dtype": "f8"
         },
         "xaxis": "x",
         "y": {
          "bdata": "AAAAAAAAJMAAAAAAAAAkwAAAAAAAUEnAAAAAAABQScA=",
          "dtype": "f8"
         },
         "yaxis": "y"
        }
       ],
       "layout": {
        "autosize": false,
        "height": 305,
        "hoverlabel": {
         "bgcolor": "white",
         "font": {
          "family": "Rockwell",
          "size": 16
         }
        },
        "hovermode": "closest",
        "plot_bgcolor": "#ECEFF1",
        "showlegend": false,
        "template": {
         "data": {
          "bar": [
           {
            "error_x": {
             "color": "#2a3f5f"
            },
            "error_y": {
             "color": "#2a3f5f"
            },
            "marker": {
             "line": {
              "color": "white",
              "width": 0.5
             },
             "pattern": {
              "fillmode": "overlay",
              "size": 10,
              "solidity": 0.2
             }
            },
            "type": "bar"
           }
          ],
          "barpolar": [
           {
            "marker": {
             "line": {
              "color": "white",
              "width": 0.5
             },
             "pattern": {
              "fillmode": "overlay",
              "size": 10,
              "solidity": 0.2
             }
            },
            "type": "barpolar"
           }
          ],
          "carpet": [
           {
            "aaxis": {
             "endlinecolor": "#2a3f5f",
             "gridcolor": "#C8D4E3",
             "linecolor": "#C8D4E3",
             "minorgridcolor": "#C8D4E3",
             "startlinecolor": "#2a3f5f"
            },
            "baxis": {
             "endlinecolor": "#2a3f5f",
             "gridcolor": "#C8D4E3",
             "linecolor": "#C8D4E3",
             "minorgridcolor": "#C8D4E3",
             "startlinecolor": "#2a3f5f"
            },
            "type": "carpet"
           }
          ],
          "choropleth": [
           {
            "colorbar": {
             "outlinewidth": 0,
             "ticks": ""
            },
            "type": "choropleth"
           }
          ],
          "contour": [
           {
            "colorbar": {
             "outlinewidth": 0,
             "ticks": ""
            },
            "colorscale": [
             [
              0,
              "#0d0887"
             ],
             [
              0.1111111111111111,
              "#46039f"
             ],
             [
              0.2222222222222222,
              "#7201a8"
             ],
             [
              0.3333333333333333,
              "#9c179e"
             ],
             [
              0.4444444444444444,
              "#bd3786"
             ],
             [
              0.5555555555555556,
              "#d8576b"
             ],
             [
              0.6666666666666666,
              "#ed7953"
             ],
             [
              0.7777777777777778,
              "#fb9f3a"
             ],
             [
              0.8888888888888888,
              "#fdca26"
             ],
             [
              1,
              "#f0f921"
             ]
            ],
            "type": "contour"
           }
          ],
          "contourcarpet": [
           {
            "colorbar": {
             "outlinewidth": 0,
             "ticks": ""
            },
            "type": "contourcarpet"
           }
          ],
          "heatmap": [
           {
            "colorbar": {
             "outlinewidth": 0,
             "ticks": ""
            },
            "colorscale": [
             [
              0,
              "#0d0887"
             ],
             [
              0.1111111111111111,
              "#46039f"
             ],
             [
              0.2222222222222222,
              "#7201a8"
             ],
             [
              0.3333333333333333,
              "#9c179e"
             ],
             [
              0.4444444444444444,
              "#bd3786"
             ],
             [
              0.5555555555555556,
              "#d8576b"
             ],
             [
              0.6666666666666666,
              "#ed7953"
             ],
             [
              0.7777777777777778,
              "#fb9f3a"
             ],
             [
              0.8888888888888888,
              "#fdca26"
             ],
             [
              1,
              "#f0f921"
             ]
            ],
            "type": "heatmap"
           }
          ],
          "histogram": [
           {
            "marker": {
             "pattern": {
              "fillmode": "overlay",
              "size": 10,
              "solidity": 0.2
             }
            },
            "type": "histogram"
           }
          ],
          "histogram2d": [
           {
            "colorbar": {
             "outlinewidth": 0,
             "ticks": ""
            },
            "colorscale": [
             [
              0,
              "#0d0887"
             ],
             [
              0.1111111111111111,
              "#46039f"
             ],
             [
              0.2222222222222222,
              "#7201a8"
             ],
             [
              0.3333333333333333,
              "#9c179e"
             ],
             [
              0.4444444444444444,
              "#bd3786"
             ],
             [
              0.5555555555555556,
              "#d8576b"
             ],
             [
              0.6666666666666666,
              "#ed7953"
             ],
             [
              0.7777777777777778,
              "#fb9f3a"
             ],
             [
              0.8888888888888888,
              "#fdca26"
             ],
             [
              1,
              "#f0f921"
             ]
            ],
            "type": "histogram2d"
           }
          ],
          "histogram2dcontour": [
           {
            "colorbar": {
             "outlinewidth": 0,
             "ticks": ""
            },
            "colorscale": [
             [
              0,
              "#0d0887"
             ],
             [
              0.1111111111111111,
              "#46039f"
             ],
             [
              0.2222222222222222,
              "#7201a8"
             ],
             [
              0.3333333333333333,
              "#9c179e"
             ],
             [
              0.4444444444444444,
              "#bd3786"
             ],
             [
              0.5555555555555556,
              "#d8576b"
             ],
             [
              0.6666666666666666,
              "#ed7953"
             ],
             [
              0.7777777777777778,
              "#fb9f3a"
             ],
             [
              0.8888888888888888,
              "#fdca26"
             ],
             [
              1,
              "#f0f921"
             ]
            ],
            "type": "histogram2dcontour"
           }
          ],
          "mesh3d": [
           {
            "colorbar": {
             "outlinewidth": 0,
             "ticks": ""
            },
            "type": "mesh3d"
           }
          ],
          "parcoords": [
           {
            "line": {
             "colorbar": {
              "outlinewidth": 0,
              "ticks": ""
             }
            },
            "type": "parcoords"
           }
          ],
          "pie": [
           {
            "automargin": true,
            "type": "pie"
           }
          ],
          "scatter": [
           {
            "fillpattern": {
             "fillmode": "overlay",
             "size": 10,
             "solidity": 0.2
            },
            "type": "scatter"
           }
          ],
          "scatter3d": [
           {
            "line": {
             "colorbar": {
              "outlinewidth": 0,
              "ticks": ""
             }
            },
            "marker": {
             "colorbar": {
              "outlinewidth": 0,
              "ticks": ""
             }
            },
            "type": "scatter3d"
           }
          ],
          "scattercarpet": [
           {
            "marker": {
             "colorbar": {
              "outlinewidth": 0,
              "ticks": ""
             }
            },
            "type": "scattercarpet"
           }
          ],
          "scattergeo": [
           {
            "marker": {
             "colorbar": {
              "outlinewidth": 0,
              "ticks": ""
             }
            },
            "type": "scattergeo"
           }
          ],
          "scattergl": [
           {
            "marker": {
             "colorbar": {
              "outlinewidth": 0,
              "ticks": ""
             }
            },
            "type": "scattergl"
           }
          ],
          "scattermap": [
           {
            "marker": {
             "colorbar": {
              "outlinewidth": 0,
              "ticks": ""
             }
            },
            "type": "scattermap"
           }
          ],
          "scattermapbox": [
           {
            "marker": {
             "colorbar": {
              "outlinewidth": 0,
              "ticks": ""
             }
            },
            "type": "scattermapbox"
           }
          ],
          "scatterpolar": [
           {
            "marker": {
             "colorbar": {
              "outlinewidth": 0,
              "ticks": ""
             }
            },
            "type": "scatterpolar"
           }
          ],
          "scatterpolargl": [
           {
            "marker": {
             "colorbar": {
              "outlinewidth": 0,
              "ticks": ""
             }
            },
            "type": "scatterpolargl"
           }
          ],
          "scatterternary": [
           {
            "marker": {
             "colorbar": {
              "outlinewidth": 0,
              "ticks": ""
             }
            },
            "type": "scatterternary"
           }
          ],
          "surface": [
           {
            "colorbar": {
             "outlinewidth": 0,
             "ticks": ""
            },
            "colorscale": [
             [
              0,
              "#0d0887"
             ],
             [
              0.1111111111111111,
              "#46039f"
             ],
             [
              0.2222222222222222,
              "#7201a8"
             ],
             [
              0.3333333333333333,
              "#9c179e"
             ],
             [
              0.4444444444444444,
              "#bd3786"
             ],
             [
              0.5555555555555556,
              "#d8576b"
             ],
             [
              0.6666666666666666,
              "#ed7953"
             ],
             [
              0.7777777777777778,
              "#fb9f3a"
             ],
             [
              0.8888888888888888,
              "#fdca26"
             ],
             [
              1,
              "#f0f921"
             ]
            ],
            "type": "surface"
           }
          ],
          "table": [
           {
            "cells": {
             "fill": {
              "color": "#EBF0F8"
             },
             "line": {
              "color": "white"
             }
            },
            "header": {
             "fill": {
              "color": "#C8D4E3"
             },
             "line": {
              "color": "white"
             }
            },
            "type": "table"
           }
          ]
         },
         "layout": {
          "annotationdefaults": {
           "arrowcolor": "#2a3f5f",
           "arrowhead": 0,
           "arrowwidth": 1
          },
          "autotypenumbers": "strict",
          "coloraxis": {
           "colorbar": {
            "outlinewidth": 0,
            "ticks": ""
           }
          },
          "colorscale": {
           "diverging": [
            [
             0,
             "#8e0152"
            ],
            [
             0.1,
             "#c51b7d"
            ],
            [
             0.2,
             "#de77ae"
            ],
            [
             0.3,
             "#f1b6da"
            ],
            [
             0.4,
             "#fde0ef"
            ],
            [
             0.5,
             "#f7f7f7"
            ],
            [
             0.6,
             "#e6f5d0"
            ],
            [
             0.7,
             "#b8e186"
            ],
            [
             0.8,
             "#7fbc41"
            ],
            [
             0.9,
             "#4d9221"
            ],
            [
             1,
             "#276419"
            ]
           ],
           "sequential": [
            [
             0,
             "#0d0887"
            ],
            [
             0.1111111111111111,
             "#46039f"
            ],
            [
             0.2222222222222222,
             "#7201a8"
            ],
            [
             0.3333333333333333,
             "#9c179e"
            ],
            [
             0.4444444444444444,
             "#bd3786"
            ],
            [
             0.5555555555555556,
             "#d8576b"
            ],
            [
             0.6666666666666666,
             "#ed7953"
            ],
            [
             0.7777777777777778,
             "#fb9f3a"
            ],
            [
             0.8888888888888888,
             "#fdca26"
            ],
            [
             1,
             "#f0f921"
            ]
           ],
           "sequentialminus": [
            [
             0,
             "#0d0887"
            ],
            [
             0.1111111111111111,
             "#46039f"
            ],
            [
             0.2222222222222222,
             "#7201a8"
            ],
            [
             0.3333333333333333,
             "#9c179e"
            ],
            [
             0.4444444444444444,
             "#bd3786"
            ],
            [
             0.5555555555555556,
             "#d8576b"
            ],
            [
             0.6666666666666666,
             "#ed7953"
            ],
            [
             0.7777777777777778,
             "#fb9f3a"
            ],
            [
             0.8888888888888888,
             "#fdca26"
            ],
            [
             1,
             "#f0f921"
            ]
           ]
          },
          "colorway": [
           "#636efa",
           "#EF553B",
           "#00cc96",
           "#ab63fa",
           "#FFA15A",
           "#19d3f3",
           "#FF6692",
           "#B6E880",
           "#FF97FF",
           "#FECB52"
          ],
          "font": {
           "color": "#2a3f5f"
          },
          "geo": {
           "bgcolor": "white",
           "lakecolor": "white",
           "landcolor": "white",
           "showlakes": true,
           "showland": true,
           "subunitcolor": "#C8D4E3"
          },
          "hoverlabel": {
           "align": "left"
          },
          "hovermode": "closest",
          "mapbox": {
           "style": "light"
          },
          "paper_bgcolor": "white",
          "plot_bgcolor": "white",
          "polar": {
           "angularaxis": {
            "gridcolor": "#EBF0F8",
            "linecolor": "#EBF0F8",
            "ticks": ""
           },
           "bgcolor": "white",
           "radialaxis": {
            "gridcolor": "#EBF0F8",
            "linecolor": "#EBF0F8",
            "ticks": ""
           }
          },
          "scene": {
           "xaxis": {
            "backgroundcolor": "white",
            "gridcolor": "#DFE8F3",
            "gridwidth": 2,
            "linecolor": "#EBF0F8",
            "showbackground": true,
            "ticks": "",
            "zerolinecolor": "#EBF0F8"
           },
           "yaxis": {
            "backgroundcolor": "white",
            "gridcolor": "#DFE8F3",
            "gridwidth": 2,
            "linecolor": "#EBF0F8",
            "showbackground": true,
            "ticks": "",
            "zerolinecolor": "#EBF0F8"
           },
           "zaxis": {
            "backgroundcolor": "white",
            "gridcolor": "#DFE8F3",
            "gridwidth": 2,
            "linecolor": "#EBF0F8",
            "showbackground": true,
            "ticks": "",
            "zerolinecolor": "#EBF0F8"
           }
          },
          "shapedefaults": {
           "line": {
            "color": "#2a3f5f"
           }
          },
          "ternary": {
           "aaxis": {
            "gridcolor": "#DFE8F3",
            "linecolor": "#A2B1C6",
            "ticks": ""
           },
           "baxis": {
            "gridcolor": "#DFE8F3",
            "linecolor": "#A2B1C6",
            "ticks": ""
           },
           "bgcolor": "white",
           "caxis": {
            "gridcolor": "#DFE8F3",
            "linecolor": "#A2B1C6",
            "ticks": ""
           }
          },
          "title": {
           "x": 0.05
          },
          "xaxis": {
           "automargin": true,
           "gridcolor": "#EBF0F8",
           "linecolor": "#EBF0F8",
           "ticks": "",
           "title": {
            "standoff": 15
           },
           "zerolinecolor": "#EBF0F8",
           "zerolinewidth": 2
          },
          "yaxis": {
           "automargin": true,
           "gridcolor": "#EBF0F8",
           "linecolor": "#EBF0F8",
           "ticks": "",
           "title": {
            "standoff": 15
           },
           "zerolinecolor": "#EBF0F8",
           "zerolinewidth": 2
          }
         }
        },
        "title": {
         "font": {
          "color": "Black",
          "size": 22
         },
         "text": "<b>Hierarchical Clustering</b>",
         "x": 0.5,
         "xanchor": "center",
         "yanchor": "top"
        },
        "width": 1000,
        "xaxis": {
         "mirror": "allticks",
         "rangemode": "tozero",
         "showgrid": false,
         "showline": true,
         "showticklabels": true,
         "ticks": "outside",
         "type": "linear",
         "zeroline": false
        },
        "yaxis": {
         "mirror": "allticks",
         "range": [
          -70,
          0
         ],
         "rangemode": "tozero",
         "showgrid": false,
         "showline": true,
         "showticklabels": true,
         "tickmode": "array",
         "ticks": "outside",
         "ticktext": [
          "5_de_renda_um",
          "6_fundos_investidor_de",
          "1_de_com_do",
          "2_de_do_que",
          "0_de_que_os",
          "3_de_em_no",
          "4_de_vibra_da"
         ],
         "tickvals": [
          -5,
          -15,
          -25,
          -35,
          -45,
          -55,
          -65
         ],
         "type": "linear",
         "zeroline": false
        }
       }
      }
     },
     "metadata": {},
     "output_type": "display_data"
    }
   ],
   "source": [
    "# Visualizar gráfico de barras com palavras-chave ranqueadas\n",
    "topic_model.visualize_barchart()\n",
    "\n",
    "# Visualizar relacionamentos entre tópicos\n",
    "topic_model.visualize_heatmap(n_clusters=6)\n",
    "\n",
    "# Visualizar a estrutura hierárquica potencial dos tópicos\n",
    "topic_model.visualize_hierarchy()"
   ]
  },
  {
   "cell_type": "markdown",
   "id": "5ceddfa4",
   "metadata": {},
   "source": [
    "# Adicionando modelos de representação"
   ]
  },
  {
   "cell_type": "code",
   "execution_count": 149,
   "id": "1447f27f",
   "metadata": {},
   "outputs": [],
   "source": [
    "# Salvar representações originais\n",
    "from copy import deepcopy\n",
    "original_topics = deepcopy(topic_model.topic_representations_)"
   ]
  },
  {
   "cell_type": "code",
   "execution_count": 150,
   "id": "89543dff",
   "metadata": {},
   "outputs": [],
   "source": [
    "import pandas as pd\n",
    "\n",
    "def topic_differences(model, original_topics, nr_topics=5):\n",
    "    \"\"\"Mostrar as diferenças nas representações de tópicos entre dois modelos\"\"\"\n",
    "    df = pd.DataFrame(columns=[\"Topic\", \"Original\", \"Updated\"])\n",
    "    for topic in range(nr_topics):\n",
    "        # Extrair as 5 principais palavras por tópico por modelo\n",
    "        og_words = \" | \".join(list(zip(*original_topics[topic]))[0][:5])\n",
    "        new_words = \" | \".join(list(zip(*model.get_topic(topic)))[0][:5])\n",
    "        df.loc[len(df)] = [topic, og_words, new_words]\n",
    "    \n",
    "    return df"
   ]
  },
  {
   "cell_type": "code",
   "execution_count": 151,
   "id": "185cea59",
   "metadata": {},
   "outputs": [
    {
     "data": {
      "text/html": [
       "<div>\n",
       "<style scoped>\n",
       "    .dataframe tbody tr th:only-of-type {\n",
       "        vertical-align: middle;\n",
       "    }\n",
       "\n",
       "    .dataframe tbody tr th {\n",
       "        vertical-align: top;\n",
       "    }\n",
       "\n",
       "    .dataframe thead th {\n",
       "        text-align: right;\n",
       "    }\n",
       "</style>\n",
       "<table border=\"1\" class=\"dataframe\">\n",
       "  <thead>\n",
       "    <tr style=\"text-align: right;\">\n",
       "      <th></th>\n",
       "      <th>Topic</th>\n",
       "      <th>Original</th>\n",
       "      <th>Updated</th>\n",
       "    </tr>\n",
       "  </thead>\n",
       "  <tbody>\n",
       "    <tr>\n",
       "      <th>0</th>\n",
       "      <td>0</td>\n",
       "      <td>de | que | os | em | uma</td>\n",
       "      <td>traders | mystic | texas | eua | amber</td>\n",
       "    </tr>\n",
       "    <tr>\n",
       "      <th>1</th>\n",
       "      <td>1</td>\n",
       "      <td>de | com | do | em | pontos</td>\n",
       "      <td>ibovespa | shoppings | em142 | em143 | oifr</td>\n",
       "    </tr>\n",
       "    <tr>\n",
       "      <th>2</th>\n",
       "      <td>2</td>\n",
       "      <td>de | do | que | da | em</td>\n",
       "      <td>cazétv | pilgrim | tv | paulo | fhc</td>\n",
       "    </tr>\n",
       "    <tr>\n",
       "      <th>3</th>\n",
       "      <td>3</td>\n",
       "      <td>de | em | no | na | do</td>\n",
       "      <td>fluminense | chelsea | ufrj | paulo | guarulhos</td>\n",
       "    </tr>\n",
       "    <tr>\n",
       "      <th>4</th>\n",
       "      <td>4</td>\n",
       "      <td>de | vibra | da | natura | que</td>\n",
       "      <td>societário | etanol | reuters | bdr | chairman</td>\n",
       "    </tr>\n",
       "  </tbody>\n",
       "</table>\n",
       "</div>"
      ],
      "text/plain": [
       "   Topic                        Original  \\\n",
       "0      0        de | que | os | em | uma   \n",
       "1      1     de | com | do | em | pontos   \n",
       "2      2         de | do | que | da | em   \n",
       "3      3          de | em | no | na | do   \n",
       "4      4  de | vibra | da | natura | que   \n",
       "\n",
       "                                           Updated  \n",
       "0           traders | mystic | texas | eua | amber  \n",
       "1      ibovespa | shoppings | em142 | em143 | oifr  \n",
       "2              cazétv | pilgrim | tv | paulo | fhc  \n",
       "3  fluminense | chelsea | ufrj | paulo | guarulhos  \n",
       "4   societário | etanol | reuters | bdr | chairman  "
      ]
     },
     "execution_count": 151,
     "metadata": {},
     "output_type": "execute_result"
    }
   ],
   "source": [
    "from bertopic.representation import KeyBERTInspired\n",
    "\n",
    "# Atualizar representações de tópicos usando KeyBERTInspired\n",
    "representation_model = KeyBERTInspired()\n",
    "topic_model.update_topics(contents, representation_model=representation_model)\n",
    "\n",
    "# Mostrar diferenças de tópicos\n",
    "topic_differences(topic_model, original_topics)"
   ]
  },
  {
   "cell_type": "markdown",
   "id": "c1ce7ea8",
   "metadata": {},
   "source": [
    "Para o refinamento dos tópicos, foi utilizado o modelo KeyBERTInspired, que melhorou significativamente a coerência e a interpretabilidade das representações. \n",
    "\n",
    "O funcionamento do KeyBERTInspired é um processo de refinamento que começa com as palavras-chave já identificadas pelo c-TF-IDF. Primeiramente, o modelo trata todos os documentos de um tópico como um texto único e contínuo, gerando um vetor de embedding que representa o significado semântico central do tópico como um todo. Paralelamente, ele cria um vetor de embedding para cada uma dessas palavras candidatas. A etapa seguinte é a comparação, onde o modelo utiliza a similaridade de cosseno para medir a distância semântica entre o vetor do tópico e o vetor de cada palavra. As palavras cujos vetores se mostram mais próximos ao vetor geral do tópico são, então, selecionadas e ranqueadas para formar a nova e mais coerente representação.\n",
    "\n",
    "No entanto, foi identificada uma limitação em seu comportamento: o modelo tende a ignorar ou sub-representar termos específicos como siglas."
   ]
  },
  {
   "cell_type": "code",
   "execution_count": 152,
   "id": "6d1d44d4",
   "metadata": {},
   "outputs": [
    {
     "data": {
      "text/html": [
       "<div>\n",
       "<style scoped>\n",
       "    .dataframe tbody tr th:only-of-type {\n",
       "        vertical-align: middle;\n",
       "    }\n",
       "\n",
       "    .dataframe tbody tr th {\n",
       "        vertical-align: top;\n",
       "    }\n",
       "\n",
       "    .dataframe thead th {\n",
       "        text-align: right;\n",
       "    }\n",
       "</style>\n",
       "<table border=\"1\" class=\"dataframe\">\n",
       "  <thead>\n",
       "    <tr style=\"text-align: right;\">\n",
       "      <th></th>\n",
       "      <th>Topic</th>\n",
       "      <th>Original</th>\n",
       "      <th>Updated</th>\n",
       "    </tr>\n",
       "  </thead>\n",
       "  <tbody>\n",
       "    <tr>\n",
       "      <th>0</th>\n",
       "      <td>0</td>\n",
       "      <td>de | que | os | em | uma</td>\n",
       "      <td>que | os | para | do | não</td>\n",
       "    </tr>\n",
       "    <tr>\n",
       "      <th>1</th>\n",
       "      <td>1</td>\n",
       "      <td>de | com | do | em | pontos</td>\n",
       "      <td>do | que | períodos | para | alta</td>\n",
       "    </tr>\n",
       "    <tr>\n",
       "      <th>2</th>\n",
       "      <td>2</td>\n",
       "      <td>de | do | que | da | em</td>\n",
       "      <td>do | não | para | uma | xp</td>\n",
       "    </tr>\n",
       "    <tr>\n",
       "      <th>3</th>\n",
       "      <td>3</td>\n",
       "      <td>de | em | no | na | do</td>\n",
       "      <td>do | da | os | polícia | apreendidos</td>\n",
       "    </tr>\n",
       "    <tr>\n",
       "      <th>4</th>\n",
       "      <td>4</td>\n",
       "      <td>de | vibra | da | natura | que</td>\n",
       "      <td>vibra | natura | inpasa | feira | empresa</td>\n",
       "    </tr>\n",
       "  </tbody>\n",
       "</table>\n",
       "</div>"
      ],
      "text/plain": [
       "   Topic                        Original  \\\n",
       "0      0        de | que | os | em | uma   \n",
       "1      1     de | com | do | em | pontos   \n",
       "2      2         de | do | que | da | em   \n",
       "3      3          de | em | no | na | do   \n",
       "4      4  de | vibra | da | natura | que   \n",
       "\n",
       "                                     Updated  \n",
       "0                 que | os | para | do | não  \n",
       "1          do | que | períodos | para | alta  \n",
       "2                 do | não | para | uma | xp  \n",
       "3       do | da | os | polícia | apreendidos  \n",
       "4  vibra | natura | inpasa | feira | empresa  "
      ]
     },
     "execution_count": 152,
     "metadata": {},
     "output_type": "execute_result"
    }
   ],
   "source": [
    "from bertopic.representation import MaximalMarginalRelevance\n",
    "\n",
    "# Atualizar nossas representações de tópicos para MaximalMarginalRelevance\n",
    "representation_model = MaximalMarginalRelevance(diversity=0.2)\n",
    "topic_model.update_topics(contents, representation_model=representation_model)\n",
    "\n",
    "# Mostrar diferenças de tópicos\n",
    "topic_differences(topic_model, original_topics)"
   ]
  },
  {
   "cell_type": "markdown",
   "id": "8b7939ed",
   "metadata": {},
   "source": [
    "O método Maximal Marginal Relevance (MMR) é utilizado no BERTopic como um modelo de representação (ou reranker) para diversificar as representações dos tópicos que foram inicialmente geradas por c-TF-IDF. O BERTopic, sendo um framework modular, permite a integração desses \"blocos Lego especiais\" para aprimorar as representações de tópico\n",
    "\n",
    "Mecanismo de Seleção:\n",
    "\n",
    "1. O algoritmo começa com um conjunto inicial de palavras-chave candidatas (por exemplo, 30 palavras-chave).\n",
    "\n",
    "2. Ele calcula os embeddings dessas palavras-chave candidatas.\n",
    "\n",
    "3. Em seguida, ele seleciona iterativamente a próxima melhor palavra-chave a ser adicionada ao conjunto final, considerando tanto sua relevância para o tópico quanto sua diversidade em relação às palavras-chave já selecionadas.\n",
    "\n",
    "4. Isso significa que o MMR filtra palavras redundantes e mantém apenas aquelas que contribuem com algo novo para a representação do tópico"
   ]
  }
 ],
 "metadata": {
  "kernelspec": {
   "display_name": "llm_ambiente",
   "language": "python",
   "name": "python3"
  },
  "language_info": {
   "codemirror_mode": {
    "name": "ipython",
    "version": 3
   },
   "file_extension": ".py",
   "mimetype": "text/x-python",
   "name": "python",
   "nbconvert_exporter": "python",
   "pygments_lexer": "ipython3",
   "version": "3.12.7"
  }
 },
 "nbformat": 4,
 "nbformat_minor": 5
}
